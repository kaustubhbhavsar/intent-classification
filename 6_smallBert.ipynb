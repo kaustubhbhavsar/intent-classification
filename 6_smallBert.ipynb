{
  "nbformat": 4,
  "nbformat_minor": 0,
  "metadata": {
    "colab": {
      "provenance": []
    },
    "kernelspec": {
      "name": "python3",
      "display_name": "Python 3"
    },
    "language_info": {
      "name": "python"
    },
    "gpuClass": "standard",
    "accelerator": "GPU"
  },
  "cells": [
    {
      "cell_type": "markdown",
      "source": [
        "AIM: To perform intent classification using small BERT."
      ],
      "metadata": {
        "id": "i2fv8bOaoXtW"
      }
    },
    {
      "cell_type": "code",
      "source": [
        "# install required libraries\n",
        "# dependency of the preprocessing for BERT inputs\n",
        "print('installing tensorflow-text library...')\n",
        "!pip install -q -U \"tensorflow-text==2.8.*\"\n",
        "print('tensorflow-text library installation complete...')"
      ],
      "metadata": {
        "colab": {
          "base_uri": "https://localhost:8080/"
        },
        "id": "ShegztWQKO3X",
        "outputId": "38a7f190-7733-47a9-945d-2d6640928425"
      },
      "execution_count": null,
      "outputs": [
        {
          "output_type": "stream",
          "name": "stdout",
          "text": [
            "installing tensorflow-text library...\n",
            "\u001b[K     |████████████████████████████████| 4.9 MB 42.1 MB/s \n",
            "\u001b[K     |████████████████████████████████| 498.0 MB 12 kB/s \n",
            "\u001b[K     |████████████████████████████████| 5.8 MB 68.3 MB/s \n",
            "\u001b[K     |████████████████████████████████| 1.4 MB 63.6 MB/s \n",
            "\u001b[K     |████████████████████████████████| 462 kB 67.7 MB/s \n",
            "\u001b[?25htensorflow-text library installation complete...\n"
          ]
        }
      ]
    },
    {
      "cell_type": "code",
      "execution_count": null,
      "metadata": {
        "id": "u-fY0v8Onsb9"
      },
      "outputs": [],
      "source": [
        "# import libraries\n",
        "from google.colab import drive\n",
        "import os\n",
        "\n",
        "import tensorflow as tf\n",
        "from tensorflow.keras import layers\n",
        "import tensorflow_hub as hub\n",
        "import tensorflow_text as text\n",
        "\n",
        "from sklearn import preprocessing\n",
        "import matplotlib.pyplot as plt\n",
        "import pandas as pd\n",
        "import numpy as np"
      ]
    },
    {
      "cell_type": "code",
      "source": [
        "# mount google drive and connect working directory\n",
        "drive.mount('/content/gdrive', force_remount = True)\n",
        "print (sorted(os.listdir('gdrive/My Drive/Colab Helper/ICData/Dataset')))\n",
        "os.chdir('gdrive/My Drive/Colab Helper/ICData/Dataset') # Connect to the directory"
      ],
      "metadata": {
        "colab": {
          "base_uri": "https://localhost:8080/"
        },
        "id": "uL4CPprgorGN",
        "outputId": "f783b536-d644-41bb-9d22-891197addaa8"
      },
      "execution_count": null,
      "outputs": [
        {
          "output_type": "stream",
          "name": "stdout",
          "text": [
            "Mounted at /content/gdrive\n",
            "['data_file.csv', 'glove.6B.100d.txt', 'glove.6B.50d.txt', 'model', 'model.png', 'saved_model', 'test_.csv', 'train_.csv', 'valid_.csv']\n"
          ]
        }
      ]
    },
    {
      "cell_type": "code",
      "source": [
        "# read train file and print it's shape\n",
        "traindf = pd.read_csv('train_.csv', usecols=['text','intent'])\n",
        "testdf = pd.read_csv('test_.csv', usecols=['text','intent'])\n",
        "validdf = pd.read_csv('valid_.csv', usecols=['text','intent'])\n",
        "\n",
        "print('Train Shape: ', traindf.shape)\n",
        "print('Test Shape: ', testdf.shape)\n",
        "print('Valid Shape: ', validdf.shape)"
      ],
      "metadata": {
        "colab": {
          "base_uri": "https://localhost:8080/"
        },
        "id": "IbRPziQBosdj",
        "outputId": "cd7c4680-5f55-4d2f-c308-7900bc05cbd8"
      },
      "execution_count": null,
      "outputs": [
        {
          "output_type": "stream",
          "name": "stdout",
          "text": [
            "Train Shape:  (9951, 2)\n",
            "Test Shape:  (1280, 2)\n",
            "Valid Shape:  (2985, 2)\n"
          ]
        }
      ]
    },
    {
      "cell_type": "markdown",
      "source": [
        "Observation:\n",
        "\n",
        "1.   No NULL value present."
      ],
      "metadata": {
        "id": "M8tlwyUvowd-"
      }
    },
    {
      "cell_type": "code",
      "source": [
        "# NULL value presence check\n",
        "print('NULL values: ', traindf['text'].isnull().sum())"
      ],
      "metadata": {
        "id": "2y0KcCuiovtk",
        "colab": {
          "base_uri": "https://localhost:8080/"
        },
        "outputId": "b90bf32b-2384-4ee0-9c35-14d98073cac3"
      },
      "execution_count": null,
      "outputs": [
        {
          "output_type": "stream",
          "name": "stdout",
          "text": [
            "NULL values:  0\n"
          ]
        }
      ]
    },
    {
      "cell_type": "markdown",
      "source": [
        "Observation:\n",
        "\n",
        "1.   Texts may not require a lot of text cleaning."
      ],
      "metadata": {
        "id": "4aNponEIo1m6"
      }
    },
    {
      "cell_type": "code",
      "source": [
        "# display first 10 rows\n",
        "print('First 10 rows:\\n', traindf.head(10))"
      ],
      "metadata": {
        "id": "C49vJGUMo1OD",
        "colab": {
          "base_uri": "https://localhost:8080/"
        },
        "outputId": "4ecd0a93-a90f-4e5e-bc90-4b7448010b72"
      },
      "execution_count": null,
      "outputs": [
        {
          "output_type": "stream",
          "name": "stdout",
          "text": [
            "First 10 rows:\n",
            "                                                 text              intent\n",
            "0                          find under night in-birth  SearchCreativeWork\n",
            "1         book a spot in town in the same area as me      BookRestaurant\n",
            "2                                         fimd glory  SearchCreativeWork\n",
            "3       i need a restaurant on july 18th in rose bud      BookRestaurant\n",
            "4  book a spot for 4 in oklahoma at south street ...      BookRestaurant\n",
            "5  i need to know what the weather will be like i...          GetWeather\n",
            "6  book a bistro in new zealand in 119 and a half...      BookRestaurant\n",
            "7           need a table for nine in east prairie la      BookRestaurant\n",
            "8  book a table for mindy and angelita at a resta...      BookRestaurant\n",
            "9  find me a table for two at seven somewhere in ...      BookRestaurant\n"
          ]
        }
      ]
    },
    {
      "cell_type": "markdown",
      "source": [
        "**Process Inputs**"
      ],
      "metadata": {
        "id": "SbFO_bqsdnyu"
      }
    },
    {
      "cell_type": "code",
      "source": [
        "# label encode\n",
        "label_encoder = preprocessing.LabelEncoder()\n",
        "label_encoder.fit(traindf['intent']) # fit label encoder\n",
        "print('Label Encoder Classes: ', label_encoder.classes_)\n",
        "\n",
        "# transform labels\n",
        "traindf['intent'] = label_encoder.transform(traindf['intent'])\n",
        "testdf['intent'] = label_encoder.transform(testdf['intent'])\n",
        "validdf['intent'] = label_encoder.transform(validdf['intent'])"
      ],
      "metadata": {
        "id": "MC_W0lhd4EcK",
        "colab": {
          "base_uri": "https://localhost:8080/"
        },
        "outputId": "44795a15-63fa-4987-e92d-9f32cd07c278"
      },
      "execution_count": null,
      "outputs": [
        {
          "output_type": "stream",
          "name": "stdout",
          "text": [
            "Label Encoder Classes:  ['AddToPlaylist' 'BookRestaurant' 'GetWeather' 'PlayMusic' 'RateBook'\n",
            " 'SearchCreativeWork' 'SearchScreeningEvent']\n"
          ]
        }
      ]
    },
    {
      "cell_type": "code",
      "source": [
        "# convert model input data to arrays\n",
        "x_train = np.array([np.array(val) for val in traindf['text']])\n",
        "x_val = np.array([np.array(val) for val in validdf['text']])\n",
        "\n",
        "y_train = np.array([np.array(val) for val in traindf['intent']])\n",
        "y_val = np.array([np.array(val) for val in validdf['intent']])"
      ],
      "metadata": {
        "id": "3agWaghCEeCp"
      },
      "execution_count": null,
      "outputs": []
    },
    {
      "cell_type": "markdown",
      "source": [
        "**Define Model and Preprocessor**"
      ],
      "metadata": {
        "id": "-4a1icJAo_X0"
      }
    },
    {
      "cell_type": "code",
      "source": [
        "# get model and it's preprocessor URL\n",
        "tfhub_handle_encoder = \"https://tfhub.dev/tensorflow/small_bert/bert_en_uncased_L-2_H-128_A-2/1\" # model\n",
        "tfhub_handle_preprocess = \"https://tfhub.dev/tensorflow/bert_en_uncased_preprocess/3\" # preprocesser\n",
        "\n",
        "print('BERT model selected           : {}'.format(tfhub_handle_encoder))\n",
        "print('Preprocess model auto-selected: {}'.format(tfhub_handle_preprocess))"
      ],
      "metadata": {
        "colab": {
          "base_uri": "https://localhost:8080/"
        },
        "id": "jOCI3S0eI65g",
        "outputId": "4e45b768-37b2-4b92-efe1-341226efa6e5"
      },
      "execution_count": null,
      "outputs": [
        {
          "output_type": "stream",
          "name": "stdout",
          "text": [
            "BERT model selected           : https://tfhub.dev/tensorflow/small_bert/bert_en_uncased_L-2_H-128_A-2/1\n",
            "Preprocess model auto-selected: https://tfhub.dev/tensorflow/bert_en_uncased_preprocess/3\n"
          ]
        }
      ]
    },
    {
      "cell_type": "markdown",
      "source": [
        "**Model Training**"
      ],
      "metadata": {
        "id": "DjFmAMQxbJc0"
      }
    },
    {
      "cell_type": "code",
      "source": [
        "# model definition\n",
        "# bert layers\n",
        "preprocessing_layer = hub.KerasLayer(tfhub_handle_preprocess, name='preprocessing') # preprocesser for bert\n",
        "encoder = hub.KerasLayer(tfhub_handle_encoder, trainable=True, name='BERT_encoder') # bert model\n",
        "\n",
        "# using bert layers on input\n",
        "text_input = tf.keras.layers.Input(shape=(), dtype=tf.string, name='text_input') # input\n",
        "encoder_inputs = preprocessing_layer(text_input) \n",
        "outputs = encoder(encoder_inputs)\n",
        "\n",
        "# neural network layers\n",
        "net = outputs['pooled_output']\n",
        "net = tf.keras.layers.Dropout(0.2)(net)\n",
        "net = tf.keras.layers.Dense(7, activation='softmax', name='classifier')(net)\n",
        "\n",
        "# using inputs and outputs to construct a final model\n",
        "model = tf.keras.Model(inputs=text_input, outputs=net)\n",
        "\n",
        "# model name and summary\n",
        "model._name = 'SmallBERTuncased'\n",
        "model.summary()"
      ],
      "metadata": {
        "id": "1Mj_tyn-Jf3t",
        "colab": {
          "base_uri": "https://localhost:8080/"
        },
        "outputId": "eafb5144-5689-4d92-f34b-3c1a7b310b42"
      },
      "execution_count": null,
      "outputs": [
        {
          "output_type": "stream",
          "name": "stdout",
          "text": [
            "Model: \"SmallBERTuncased\"\n",
            "__________________________________________________________________________________________________\n",
            " Layer (type)                   Output Shape         Param #     Connected to                     \n",
            "==================================================================================================\n",
            " text_input (InputLayer)        [(None,)]            0           []                               \n",
            "                                                                                                  \n",
            " preprocessing (KerasLayer)     {'input_mask': (Non  0           ['text_input[0][0]']             \n",
            "                                e, 128),                                                          \n",
            "                                 'input_type_ids':                                                \n",
            "                                (None, 128),                                                      \n",
            "                                 'input_word_ids':                                                \n",
            "                                (None, 128)}                                                      \n",
            "                                                                                                  \n",
            " BERT_encoder (KerasLayer)      {'pooled_output': (  4385921     ['preprocessing[0][0]',          \n",
            "                                None, 128),                       'preprocessing[0][1]',          \n",
            "                                 'encoder_outputs':               'preprocessing[0][2]']          \n",
            "                                 [(None, 128, 128),                                               \n",
            "                                 (None, 128, 128)],                                               \n",
            "                                 'sequence_output':                                               \n",
            "                                 (None, 128, 128),                                                \n",
            "                                 'default': (None,                                                \n",
            "                                128)}                                                             \n",
            "                                                                                                  \n",
            " dropout (Dropout)              (None, 128)          0           ['BERT_encoder[0][3]']           \n",
            "                                                                                                  \n",
            " classifier (Dense)             (None, 7)            903         ['dropout[0][0]']                \n",
            "                                                                                                  \n",
            "==================================================================================================\n",
            "Total params: 4,386,824\n",
            "Trainable params: 4,386,823\n",
            "Non-trainable params: 1\n",
            "__________________________________________________________________________________________________\n"
          ]
        }
      ]
    },
    {
      "cell_type": "code",
      "source": [
        "# model compile\n",
        "model.compile(loss='sparse_categorical_crossentropy',\n",
        "              optimizer='adam',\n",
        "              metrics='accuracy')\n",
        "\n",
        "# model training\n",
        "epochs = 5\n",
        "%time history = model.fit(x_train, y_train, validation_data=(x_val, y_val), epochs=epochs)"
      ],
      "metadata": {
        "colab": {
          "base_uri": "https://localhost:8080/"
        },
        "id": "eTcA1h9GwUzr",
        "outputId": "9f9a18e9-2119-4160-85b7-86d4b07f30bd"
      },
      "execution_count": null,
      "outputs": [
        {
          "output_type": "stream",
          "name": "stdout",
          "text": [
            "Epoch 1/5\n",
            "311/311 [==============================] - 37s 104ms/step - loss: 0.2069 - accuracy: 0.9375 - val_loss: 0.0826 - val_accuracy: 0.9762\n",
            "Epoch 2/5\n",
            "311/311 [==============================] - 29s 93ms/step - loss: 0.0871 - accuracy: 0.9758 - val_loss: 0.0841 - val_accuracy: 0.9782\n",
            "Epoch 3/5\n",
            "311/311 [==============================] - 28s 91ms/step - loss: 0.0611 - accuracy: 0.9845 - val_loss: 0.1015 - val_accuracy: 0.9725\n",
            "Epoch 4/5\n",
            "311/311 [==============================] - 28s 91ms/step - loss: 0.0628 - accuracy: 0.9844 - val_loss: 0.1001 - val_accuracy: 0.9735\n",
            "Epoch 5/5\n",
            "311/311 [==============================] - 31s 98ms/step - loss: 0.0437 - accuracy: 0.9885 - val_loss: 0.1214 - val_accuracy: 0.9712\n",
            "CPU times: user 3min 6s, sys: 34.1 s, total: 3min 40s\n",
            "Wall time: 2min 33s\n"
          ]
        }
      ]
    },
    {
      "cell_type": "code",
      "source": [
        "# plot the graphs\n",
        "history_dict = history.history # dictionary of result values\n",
        "epochs = range(1, len(history_dict['accuracy']) + 1) # number of epochs\n",
        "\n",
        "# plot for loss\n",
        "plt.plot(epochs, history_dict['loss'], 'bo', label='Training loss')\n",
        "plt.plot(epochs, history_dict['val_loss'], 'b', label='Validation loss')\n",
        "plt.title('Training and validation loss')\n",
        "plt.xlabel('Epochs')\n",
        "plt.ylabel('Loss')\n",
        "plt.legend()\n",
        "plt.show()\n",
        "\n",
        "# plot for accuracy\n",
        "plt.plot(epochs, history_dict['accuracy'], 'bo', label='Training acc')\n",
        "plt.plot(epochs, history_dict['val_accuracy'], 'b', label='Validation acc')\n",
        "plt.title('Training and validation accuracy')\n",
        "plt.xlabel('Epochs')\n",
        "plt.ylabel('Accuracy')\n",
        "plt.legend(loc='lower right')\n",
        "plt.show()"
      ],
      "metadata": {
        "colab": {
          "base_uri": "https://localhost:8080/",
          "height": 573
        },
        "id": "VA8DK2ENzwND",
        "outputId": "750bdf8e-b0b1-49b3-9601-128588492d0f"
      },
      "execution_count": null,
      "outputs": [
        {
          "output_type": "display_data",
          "data": {
            "text/plain": [
              "<Figure size 432x288 with 1 Axes>"
            ],
            "image/png": "[encoded data removed]"
          },
          "metadata": {
            "needs_background": "light"
          }
        },
        {
          "output_type": "display_data",
          "data": {
            "text/plain": [
              "<Figure size 432x288 with 1 Axes>"
            ],
            "image/png": "[encoded data removed]"
          },
          "metadata": {
            "needs_background": "light"
          }
        }
      ]
    },
    {
      "cell_type": "markdown",
      "source": [
        "**Evaluate Model**"
      ],
      "metadata": {
        "id": "Lqi80zysdVyY"
      }
    },
    {
      "cell_type": "code",
      "source": [
        "# evaluate model on test dataset\n",
        "x_test = np.array([np.array(val) for val in testdf['text']])\n",
        "y_test = np.array([np.array(val) for val in testdf['intent']])\n",
        "# model evaluation\n",
        "print('Model Evaluation on Test Set:')\n",
        "loss, accuracy = model.evaluate(x_test, y_test)\n",
        "print(\"Loss: \", loss)\n",
        "print(\"Accuracy: \", accuracy)"
      ],
      "metadata": {
        "colab": {
          "base_uri": "https://localhost:8080/"
        },
        "id": "yyNR3LFEdZWx",
        "outputId": "b7d6e57c-373e-42c5-8855-8a382a33b399"
      },
      "execution_count": null,
      "outputs": [
        {
          "output_type": "stream",
          "name": "stdout",
          "text": [
            "Model Evaluation on Test Set:\n",
            "40/40 [==============================] - 3s 62ms/step - loss: 0.1064 - accuracy: 0.9758\n",
            "Loss:  0.10639981180429459\n",
            "Accuracy:  0.975781261920929\n"
          ]
        }
      ]
    },
    {
      "cell_type": "markdown",
      "source": [
        "**Export Model**"
      ],
      "metadata": {
        "id": "OOCtwhBJI-ri"
      }
    },
    {
      "cell_type": "code",
      "source": [
        "# save the model\n",
        "model.save('saved_model/model_smallbert', save_format='tf')"
      ],
      "metadata": {
        "id": "UU3Z3GZ03Jp1",
        "colab": {
          "base_uri": "https://localhost:8080/"
        },
        "outputId": "0b46e0b3-a560-43c3-d978-5dbc16b3e2ed"
      },
      "execution_count": null,
      "outputs": [
        {
          "output_type": "stream",
          "name": "stderr",
          "text": [
            "WARNING:absl:Found untraced functions such as restored_function_body, restored_function_body, restored_function_body, restored_function_body, restored_function_body while saving (showing 5 of 64). These functions will not be directly callable after loading.\n"
          ]
        }
      ]
    },
    {
      "cell_type": "markdown",
      "source": [
        "**Conclusion:**\n",
        "\n",
        "**Model (smallBERTuncased L-2_H-128_A-2):**\n",
        "1.   Epochs: 5\n",
        "2.   Loss and Accuracy:\n",
        "    *   Training Loss: 0.0437 - Training Accuracy: 0.9885\n",
        "    *   Validation Loss: 0.1214 - Validation Accuracy: 0.9712\n",
        "    *   Testing Loss: 0.1063 - Testing Accuracy: 0.9757\n",
        "3.   Wall Time: 2min 33s\n",
        "\n",
        "**ANALYSIS:**\n",
        "1.   Model quickly overfits the data.\n",
        "    *   Reason: The data isn't complex/hard to learn for a BERT like model.\n"
      ],
      "metadata": {
        "id": "3452xAo7ODVB"
      }
    }
  ]
}