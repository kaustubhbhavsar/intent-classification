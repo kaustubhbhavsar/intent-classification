{
  "nbformat": 4,
  "nbformat_minor": 0,
  "metadata": {
    "colab": {
      "provenance": []
    },
    "kernelspec": {
      "name": "python3",
      "display_name": "Python 3"
    },
    "language_info": {
      "name": "python"
    },
    "gpuClass": "standard"
  },
  "cells": [
    {
      "cell_type": "markdown",
      "source": [
        "AIM: To perform intent classification using LSTM (vanilla, stacked, and bidirectional)."
      ],
      "metadata": {
        "id": "i2fv8bOaoXtW"
      }
    },
    {
      "cell_type": "code",
      "execution_count": null,
      "metadata": {
        "id": "u-fY0v8Onsb9",
        "colab": {
          "base_uri": "https://localhost:8080/"
        },
        "outputId": "33878bf0-35d6-4b80-e436-1d87b3623169"
      },
      "outputs": [
        {
          "output_type": "stream",
          "name": "stderr",
          "text": [
            "[nltk_data] Downloading package stopwords to /root/nltk_data...\n",
            "[nltk_data]   Unzipping corpora/stopwords.zip.\n",
            "[nltk_data] Downloading package wordnet to /root/nltk_data...\n",
            "[nltk_data] Downloading package omw-1.4 to /root/nltk_data...\n"
          ]
        }
      ],
      "source": [
        "# import libraries\n",
        "from google.colab import drive\n",
        "import os\n",
        "\n",
        "import tensorflow as tf\n",
        "from tensorflow.keras import layers\n",
        "\n",
        "import string\n",
        "import re\n",
        "import nltk\n",
        "from nltk.corpus import stopwords\n",
        "nltk.download('stopwords')\n",
        "\n",
        "from sklearn import preprocessing\n",
        "import matplotlib.pyplot as plt\n",
        "import pandas as pd\n",
        "import numpy as np"
      ]
    },
    {
      "cell_type": "code",
      "source": [
        "# mount google drive and connect working directory\n",
        "drive.mount('/content/gdrive', force_remount = True)\n",
        "print (sorted(os.listdir('gdrive/My Drive/Colab Helper/ICData/Dataset')))\n",
        "os.chdir('gdrive/My Drive/Colab Helper/ICData/Dataset') # Connect to the directory"
      ],
      "metadata": {
        "colab": {
          "base_uri": "https://localhost:8080/"
        },
        "id": "uL4CPprgorGN",
        "outputId": "84927594-b03d-41d5-ae83-4bfc79361cb9"
      },
      "execution_count": null,
      "outputs": [
        {
          "output_type": "stream",
          "name": "stdout",
          "text": [
            "Mounted at /content/gdrive\n",
            "['data_file.csv', 'glove.6B.100d.txt', 'glove.6B.50d.txt', 'model', 'saved_model', 'test_.csv', 'train_.csv', 'valid_.csv']\n"
          ]
        }
      ]
    },
    {
      "cell_type": "code",
      "source": [
        "# read train file and print it's shape\n",
        "traindf = pd.read_csv('train_.csv', usecols=['text','intent'])\n",
        "testdf = pd.read_csv('test_.csv', usecols=['text','intent'])\n",
        "validdf = pd.read_csv('valid_.csv', usecols=['text','intent'])\n",
        "\n",
        "print('Train Shape: ', traindf.shape)\n",
        "print('Test Shape: ', testdf.shape)\n",
        "print('Valid Shape: ', validdf.shape)"
      ],
      "metadata": {
        "colab": {
          "base_uri": "https://localhost:8080/"
        },
        "id": "IbRPziQBosdj",
        "outputId": "7c8c4fe0-358b-4202-9653-bd7224dbec9f"
      },
      "execution_count": null,
      "outputs": [
        {
          "output_type": "stream",
          "name": "stdout",
          "text": [
            "Train Shape:  (9951, 2)\n",
            "Test Shape:  (1280, 2)\n",
            "Valid Shape:  (2985, 2)\n"
          ]
        }
      ]
    },
    {
      "cell_type": "markdown",
      "source": [
        "Observation:\n",
        "\n",
        "1.   No NULL value present."
      ],
      "metadata": {
        "id": "M8tlwyUvowd-"
      }
    },
    {
      "cell_type": "code",
      "source": [
        "# NULL value presence check\n",
        "print('NULL values: ', traindf['text'].isnull().sum())"
      ],
      "metadata": {
        "id": "2y0KcCuiovtk",
        "colab": {
          "base_uri": "https://localhost:8080/"
        },
        "outputId": "524e5f09-6144-4414-efc9-57676d34c13c"
      },
      "execution_count": null,
      "outputs": [
        {
          "output_type": "stream",
          "name": "stdout",
          "text": [
            "NULL values:  0\n"
          ]
        }
      ]
    },
    {
      "cell_type": "markdown",
      "source": [
        "Observation:\n",
        "\n",
        "1.   Texts may not require a lot of text cleaning."
      ],
      "metadata": {
        "id": "4aNponEIo1m6"
      }
    },
    {
      "cell_type": "code",
      "source": [
        "# display first 10 rows\n",
        "print('First 10 rows:\\n', traindf.head(10))"
      ],
      "metadata": {
        "id": "C49vJGUMo1OD",
        "colab": {
          "base_uri": "https://localhost:8080/"
        },
        "outputId": "6b93957f-fb3a-47f1-b7e6-f6c8afe14779"
      },
      "execution_count": null,
      "outputs": [
        {
          "output_type": "stream",
          "name": "stdout",
          "text": [
            "First 10 rows:\n",
            "                                                 text              intent\n",
            "0                          find under night in-birth  SearchCreativeWork\n",
            "1         book a spot in town in the same area as me      BookRestaurant\n",
            "2                                         fimd glory  SearchCreativeWork\n",
            "3       i need a restaurant on july 18th in rose bud      BookRestaurant\n",
            "4  book a spot for 4 in oklahoma at south street ...      BookRestaurant\n",
            "5  i need to know what the weather will be like i...          GetWeather\n",
            "6  book a bistro in new zealand in 119 and a half...      BookRestaurant\n",
            "7           need a table for nine in east prairie la      BookRestaurant\n",
            "8  book a table for mindy and angelita at a resta...      BookRestaurant\n",
            "9  find me a table for two at seven somewhere in ...      BookRestaurant\n"
          ]
        }
      ]
    },
    {
      "cell_type": "markdown",
      "source": [
        "**Text Processing**\n",
        "\n",
        "**Text Standardization, Tokenization, and Vectorization** (using tf.keras.layers.TextVectorization layer)\n",
        "\n",
        "1.   Convert to lowercase. ✅\n",
        "2.   Keep alphanumeric (remove punctuations if any). ✅\n",
        "3.   Remove stopwords. ✅\n",
        "4.   Perform stemming/lemmatization. ❌"
      ],
      "metadata": {
        "id": "-4a1icJAo_X0"
      }
    },
    {
      "cell_type": "code",
      "source": [
        "# function to perform standardization\n",
        "@tf.keras.utils.register_keras_serializable() # if this line is not present; then the exported model will raise error while performing predictions\n",
        "def custom_standardization(input_data):\n",
        "  lowercase = tf.strings.lower(input_data)\n",
        "  remove_punctuation = tf.strings.regex_replace(lowercase, '[%s]' % re.escape(string.punctuation), '')\n",
        "  remove_stopwords = tf.strings.regex_replace(remove_punctuation, r'\\b(' + r'|'.join(stopwords.words('english')) + r')\\b\\s*', '')\n",
        "  return remove_stopwords"
      ],
      "metadata": {
        "id": "yEdjNB951Y38"
      },
      "execution_count": null,
      "outputs": []
    },
    {
      "cell_type": "code",
      "source": [
        "# creating TextVectorization layer\n",
        "max_features = 10000\n",
        "sequence_length = 65\n",
        "\n",
        "vectorize_layer = layers.TextVectorization(\n",
        "    standardize=custom_standardization,\n",
        "    max_tokens=max_features,\n",
        "    output_mode='int',\n",
        "    output_sequence_length=sequence_length)"
      ],
      "metadata": {
        "id": "nI5KBixoWGbo"
      },
      "execution_count": null,
      "outputs": []
    },
    {
      "cell_type": "code",
      "source": [
        "# calling adapt on a text-only dataset (without labels) of training data\n",
        "raw_train_ds = tf.data.Dataset.from_tensor_slices(traindf['text']).batch(64)\n",
        "vectorize_layer.adapt(raw_train_ds)"
      ],
      "metadata": {
        "id": "526Ge1M9z7L8"
      },
      "execution_count": null,
      "outputs": []
    },
    {
      "cell_type": "code",
      "source": [
        "# get vocabulary size\n",
        "voc = vectorize_layer.get_vocabulary()\n",
        "print('Vocabulary size: {}'.format(len(voc)))"
      ],
      "metadata": {
        "colab": {
          "base_uri": "https://localhost:8080/"
        },
        "id": "rcKQ_uGeIeCF",
        "outputId": "3409bcf3-0b4f-4211-c7b2-344acedfd0db"
      },
      "execution_count": null,
      "outputs": [
        {
          "output_type": "stream",
          "name": "stdout",
          "text": [
            "Vocabulary size: 9438\n"
          ]
        }
      ]
    },
    {
      "cell_type": "markdown",
      "source": [
        "**Process Inputs**"
      ],
      "metadata": {
        "id": "SbFO_bqsdnyu"
      }
    },
    {
      "cell_type": "code",
      "source": [
        "# label encode\n",
        "label_encoder = preprocessing.LabelEncoder()\n",
        "label_encoder.fit(traindf['intent']) # fit label encoder\n",
        "print('Label Encoder Classes: ', label_encoder.classes_)\n",
        "\n",
        "# transform labels\n",
        "traindf['intent'] = label_encoder.transform(traindf['intent'])\n",
        "testdf['intent'] = label_encoder.transform(testdf['intent'])\n",
        "validdf['intent'] = label_encoder.transform(validdf['intent'])"
      ],
      "metadata": {
        "id": "MC_W0lhd4EcK",
        "colab": {
          "base_uri": "https://localhost:8080/"
        },
        "outputId": "755f644f-b65e-4c5c-84a6-4a28fb28303e"
      },
      "execution_count": null,
      "outputs": [
        {
          "output_type": "stream",
          "name": "stdout",
          "text": [
            "Label Encoder Classes:  ['AddToPlaylist' 'BookRestaurant' 'GetWeather' 'PlayMusic' 'RateBook'\n",
            " 'SearchCreativeWork' 'SearchScreeningEvent']\n"
          ]
        }
      ]
    },
    {
      "cell_type": "code",
      "source": [
        "# convert model input data to arrays\n",
        "x_train = np.array([np.array(val) for val in traindf['text']])\n",
        "x_val = np.array([np.array(val) for val in validdf['text']])\n",
        "\n",
        "y_train = np.array([np.array(val) for val in traindf['intent']])\n",
        "y_val = np.array([np.array(val) for val in validdf['intent']])"
      ],
      "metadata": {
        "id": "3agWaghCEeCp"
      },
      "execution_count": null,
      "outputs": []
    },
    {
      "cell_type": "markdown",
      "source": [
        "**MLP Training**\n",
        "\n",
        "Model 1"
      ],
      "metadata": {
        "id": "DjFmAMQxbJc0"
      }
    },
    {
      "cell_type": "code",
      "source": [
        "# model definition\n",
        "num_tokens = len(voc) + 2\n",
        "embedding_dim = 8\n",
        "\n",
        "model1 = tf.keras.Sequential([\n",
        "  vectorize_layer,\n",
        "  layers.Embedding(num_tokens, embedding_dim, mask_zero=True, name='Embedding_1'), # mask_zero set to True\n",
        "  layers.LSTM(12, name='LSTM_1'),\n",
        "  layers.Dense(8, activation='relu', name='Dense_1'),\n",
        "  layers.Dropout(0.2, name='Dropout_1'),\n",
        "  layers.Dense(7, activation='softmax', name='Dense_2')])\n",
        "\n",
        "model1._name = 'Modelwith1LSTMLayer'\n",
        "model1.summary()"
      ],
      "metadata": {
        "colab": {
          "base_uri": "https://localhost:8080/"
        },
        "id": "RFiI-qTxvz0l",
        "outputId": "3f910938-8edc-4f5b-8994-b656dd3e59a6"
      },
      "execution_count": null,
      "outputs": [
        {
          "output_type": "stream",
          "name": "stdout",
          "text": [
            "Model: \"Modelwith1LSTMLayer\"\n",
            "_________________________________________________________________\n",
            " Layer (type)                Output Shape              Param #   \n",
            "=================================================================\n",
            " text_vectorization (TextVec  (None, 65)               0         \n",
            " torization)                                                     \n",
            "                                                                 \n",
            " Embedding_1 (Embedding)     (None, 65, 8)             75520     \n",
            "                                                                 \n",
            " LSTM_1 (LSTM)               (None, 12)                1008      \n",
            "                                                                 \n",
            " Dense_1 (Dense)             (None, 8)                 104       \n",
            "                                                                 \n",
            " Dropout_1 (Dropout)         (None, 8)                 0         \n",
            "                                                                 \n",
            " Dense_2 (Dense)             (None, 7)                 63        \n",
            "                                                                 \n",
            "=================================================================\n",
            "Total params: 76,695\n",
            "Trainable params: 76,695\n",
            "Non-trainable params: 0\n",
            "_________________________________________________________________\n"
          ]
        }
      ]
    },
    {
      "cell_type": "code",
      "source": [
        "# model compiling\n",
        "model1.compile(loss='sparse_categorical_crossentropy',\n",
        "              optimizer='adam',\n",
        "              metrics='accuracy')\n",
        "\n",
        "# model training\n",
        "epochs = 20\n",
        "%time history = model1.fit(x_train, y_train, validation_data=(x_val, y_val), epochs=epochs)"
      ],
      "metadata": {
        "colab": {
          "base_uri": "https://localhost:8080/"
        },
        "id": "eTcA1h9GwUzr",
        "outputId": "05e2854a-ebbe-4631-d56e-df3308e6251a"
      },
      "execution_count": null,
      "outputs": [
        {
          "output_type": "stream",
          "name": "stdout",
          "text": [
            "Epoch 1/20\n",
            "311/311 [==============================] - 24s 48ms/step - loss: 1.3660 - accuracy: 0.4848 - val_loss: 0.6053 - val_accuracy: 0.9283\n",
            "Epoch 2/20\n",
            "311/311 [==============================] - 13s 43ms/step - loss: 0.5141 - accuracy: 0.8397 - val_loss: 0.2186 - val_accuracy: 0.9621\n",
            "Epoch 3/20\n",
            "311/311 [==============================] - 13s 43ms/step - loss: 0.3113 - accuracy: 0.9004 - val_loss: 0.1560 - val_accuracy: 0.9685\n",
            "Epoch 4/20\n",
            "311/311 [==============================] - 16s 50ms/step - loss: 0.2308 - accuracy: 0.9228 - val_loss: 0.1523 - val_accuracy: 0.9705\n",
            "Epoch 5/20\n",
            "311/311 [==============================] - 14s 45ms/step - loss: 0.1991 - accuracy: 0.9308 - val_loss: 0.1519 - val_accuracy: 0.9682\n",
            "Epoch 6/20\n",
            "311/311 [==============================] - 15s 47ms/step - loss: 0.1742 - accuracy: 0.9348 - val_loss: 0.1619 - val_accuracy: 0.9662\n",
            "Epoch 7/20\n",
            "311/311 [==============================] - 13s 43ms/step - loss: 0.1572 - accuracy: 0.9395 - val_loss: 0.1774 - val_accuracy: 0.9682\n",
            "Epoch 8/20\n",
            "311/311 [==============================] - 14s 44ms/step - loss: 0.1410 - accuracy: 0.9459 - val_loss: 0.1829 - val_accuracy: 0.9685\n",
            "Epoch 9/20\n",
            "311/311 [==============================] - 13s 43ms/step - loss: 0.1375 - accuracy: 0.9485 - val_loss: 0.1955 - val_accuracy: 0.9678\n",
            "Epoch 10/20\n",
            "311/311 [==============================] - 13s 43ms/step - loss: 0.1300 - accuracy: 0.9512 - val_loss: 0.2085 - val_accuracy: 0.9658\n",
            "Epoch 11/20\n",
            "311/311 [==============================] - 13s 43ms/step - loss: 0.1229 - accuracy: 0.9555 - val_loss: 0.1941 - val_accuracy: 0.9688\n",
            "Epoch 12/20\n",
            "311/311 [==============================] - 13s 43ms/step - loss: 0.1207 - accuracy: 0.9565 - val_loss: 0.2008 - val_accuracy: 0.9682\n",
            "Epoch 13/20\n",
            "311/311 [==============================] - 13s 42ms/step - loss: 0.1172 - accuracy: 0.9582 - val_loss: 0.2131 - val_accuracy: 0.9665\n",
            "Epoch 14/20\n",
            "311/311 [==============================] - 13s 42ms/step - loss: 0.1040 - accuracy: 0.9632 - val_loss: 0.2338 - val_accuracy: 0.9652\n",
            "Epoch 15/20\n",
            "311/311 [==============================] - 13s 42ms/step - loss: 0.0999 - accuracy: 0.9639 - val_loss: 0.2293 - val_accuracy: 0.9685\n",
            "Epoch 16/20\n",
            "311/311 [==============================] - 13s 42ms/step - loss: 0.0953 - accuracy: 0.9632 - val_loss: 0.2518 - val_accuracy: 0.9652\n",
            "Epoch 17/20\n",
            "311/311 [==============================] - 17s 55ms/step - loss: 0.0917 - accuracy: 0.9652 - val_loss: 0.2703 - val_accuracy: 0.9655\n",
            "Epoch 18/20\n",
            "311/311 [==============================] - 13s 42ms/step - loss: 0.0925 - accuracy: 0.9662 - val_loss: 0.3039 - val_accuracy: 0.9635\n",
            "Epoch 19/20\n",
            "311/311 [==============================] - 13s 42ms/step - loss: 0.0864 - accuracy: 0.9717 - val_loss: 0.3094 - val_accuracy: 0.9631\n",
            "Epoch 20/20\n",
            "311/311 [==============================] - 13s 42ms/step - loss: 0.0901 - accuracy: 0.9677 - val_loss: 0.3097 - val_accuracy: 0.9658\n",
            "CPU times: user 7min 16s, sys: 21.5 s, total: 7min 37s\n",
            "Wall time: 5min 31s\n"
          ]
        }
      ]
    },
    {
      "cell_type": "code",
      "source": [
        "# plot the graphs\n",
        "history_dict = history.history # dictionary of result values\n",
        "epochs = range(1, len(history_dict['accuracy']) + 1) # number of epochs\n",
        "\n",
        "# plot for loss\n",
        "plt.plot(epochs, history_dict['loss'], 'bo', label='Training loss')\n",
        "plt.plot(epochs, history_dict['val_loss'], 'b', label='Validation loss')\n",
        "plt.title('Training and validation loss')\n",
        "plt.xlabel('Epochs')\n",
        "plt.ylabel('Loss')\n",
        "plt.legend()\n",
        "plt.show()\n",
        "\n",
        "# plot for accuracy\n",
        "plt.plot(epochs, history_dict['accuracy'], 'bo', label='Training acc')\n",
        "plt.plot(epochs, history_dict['val_accuracy'], 'b', label='Validation acc')\n",
        "plt.title('Training and validation accuracy')\n",
        "plt.xlabel('Epochs')\n",
        "plt.ylabel('Accuracy')\n",
        "plt.legend(loc='lower right')\n",
        "plt.show()"
      ],
      "metadata": {
        "colab": {
          "base_uri": "https://localhost:8080/",
          "height": 573
        },
        "id": "VA8DK2ENzwND",
        "outputId": "4c92162f-a48e-4c05-8769-7a9c7b469cda"
      },
      "execution_count": null,
      "outputs": [
        {
          "output_type": "display_data",
          "data": {
            "text/plain": [
              "<Figure size 432x288 with 1 Axes>"
            ],
            "image/png": "[encoded data removed]"
          },
          "metadata": {
            "needs_background": "light"
          }
        },
        {
          "output_type": "display_data",
          "data": {
            "text/plain": [
              "<Figure size 432x288 with 1 Axes>"
            ],
            "image/png": "[encoded data removed]"
          },
          "metadata": {
            "needs_background": "light"
          }
        }
      ]
    },
    {
      "cell_type": "markdown",
      "source": [
        "Model 2"
      ],
      "metadata": {
        "id": "opkuqK5UxACp"
      }
    },
    {
      "cell_type": "code",
      "source": [
        "# model definition\n",
        "num_tokens = len(voc) + 2\n",
        "embedding_dim = 8\n",
        "\n",
        "model2 = tf.keras.Sequential([\n",
        "  vectorize_layer,\n",
        "  layers.Embedding(num_tokens, embedding_dim, mask_zero=True, name='Embedding_1'), # mask_zero set to True\n",
        "  layers.Bidirectional(tf.keras.layers.LSTM(12), name='Bidirectional_1'),\n",
        "  layers.Dense(8, activation='relu', name='Dense_1'),\n",
        "  layers.Dropout(0.2, name='Dropout_1'),\n",
        "  layers.Dense(7, activation='softmax', name='Dense_2')])\n",
        "\n",
        "model2._name = 'Modelwith1BidirectionalLayer'\n",
        "model2.summary()"
      ],
      "metadata": {
        "id": "-tiAKnUJJhlQ",
        "colab": {
          "base_uri": "https://localhost:8080/"
        },
        "outputId": "789f1983-d134-45f3-ede4-fe1046f97ac2"
      },
      "execution_count": null,
      "outputs": [
        {
          "output_type": "stream",
          "name": "stdout",
          "text": [
            "Model: \"Modelwith1BidirectionalLayer\"\n",
            "_________________________________________________________________\n",
            " Layer (type)                Output Shape              Param #   \n",
            "=================================================================\n",
            " text_vectorization (TextVec  (None, 65)               0         \n",
            " torization)                                                     \n",
            "                                                                 \n",
            " Embedding_1 (Embedding)     (None, 65, 8)             75520     \n",
            "                                                                 \n",
            " Bidirectional_1 (Bidirectio  (None, 24)               2016      \n",
            " nal)                                                            \n",
            "                                                                 \n",
            " Dense_1 (Dense)             (None, 8)                 200       \n",
            "                                                                 \n",
            " Dropout_1 (Dropout)         (None, 8)                 0         \n",
            "                                                                 \n",
            " Dense_2 (Dense)             (None, 7)                 63        \n",
            "                                                                 \n",
            "=================================================================\n",
            "Total params: 77,799\n",
            "Trainable params: 77,799\n",
            "Non-trainable params: 0\n",
            "_________________________________________________________________\n"
          ]
        }
      ]
    },
    {
      "cell_type": "code",
      "source": [
        "# model compiling\n",
        "model2.compile(loss='sparse_categorical_crossentropy',\n",
        "              optimizer='adam',\n",
        "              metrics='accuracy')\n",
        "\n",
        "# model training\n",
        "epochs = 20\n",
        "%time history = model2.fit(x_train, y_train, validation_data=(x_val, y_val), epochs=epochs)"
      ],
      "metadata": {
        "id": "VvfM-Kh6bdFx",
        "colab": {
          "base_uri": "https://localhost:8080/"
        },
        "outputId": "d21e2822-30d1-43c9-8dda-7040d072c20f"
      },
      "execution_count": null,
      "outputs": [
        {
          "output_type": "stream",
          "name": "stdout",
          "text": [
            "Epoch 1/20\n",
            "311/311 [==============================] - 32s 77ms/step - loss: 1.4919 - accuracy: 0.4047 - val_loss: 0.8255 - val_accuracy: 0.7765\n",
            "Epoch 2/20\n",
            "311/311 [==============================] - 20s 66ms/step - loss: 0.6760 - accuracy: 0.7791 - val_loss: 0.3112 - val_accuracy: 0.9524\n",
            "Epoch 3/20\n",
            "311/311 [==============================] - 21s 66ms/step - loss: 0.3530 - accuracy: 0.8854 - val_loss: 0.1535 - val_accuracy: 0.9702\n",
            "Epoch 4/20\n",
            "311/311 [==============================] - 21s 67ms/step - loss: 0.2702 - accuracy: 0.9049 - val_loss: 0.1335 - val_accuracy: 0.9685\n",
            "Epoch 5/20\n",
            "311/311 [==============================] - 21s 66ms/step - loss: 0.2291 - accuracy: 0.9108 - val_loss: 0.1249 - val_accuracy: 0.9672\n",
            "Epoch 6/20\n",
            "311/311 [==============================] - 21s 66ms/step - loss: 0.1974 - accuracy: 0.9203 - val_loss: 0.1209 - val_accuracy: 0.9672\n",
            "Epoch 7/20\n",
            "311/311 [==============================] - 25s 81ms/step - loss: 0.1832 - accuracy: 0.9234 - val_loss: 0.1207 - val_accuracy: 0.9662\n",
            "Epoch 8/20\n",
            "311/311 [==============================] - 21s 68ms/step - loss: 0.1674 - accuracy: 0.9305 - val_loss: 0.1115 - val_accuracy: 0.9685\n",
            "Epoch 9/20\n",
            "311/311 [==============================] - 21s 69ms/step - loss: 0.1553 - accuracy: 0.9379 - val_loss: 0.1263 - val_accuracy: 0.9662\n",
            "Epoch 10/20\n",
            "311/311 [==============================] - 21s 69ms/step - loss: 0.1474 - accuracy: 0.9457 - val_loss: 0.1300 - val_accuracy: 0.9665\n",
            "Epoch 11/20\n",
            "311/311 [==============================] - 21s 68ms/step - loss: 0.1434 - accuracy: 0.9510 - val_loss: 0.1451 - val_accuracy: 0.9642\n",
            "Epoch 12/20\n",
            "311/311 [==============================] - 21s 69ms/step - loss: 0.1334 - accuracy: 0.9595 - val_loss: 0.1429 - val_accuracy: 0.9642\n",
            "Epoch 13/20\n",
            "311/311 [==============================] - 21s 68ms/step - loss: 0.1318 - accuracy: 0.9592 - val_loss: 0.1314 - val_accuracy: 0.9665\n",
            "Epoch 14/20\n",
            "311/311 [==============================] - 21s 68ms/step - loss: 0.1271 - accuracy: 0.9589 - val_loss: 0.1452 - val_accuracy: 0.9662\n",
            "Epoch 15/20\n",
            "311/311 [==============================] - 21s 66ms/step - loss: 0.1185 - accuracy: 0.9614 - val_loss: 0.1432 - val_accuracy: 0.9645\n",
            "Epoch 16/20\n",
            "311/311 [==============================] - 21s 67ms/step - loss: 0.1170 - accuracy: 0.9618 - val_loss: 0.1390 - val_accuracy: 0.9662\n",
            "Epoch 17/20\n",
            "311/311 [==============================] - 21s 66ms/step - loss: 0.1113 - accuracy: 0.9638 - val_loss: 0.1401 - val_accuracy: 0.9668\n",
            "Epoch 18/20\n",
            "311/311 [==============================] - 22s 70ms/step - loss: 0.1117 - accuracy: 0.9626 - val_loss: 0.1575 - val_accuracy: 0.9668\n",
            "Epoch 19/20\n",
            "311/311 [==============================] - 25s 79ms/step - loss: 0.1082 - accuracy: 0.9630 - val_loss: 0.1513 - val_accuracy: 0.9678\n",
            "Epoch 20/20\n",
            "311/311 [==============================] - 21s 67ms/step - loss: 0.1004 - accuracy: 0.9654 - val_loss: 0.1602 - val_accuracy: 0.9672\n",
            "CPU times: user 12min 18s, sys: 7.32 s, total: 12min 25s\n",
            "Wall time: 7min 29s\n"
          ]
        }
      ]
    },
    {
      "cell_type": "code",
      "source": [
        "# plot the graphs\n",
        "history_dict = history.history # dictionary of result values\n",
        "epochs = range(1, len(history_dict['accuracy']) + 1) # number of epochs\n",
        "\n",
        "# plot for loss\n",
        "plt.plot(epochs, history_dict['loss'], 'bo', label='Training loss')\n",
        "plt.plot(epochs, history_dict['val_loss'], 'b', label='Validation loss')\n",
        "plt.title('Training and validation loss')\n",
        "plt.xlabel('Epochs')\n",
        "plt.ylabel('Loss')\n",
        "plt.legend()\n",
        "plt.show()\n",
        "\n",
        "# plot for accuracy\n",
        "plt.plot(epochs, history_dict['accuracy'], 'bo', label='Training acc')\n",
        "plt.plot(epochs, history_dict['val_accuracy'], 'b', label='Validation acc')\n",
        "plt.title('Training and validation accuracy')\n",
        "plt.xlabel('Epochs')\n",
        "plt.ylabel('Accuracy')\n",
        "plt.legend(loc='lower right')\n",
        "plt.show()"
      ],
      "metadata": {
        "colab": {
          "base_uri": "https://localhost:8080/",
          "height": 573
        },
        "id": "xALkGV6Pznr5",
        "outputId": "7c9e0c98-cdd4-45cd-ed48-c712fb196747"
      },
      "execution_count": null,
      "outputs": [
        {
          "output_type": "display_data",
          "data": {
            "text/plain": [
              "<Figure size 432x288 with 1 Axes>"
            ],
            "image/png": "[encoded data removed]"
          },
          "metadata": {
            "needs_background": "light"
          }
        },
        {
          "output_type": "display_data",
          "data": {
            "text/plain": [
              "<Figure size 432x288 with 1 Axes>"
            ],
            "image/png": "[encoded data removed]"
          },
          "metadata": {
            "needs_background": "light"
          }
        }
      ]
    },
    {
      "cell_type": "code",
      "source": [
        "# model definition\n",
        "num_tokens = len(voc) + 2\n",
        "embedding_dim = 8\n",
        "\n",
        "model3 = tf.keras.Sequential([\n",
        "  vectorize_layer,\n",
        "  layers.Embedding(num_tokens, embedding_dim, mask_zero=True, name='Embedding_1'), # mask_zero set to True\n",
        "  layers.LSTM(6, return_sequences=True, name='LSTM_1'),\n",
        "  layers.LSTM(4, name='LSTM_2'),\n",
        "  layers.Dense(8, activation='relu', name='Dense_1'),\n",
        "  layers.Dropout(0.2, name='Dropout_1'),\n",
        "  layers.Dense(7, activation='softmax', name='Dense_2')])\n",
        "\n",
        "model3._name = 'Modelwith2LSTMLayers'\n",
        "model3.summary()"
      ],
      "metadata": {
        "colab": {
          "base_uri": "https://localhost:8080/"
        },
        "id": "bx3BRx2auBMM",
        "outputId": "0cc5c350-dde7-45b9-88b9-348a0448ee63"
      },
      "execution_count": null,
      "outputs": [
        {
          "output_type": "stream",
          "name": "stdout",
          "text": [
            "Model: \"Modelwith2LSTMLayers\"\n",
            "_________________________________________________________________\n",
            " Layer (type)                Output Shape              Param #   \n",
            "=================================================================\n",
            " text_vectorization (TextVec  (None, 65)               0         \n",
            " torization)                                                     \n",
            "                                                                 \n",
            " Embedding_1 (Embedding)     (None, 65, 8)             75520     \n",
            "                                                                 \n",
            " LSTM_1 (LSTM)               (None, 65, 6)             360       \n",
            "                                                                 \n",
            " LSTM_2 (LSTM)               (None, 4)                 176       \n",
            "                                                                 \n",
            " Dense_1 (Dense)             (None, 8)                 40        \n",
            "                                                                 \n",
            " Dropout_1 (Dropout)         (None, 8)                 0         \n",
            "                                                                 \n",
            " Dense_2 (Dense)             (None, 7)                 63        \n",
            "                                                                 \n",
            "=================================================================\n",
            "Total params: 76,159\n",
            "Trainable params: 76,159\n",
            "Non-trainable params: 0\n",
            "_________________________________________________________________\n"
          ]
        }
      ]
    },
    {
      "cell_type": "code",
      "source": [
        "# model compiling\n",
        "model3.compile(loss='sparse_categorical_crossentropy',\n",
        "              optimizer='adam',\n",
        "              metrics='accuracy')\n",
        "\n",
        "# model training\n",
        "epochs = 25\n",
        "%time history = model3.fit(x_train, y_train, validation_data=(x_val, y_val), epochs=epochs)"
      ],
      "metadata": {
        "colab": {
          "base_uri": "https://localhost:8080/"
        },
        "id": "hmeRyjNhxnGU",
        "outputId": "14b8c0dd-e900-4749-9169-529c14a50aeb"
      },
      "execution_count": null,
      "outputs": [
        {
          "output_type": "stream",
          "name": "stdout",
          "text": [
            "Epoch 1/25\n",
            "311/311 [==============================] - 38s 96ms/step - loss: 1.4827 - accuracy: 0.4409 - val_loss: 0.8495 - val_accuracy: 0.7605\n",
            "Epoch 2/25\n",
            "311/311 [==============================] - 25s 80ms/step - loss: 0.7100 - accuracy: 0.7872 - val_loss: 0.4238 - val_accuracy: 0.9353\n",
            "Epoch 3/25\n",
            "311/311 [==============================] - 27s 87ms/step - loss: 0.4814 - accuracy: 0.8637 - val_loss: 0.2984 - val_accuracy: 0.9504\n",
            "Epoch 4/25\n",
            "311/311 [==============================] - 25s 81ms/step - loss: 0.3815 - accuracy: 0.8803 - val_loss: 0.2641 - val_accuracy: 0.9487\n",
            "Epoch 5/25\n",
            "311/311 [==============================] - 24s 79ms/step - loss: 0.3332 - accuracy: 0.8941 - val_loss: 0.2458 - val_accuracy: 0.9477\n",
            "Epoch 6/25\n",
            "311/311 [==============================] - 24s 78ms/step - loss: 0.3001 - accuracy: 0.9006 - val_loss: 0.2126 - val_accuracy: 0.9558\n",
            "Epoch 7/25\n",
            "311/311 [==============================] - 25s 79ms/step - loss: 0.2816 - accuracy: 0.9092 - val_loss: 0.2274 - val_accuracy: 0.9514\n",
            "Epoch 8/25\n",
            "311/311 [==============================] - 25s 80ms/step - loss: 0.2637 - accuracy: 0.9117 - val_loss: 0.2144 - val_accuracy: 0.9501\n",
            "Epoch 9/25\n",
            "311/311 [==============================] - 25s 81ms/step - loss: 0.2476 - accuracy: 0.9138 - val_loss: 0.2143 - val_accuracy: 0.9511\n",
            "Epoch 10/25\n",
            "311/311 [==============================] - 27s 85ms/step - loss: 0.2309 - accuracy: 0.9157 - val_loss: 0.2145 - val_accuracy: 0.9508\n",
            "Epoch 11/25\n",
            "311/311 [==============================] - 25s 82ms/step - loss: 0.2150 - accuracy: 0.9222 - val_loss: 0.2239 - val_accuracy: 0.9497\n",
            "Epoch 12/25\n",
            "311/311 [==============================] - 25s 80ms/step - loss: 0.2066 - accuracy: 0.9241 - val_loss: 0.2237 - val_accuracy: 0.9511\n",
            "Epoch 13/25\n",
            "311/311 [==============================] - 28s 91ms/step - loss: 0.1918 - accuracy: 0.9241 - val_loss: 0.2371 - val_accuracy: 0.9487\n",
            "Epoch 14/25\n",
            "311/311 [==============================] - 25s 79ms/step - loss: 0.1815 - accuracy: 0.9338 - val_loss: 0.2353 - val_accuracy: 0.9524\n",
            "Epoch 15/25\n",
            "311/311 [==============================] - 24s 78ms/step - loss: 0.1783 - accuracy: 0.9332 - val_loss: 0.2605 - val_accuracy: 0.9481\n",
            "Epoch 16/25\n",
            "311/311 [==============================] - 25s 79ms/step - loss: 0.1725 - accuracy: 0.9355 - val_loss: 0.2586 - val_accuracy: 0.9511\n",
            "Epoch 17/25\n",
            "311/311 [==============================] - 24s 79ms/step - loss: 0.1661 - accuracy: 0.9390 - val_loss: 0.2782 - val_accuracy: 0.9444\n",
            "Epoch 18/25\n",
            "311/311 [==============================] - 24s 79ms/step - loss: 0.1550 - accuracy: 0.9393 - val_loss: 0.2809 - val_accuracy: 0.9471\n",
            "Epoch 19/25\n",
            "311/311 [==============================] - 25s 79ms/step - loss: 0.1558 - accuracy: 0.9383 - val_loss: 0.2944 - val_accuracy: 0.9454\n",
            "Epoch 20/25\n",
            "311/311 [==============================] - 25s 79ms/step - loss: 0.1584 - accuracy: 0.9351 - val_loss: 0.3098 - val_accuracy: 0.9457\n",
            "Epoch 21/25\n",
            "311/311 [==============================] - 25s 79ms/step - loss: 0.1451 - accuracy: 0.9421 - val_loss: 0.3120 - val_accuracy: 0.9474\n",
            "Epoch 22/25\n",
            "311/311 [==============================] - 25s 81ms/step - loss: 0.1490 - accuracy: 0.9415 - val_loss: 0.3370 - val_accuracy: 0.9430\n",
            "Epoch 23/25\n",
            "311/311 [==============================] - 28s 91ms/step - loss: 0.1346 - accuracy: 0.9487 - val_loss: 0.3332 - val_accuracy: 0.9441\n",
            "Epoch 24/25\n",
            "311/311 [==============================] - 25s 81ms/step - loss: 0.1356 - accuracy: 0.9486 - val_loss: 0.3367 - val_accuracy: 0.9447\n",
            "Epoch 25/25\n",
            "311/311 [==============================] - 25s 80ms/step - loss: 0.1240 - accuracy: 0.9549 - val_loss: 0.3509 - val_accuracy: 0.9447\n",
            "CPU times: user 16min 58s, sys: 53.8 s, total: 17min 52s\n",
            "Wall time: 11min 29s\n"
          ]
        }
      ]
    },
    {
      "cell_type": "code",
      "source": [
        "# plot the graphs\n",
        "history_dict = history.history # dictionary of result values\n",
        "epochs = range(1, len(history_dict['accuracy']) + 1) # number of epochs\n",
        "\n",
        "# plot for loss\n",
        "plt.plot(epochs, history_dict['loss'], 'bo', label='Training loss')\n",
        "plt.plot(epochs, history_dict['val_loss'], 'b', label='Validation loss')\n",
        "plt.title('Training and validation loss')\n",
        "plt.xlabel('Epochs')\n",
        "plt.ylabel('Loss')\n",
        "plt.legend()\n",
        "plt.show()\n",
        "\n",
        "# plot for accuracy\n",
        "plt.plot(epochs, history_dict['accuracy'], 'bo', label='Training acc')\n",
        "plt.plot(epochs, history_dict['val_accuracy'], 'b', label='Validation acc')\n",
        "plt.title('Training and validation accuracy')\n",
        "plt.xlabel('Epochs')\n",
        "plt.ylabel('Accuracy')\n",
        "plt.legend(loc='lower right')\n",
        "plt.show()"
      ],
      "metadata": {
        "colab": {
          "base_uri": "https://localhost:8080/",
          "height": 573
        },
        "id": "mFobMkTPxrV7",
        "outputId": "f3ea73b1-8bdc-4fcf-f3f3-a103bb0f3414"
      },
      "execution_count": null,
      "outputs": [
        {
          "output_type": "display_data",
          "data": {
            "text/plain": [
              "<Figure size 432x288 with 1 Axes>"
            ],
            "image/png": "[encoded data removed]"
          },
          "metadata": {
            "needs_background": "light"
          }
        },
        {
          "output_type": "display_data",
          "data": {
            "text/plain": [
              "<Figure size 432x288 with 1 Axes>"
            ],
            "image/png": "[encoded data removed]"
          },
          "metadata": {
            "needs_background": "light"
          }
        }
      ]
    },
    {
      "cell_type": "markdown",
      "source": [
        "**Evaluate Model**"
      ],
      "metadata": {
        "id": "Lqi80zysdVyY"
      }
    },
    {
      "cell_type": "code",
      "source": [
        "# evaluate model on test dataset\n",
        "x_test = np.array([np.array(val) for val in testdf['text']])\n",
        "y_test = np.array([np.array(val) for val in testdf['intent']])\n",
        "# model 1 evaluation\n",
        "print('Model 1 Evaluation on Test Set:')\n",
        "loss, accuracy = model1.evaluate(x_test, y_test)\n",
        "print(\"Loss: \", loss)\n",
        "print(\"Accuracy: \", accuracy)\n",
        "# model 2 evaluation\n",
        "print('\\nModel 2 Evaluation on Test Set:')\n",
        "loss, accuracy = model2.evaluate(x_test, y_test)\n",
        "print(\"Loss: \", loss)\n",
        "print(\"Accuracy: \", accuracy)\n",
        "# model 3 evaluation\n",
        "print('\\nModel 3 Evaluation on Test Set:')\n",
        "loss, accuracy = model3.evaluate(x_test, y_test)\n",
        "print(\"Loss: \", loss)\n",
        "print(\"Accuracy: \", accuracy)"
      ],
      "metadata": {
        "colab": {
          "base_uri": "https://localhost:8080/"
        },
        "id": "yyNR3LFEdZWx",
        "outputId": "102a915c-2566-43fc-d44a-8edee01b33ae"
      },
      "execution_count": null,
      "outputs": [
        {
          "output_type": "stream",
          "name": "stdout",
          "text": [
            "Model 1 Evaluation on Test Set:\n",
            "40/40 [==============================] - 0s 10ms/step - loss: 0.3600 - accuracy: 0.9617\n",
            "Loss:  0.3599610924720764\n",
            "Accuracy:  0.961718738079071\n",
            "\n",
            "Model 2 Evaluation on Test Set:\n",
            "40/40 [==============================] - 1s 13ms/step - loss: 0.2154 - accuracy: 0.9633\n",
            "Loss:  0.2153855860233307\n",
            "Accuracy:  0.9632812738418579\n",
            "\n",
            "Model 3 Evaluation on Test Set:\n",
            "40/40 [==============================] - 1s 15ms/step - loss: 0.3423 - accuracy: 0.9500\n",
            "Loss:  0.34234166145324707\n",
            "Accuracy:  0.949999988079071\n"
          ]
        }
      ]
    },
    {
      "cell_type": "markdown",
      "source": [
        "**Export Best Model**"
      ],
      "metadata": {
        "id": "OOCtwhBJI-ri"
      }
    },
    {
      "cell_type": "code",
      "source": [
        "# save the model\n",
        "export_model = tf.keras.Sequential([\n",
        "  tf.keras.Input(shape=(1,), dtype=\"string\"),\n",
        "  model2 ]) # saving model 2\n",
        "\n",
        "export_model.save('saved_model/model2_lstm', save_format='tf')"
      ],
      "metadata": {
        "colab": {
          "base_uri": "https://localhost:8080/"
        },
        "id": "UU3Z3GZ03Jp1",
        "outputId": "b152c5c0-6489-4776-b98b-9ecb727aa052"
      },
      "execution_count": null,
      "outputs": [
        {
          "output_type": "stream",
          "name": "stderr",
          "text": [
            "WARNING:tensorflow:Compiled the loaded model, but the compiled metrics have yet to be built. `model.compile_metrics` will be empty until you train or evaluate the model.\n",
            "WARNING:absl:Found untraced functions such as lstm_cell_2_layer_call_fn, lstm_cell_2_layer_call_and_return_conditional_losses, lstm_cell_3_layer_call_fn, lstm_cell_3_layer_call_and_return_conditional_losses while saving (showing 4 of 4). These functions will not be directly callable after loading.\n"
          ]
        }
      ]
    },
    {
      "cell_type": "markdown",
      "source": [
        "**Conclusion:**\n",
        "\n",
        "**Model 1:** Vanilla LSTM\n",
        "\n",
        "INPUT => EMBEDDING(int encoding) => LSTM => FC => RELU => DO => FC => SOFTMAX\n",
        "1.   Trainable Parameters: 76,695\n",
        "1.   Epochs: 20\n",
        "2.   Loss and Accuracy:\n",
        "    *   Training Loss: 0.0901 - Training Accuracy: 0.9677\n",
        "    *   Validation Loss: 0.3097 - Validation Accuracy: 0.9658\n",
        "    *   Testing Loss: 0.3599 - Testing Accuracy: 0.9617\n",
        "3.   Wall Time: 5min 31s\n",
        "**Model 2:** BidirectionalLSTM\n",
        "\n",
        "INPUT => EMBEDDING(int encoding) => BiLSTM => FC => RELU => DO => FC => SOFTMAX\n",
        "1.   Trainable Parameters: 77,799\n",
        "1.   Epochs: 20\n",
        "2.   Loss and Accuracy:\n",
        "    *   Training Loss: 0.1004 - Training Accuracy: 0.9654\n",
        "    *   Validation Loss: 0.1602 - Validation Accuracy: 0.9672\n",
        "    *   Testing Loss: 0.2153 - Testing Accuracy: 0.9632\n",
        "3.   Wall Time: 7min 29s\n",
        "**Model 3:** Stacked LSTM\n",
        "\n",
        "INPUT => EMBEDDING(int encoding) => LSTM => LSTM => FC => RELU => DO => FC => SOFTMAX\n",
        "1.   Trainable Parameters: 76,159\n",
        "1.   Epochs: 25\n",
        "2.   Loss and Accuracy:\n",
        "    *   Training Loss: 0.1240 - Training Accuracy: 0.9549\n",
        "    *   Validation Loss: 0.3509 - Validation Accuracy: 0.9447\n",
        "    *   Testing Loss: 0.3423 - Testing Accuracy: 0.9499\n",
        "3.   Wall Time: 11min 29s\n",
        "\n",
        "**ANALYSIS:**\n",
        "1.   Model 3(stacked LSTM) **with less parameters** can achieve approximately similar or even better performance compared to Model 1(vanilla LSTM), but requires more training epochs to achieve the same.\n",
        "2.   Model 2(BidirectionalLSTM) achieved better performance compared to other two models."
      ],
      "metadata": {
        "id": "dZC6HxQXR2Pv"
      }
    }
  ]
}