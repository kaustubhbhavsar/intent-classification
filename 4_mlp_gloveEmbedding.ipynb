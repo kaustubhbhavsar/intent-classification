{
  "cells": [
    {
      "cell_type": "markdown",
      "metadata": {
        "id": "i2fv8bOaoXtW"
      },
      "source": [
        "AIM: To perform intent classification using MLP and pretrained word embedding (glove)."
      ]
    },
    {
      "cell_type": "code",
      "execution_count": null,
      "metadata": {
        "colab": {
          "base_uri": "https://localhost:8080/"
        },
        "id": "u-fY0v8Onsb9",
        "outputId": "9705451b-9612-424a-e82d-d8c3d496d9a7"
      },
      "outputs": [
        {
          "output_type": "stream",
          "name": "stderr",
          "text": [
            "[nltk_data] Downloading package stopwords to /root/nltk_data...\n",
            "[nltk_data]   Unzipping corpora/stopwords.zip.\n",
            "[nltk_data] Downloading package wordnet to /root/nltk_data...\n",
            "[nltk_data] Downloading package omw-1.4 to /root/nltk_data...\n"
          ]
        }
      ],
      "source": [
        "# import libraries\n",
        "from google.colab import drive\n",
        "import os\n",
        "\n",
        "import tensorflow as tf\n",
        "from tensorflow.keras import layers\n",
        "from tensorflow import keras\n",
        "\n",
        "import string\n",
        "import re\n",
        "import nltk\n",
        "from nltk.corpus import stopwords\n",
        "nltk.download('stopwords')\n",
        "\n",
        "from sklearn import preprocessing\n",
        "import matplotlib.pyplot as plt\n",
        "import pandas as pd\n",
        "import numpy as np"
      ]
    },
    {
      "cell_type": "code",
      "execution_count": null,
      "metadata": {
        "colab": {
          "base_uri": "https://localhost:8080/"
        },
        "id": "uL4CPprgorGN",
        "outputId": "87f6fa11-629c-4988-b52a-468cdba338f9"
      },
      "outputs": [
        {
          "output_type": "stream",
          "name": "stdout",
          "text": [
            "Mounted at /content/gdrive\n",
            "['data_file.csv', 'glove.6B.100d.txt', 'glove.6B.50d.txt', 'model', 'test_.csv', 'train_.csv', 'valid_.csv']\n"
          ]
        }
      ],
      "source": [
        "# mount google drive and connect working directory\n",
        "drive.mount('/content/gdrive', force_remount = True)\n",
        "print (sorted(os.listdir('gdrive/My Drive/Colab Helper/ICData/Dataset')))\n",
        "os.chdir('gdrive/My Drive/Colab Helper/ICData/Dataset') # Connect to the directory"
      ]
    },
    {
      "cell_type": "code",
      "execution_count": null,
      "metadata": {
        "colab": {
          "base_uri": "https://localhost:8080/"
        },
        "id": "IbRPziQBosdj",
        "outputId": "2339d8a3-294f-463b-cdee-af0867eace08"
      },
      "outputs": [
        {
          "output_type": "stream",
          "name": "stdout",
          "text": [
            "Train Shape:  (9951, 2)\n",
            "Test Shape:  (1280, 2)\n",
            "Valid Shape:  (2985, 2)\n"
          ]
        }
      ],
      "source": [
        "# read train file and print it's shape\n",
        "traindf = pd.read_csv('train_.csv', usecols=['text','intent'])\n",
        "testdf = pd.read_csv('test_.csv', usecols=['text','intent'])\n",
        "validdf = pd.read_csv('valid_.csv', usecols=['text','intent'])\n",
        "\n",
        "print('Train Shape: ', traindf.shape)\n",
        "print('Test Shape: ', testdf.shape)\n",
        "print('Valid Shape: ', validdf.shape)"
      ]
    },
    {
      "cell_type": "markdown",
      "metadata": {
        "id": "M8tlwyUvowd-"
      },
      "source": [
        "Observation:\n",
        "\n",
        "1.   No NULL value present."
      ]
    },
    {
      "cell_type": "code",
      "execution_count": null,
      "metadata": {
        "colab": {
          "base_uri": "https://localhost:8080/"
        },
        "id": "2y0KcCuiovtk",
        "outputId": "c546e1d5-5c2d-4bd7-b26a-574e9db57141"
      },
      "outputs": [
        {
          "output_type": "stream",
          "name": "stdout",
          "text": [
            "NULL values:  0\n"
          ]
        }
      ],
      "source": [
        "# NULL value presence check\n",
        "print('NULL values: ', traindf['text'].isnull().sum())"
      ]
    },
    {
      "cell_type": "markdown",
      "metadata": {
        "id": "4aNponEIo1m6"
      },
      "source": [
        "Observation:\n",
        "\n",
        "1.   Texts may not require a lot of text cleaning."
      ]
    },
    {
      "cell_type": "code",
      "execution_count": null,
      "metadata": {
        "colab": {
          "base_uri": "https://localhost:8080/"
        },
        "id": "C49vJGUMo1OD",
        "outputId": "d4347d59-e3f9-4ab0-e219-ac7c5367e8d5"
      },
      "outputs": [
        {
          "output_type": "stream",
          "name": "stdout",
          "text": [
            "First 10 rows:\n",
            "                                                 text              intent\n",
            "0                          find under night in-birth  SearchCreativeWork\n",
            "1         book a spot in town in the same area as me      BookRestaurant\n",
            "2                                         fimd glory  SearchCreativeWork\n",
            "3       i need a restaurant on july 18th in rose bud      BookRestaurant\n",
            "4  book a spot for 4 in oklahoma at south street ...      BookRestaurant\n",
            "5  i need to know what the weather will be like i...          GetWeather\n",
            "6  book a bistro in new zealand in 119 and a half...      BookRestaurant\n",
            "7           need a table for nine in east prairie la      BookRestaurant\n",
            "8  book a table for mindy and angelita at a resta...      BookRestaurant\n",
            "9  find me a table for two at seven somewhere in ...      BookRestaurant\n"
          ]
        }
      ],
      "source": [
        "# display first 10 rows\n",
        "print('First 10 rows:\\n', traindf.head(10))"
      ]
    },
    {
      "cell_type": "markdown",
      "metadata": {
        "id": "-4a1icJAo_X0"
      },
      "source": [
        "**Text Processing**\n",
        "\n",
        "**Text Standardization, Tokenization, and Vectorization** (using tf.keras.layers.TextVectorization layer)\n",
        "\n",
        "1.   Convert to lowercase. ✅\n",
        "2.   Keep alphanumeric (remove punctuations if any). ✅\n",
        "3.   Remove stopwords. ✅\n",
        "4.   Perform stemming/lemmatization. ❌"
      ]
    },
    {
      "cell_type": "code",
      "execution_count": null,
      "metadata": {
        "id": "yEdjNB951Y38"
      },
      "outputs": [],
      "source": [
        "# function to perform standardization\n",
        "@tf.keras.utils.register_keras_serializable() # if this line is not present; then the exported model will raise error while performing predictions\n",
        "def custom_standardization(input_data): \n",
        "  lowercase = tf.strings.lower(input_data)\n",
        "  remove_punctuation = tf.strings.regex_replace(lowercase, '[%s]' % re.escape(string.punctuation), '')\n",
        "  remove_stopwords = tf.strings.regex_replace(remove_punctuation, r'\\b(' + r'|'.join(stopwords.words('english')) + r')\\b\\s*', '')\n",
        "  return remove_stopwords"
      ]
    },
    {
      "cell_type": "code",
      "execution_count": null,
      "metadata": {
        "id": "nI5KBixoWGbo"
      },
      "outputs": [],
      "source": [
        "# creating TextVectorization layer\n",
        "max_features = 10000\n",
        "sequence_length = 65\n",
        "\n",
        "vectorize_layer = layers.TextVectorization(\n",
        "    standardize=custom_standardization,\n",
        "    max_tokens=max_features,\n",
        "    output_mode='int',\n",
        "    output_sequence_length=sequence_length)"
      ]
    },
    {
      "cell_type": "code",
      "execution_count": null,
      "metadata": {
        "id": "526Ge1M9z7L8"
      },
      "outputs": [],
      "source": [
        "# calling adapt on a text-only dataset (without labels) of training data\n",
        "raw_train_ds = tf.data.Dataset.from_tensor_slices(traindf['text']).batch(64)\n",
        "vectorize_layer.adapt(raw_train_ds)"
      ]
    },
    {
      "cell_type": "code",
      "execution_count": null,
      "metadata": {
        "colab": {
          "base_uri": "https://localhost:8080/"
        },
        "id": "rcKQ_uGeIeCF",
        "outputId": "51e98fb6-d4f3-491e-f1ff-fc57618fa1cd"
      },
      "outputs": [
        {
          "output_type": "stream",
          "name": "stdout",
          "text": [
            "Vocabulary size: ['', '[UNK]', 'play', 'book', 'add', 'find', 'playlist', '6', 'movie', 'rate', 'weather', 'show', 'give', 'restaurant', 'want', 'current', 'music', 'stars', 'forecast', 'points', 'playing', 'like', 'table', 'album', 'movies', 'song', 'need', 'please', 'one', 'called', '1', 'theatres', 'time', 'schedule', 'house', 'four', 'reservation', 'track', '3', '2', 'get', '4', 'two', '5', 'rating', 'put', 'people', 'tune', 'novel', 'five', 'three', 'animated', 'tv', 'times', '0', 'series', 'films', 'saga', 'cinema', 'party', 'artist', 'schedules', 'new', 'game', 'see', 'zero', 'serves', 'spot', 'best', 'closest', 'showing', 'nearest', 'hear', 'essay', 'textbook', 'list', 'would', 'area', 'theatre', 'tell', 'park', 'going', 'soundtrack', 'close', 'around', 'watch', 'top', 'songs', 'look', 'bar', 'chronicle', 'pm', 'food', 'love', 'nearby', 'last', 'eat', 'national', 'onto', 'state', 'search', 'place', 'rock', 'looking', 'picture', 'next', 'brasserie', 'television', 'within', 'rated', 'de', 'six', 'trailer', 'ten', 'popular', 'photograph', 'painting', '8', 'pub', 'nine', 'far', 'city', 'seven', 'reservations', 'hot', 'video', 'spotify', 'highly', 'go', 'something', 'neighborhood', 'clock', 'minutes', 'hours', 'north', 'metal', 'hits', 'netflix', 'minute', 'live', 'eight', '10', 'work', 'american', 'listen', 'hour', 'day', 'reserve', 'weeks', 'night', 'make', 'life', 'years', 'second', 'neighbourhood', '9', 'today', 'itunes', 'groove', 'good', '7', 'islands', 'women', 'south', 'youtube', 'another', 'star', 'man', 'google', 'cold', 'black', 'zvooq', 'warm', 'shark', 'gets', 'deezer', 'colder', 'week', 'titled', 'indie', 'chant', 'corporation', 'use', 'soul', 'la', 'days', 'country', 'cinemas', 'year', 'twenties', 'pop', 'lastfm', 'ep', 'chilly', 'distance', 'chillier', 'toprated', 'showtimes', 'seconds', 'open', 'world', 'walking', 'value', 'pandora', 'know', 'fm', 'creative', 'sound', 'freezing', 'deserves', 'dance', 'creativity', 'warmer', 'rain', 'name', 'hotter', 'greatest', 'blues', 'vimeo', 'slacker', 'near', 'island', 'iheart', 'dinner', 'theme', 'theaters', 'symphony', 'fourties', 'cineplex', 'saint', 'right', 'position', 'latin', 'entertainment', 'temperate', 'starting', 'eighties', 'chill', 'white', 'tunes', 'tavern', 'newest', 'movement', 'months', 'help', 'fire', 'death', 'twenty', 'thirties', 'storm', 'record', 'neighboring', 'named', 'john', 'court', 'ballad', 'workout', 'taverna', 'seventies', 'serving', 'location', 'lake', 'jazz', 'great', 'folk', 'check', 'cafe', '–', 'tea', 'sixties', 'red', 'punk', 'old', 'let', 'fifties', 'evening', 'east', 'tracks', 'pool', 'melody', 'jan', 'history', 'half', 'acoustic', 'wildlife', 'take', 'st', 'room', 'road', 'little', 'gaming', 'faraway', 'distant', 'west', 'start', 'somewhere', 'overcast', 'nineties', 'nature', 'mountain', 'loews', 'journal', 'diner', 'classical', 'classic', 'blizzard', '50', '2016', 'think', 'spring', 'southern', 'snow', 'river', 'paul', 'martin', 'king', 'ii', 'group', 'first', 'closeby', 'wish', 'truck', 'tomorrow', 'supposed', 'sun', 'street', 'snowstorm', 'rb', 'month', 'midnight', 'latest', 'french', 'feel', 'fast', 'conditions', 'coffeehouse', 'carolina', 'bakery', 'autumn', 'august', '11', 'wind', 'wild', 'war', 'story', 'step', 'spa', 'january', 'internet', 'hop', 'hip', 'hail', 'gastropub', 'dead', 'concerto', 'company', 'beach', 'back', 'baby', '12', 'york', 'san', 'october', 'lo', 'joint', 'hotel', 'free', 'forest', 'feb', 'el', 'chicken', '16', 'windy', 'valley', 'united', 'twelve', 'summer', 'steakhouse', 'seats', 'samoa', 'pull', 'pizzeria', 'piano', 'meal', 'june', 'james', 'heart', 'forever', 'foggy', 'español', 'dj', 'david', 'cloudy', 'classics', 'chris', 'blood', 'added', '2017', '20', 'winter', 'sweet', 'sunny', 'snowfall', 'sep', 'school', 'refuge', 'p', 'needs', 'mike', 'michael', 'mejor', 'march', 'home', 'guest', 'green', 'giving', 'fresh', 'february', 'christmas', 'caribbean', 'buy', 'big', 'amc', '13', '100', 'young', 'us', 'stormy', 'quality', 'previous', 'power', 'point', 'pacific', 'mexico', 'may', 'malco', 'long', 'local', 'lee', 'kids', 'humidity', 'hills', 'girl', 'funk', 'fox', 'earth', 'douglas', 'dec', 'dakota', 'colorado', 'cloud', 'cafeteria', 'blue', 'bistro', 'whats', 'trip', 'states', 'sort', 'september', 'seating', 'reggae', 'person', 'oyster', 'mark', 'marcus', 'magic', 'light', 'kentucky', 'jul', 'id', 'hundred', 'high', 'georgia', 'escape', 'eleven', 'disco', 'die', 'dickinson', 'cuisine', 'churrascaria', 'boy', 'afternoon', 'town', 'snowy', 'sea', 'scheduled', 'parking', 'outdoor', 'ok', 'nov', 'nothing', 'ne', 'mary', 'lounge', 'lost', 'july', 'johnson', 'jersey', 'indoor', 'hill', 'goodrich', 'girls', 'evil', 'english', 'dipson', 'december', 'coming', 'brazilian', 'beat', '21', '2034', '2024', 'wisconsin', 'wifi', 'walk', 'view', 'vibes', 'using', 'texas', 'temps', 'supper', 'sleep', 'sixteen', 'short', 'read', 'queen', 'perfect', 'part', 'oct', 'nv', 'mt', 'mother', 'morning', 'mills', 'mi', 'mar', 'los', 'law', 'land', 'lady', 'kind', 'johnny', 'iowa', 'indian', 'include', 'humid', 'hell', 'happy', 'general', 'future', 'fine', 'falls', 'downtown', 'discography', 'creek', 'cool', 'collection', 'club', 'century', 'billy', 'april', 'amco', 'ak', 'air', 'adventures', '90s', '1975', '15', 'woman', 'washington', 'virgin', 'vermont', 'van', 'total', 'tonight', 'title', 'tennessee', 'te', 'sword', 'stories', 'spanish', 'space', 'sky', 'sister', 'rush', 'running', 'richard', 'rhythm', 'republic', 'rainy', 'rainfall', 'radio', 'prince', 'paris', 'palau', 'novedades', 'northern', 'noon', 'natural', 'n', 'mystery', 'mr', 'mind', 'mann', 'locate', 'lets', 'laundry', 'kerasotes', 'inn', 'il', 'hollywood', 'heaven', 'harkins', 'grand', 'gold', 'george', 'following', 'fog', 'film', 'fear', 'family', 'fall', 'electronic', 'depression', 'delaware', 'dave', 'cry', 'come', 'coffee', 'cobb', 'center', 'california', 'bb', 'away', 'arkansas', 'alternative', 'african', '22', '19', 'úsica', 'ultimate', 'u', 'type', 'todo', 'theater', 'temperature', 'tales', 'spirit', 'seventeen', 'secrets', 'robert', 'rising', 'return', 'pw', 'purchase', 'post', 'plitt', 'odeon', 'november', 'nice', 'nh', 'much', 'missouri', 'midday', 'micronesia', 'lakes', 'kiss', 'jun', 'iron', 'imax', 'guitar', 'guinea', 'goes', 'ghost', 'foundation', 'fort', 'elevenses', 'digster', 'devil', 'delicatessen', 'del', 'cooper', 'con', 'cinemark', 'children', 'brian', 'breakfast', 'bay', 'av', 'alaska', '80s', '2020', '2003', '17', 'worlds', 'williams', 'wife', 'wars', 'warren', 'vincent', 'universe', 'trail', 'thirteen', 'tears', 'sunset', 'smoking', 'showings', 'romance', 'robin', 'rico', 'regal', 'que', 'puerto', 'provincial', 'plays', 'peace', 'paramount', 'oklahoma', 'oh', 'ny', 'noise', 'netherlands', 'ms', 'mount', 'monday', 'minnesota', 'members', 'md', 'matt', 'machine', 'louisiana', 'latino', 'late', 'kuwait', 'joseph', 'joe', 'jams', 'instrumental', 'ia', 'hit', 'harry', 'god', 'glass', 'funtime', 'fried', 'fish', 'fifth', 'entitled', 'district', 'deep', 'dark', 'da', 'consolidated', 'connecticut', 'columbia', 'cleaning', 'clark', 'chips', 'central', 'calm', 'brown', 'bring', 'bridge', 'bow', 'borough', 'beyond', 'aug', 'art', 'anywhere', 'amusements', 'al', '2033', '2029', '2011', '1958', '10th', 'éxitos', 'wy', 'worth', 'without', 'wi', 'way', 'volume', 'virginia', 'tyrolean', 'toptwenty', 'tony', 'tommy', 'tom', 'tie', 'thursday', 'throwback', 'thomas', 'thirty', 'thirteenth', 'thing', 'theory', 'taylor', 'talk', 'suena', 'still', 'steve', 'springs', 'speakeasy', 'son', 'showcase', 'shadow', 'secret', 'sd', 'sanctuary', 'russia', 'rose', 'reading', 'rap', 'price', 'port', 'picks', 'peter', 'para', 'pa', 'osteria', 'ocean', 'nineteen', 'niger', 'news', 'moon', 'montana', 'mix', 'men', 'megaplex', 'marshall', 'lunch', 'louis', 'landmark', 'ky', 'kansas', 'justice', 'jones', 'jim', 'jack', 'j', 'indiana', 'ice', 'hunter', 'historic', 'heights', 'hearts', 'hands', 'grandfather', 'glory', 'genre', 'gave', 'g', 'fusion', 'fourteen', 'forcast', 'fl', 'federated', 'father', 'fairy', 'eyes', 'european', 'epic', 'end', 'e', 'dubstep', 'dream', 'dragon', 'dawn', 'darkness', 'currently', 'ct', 'could', 'concert', 'clinton', 'charles', 'castle', 'case', 'call', 'café', 'burkina', 'bruce', 'brother', 'british', 'box', 'bill', 'bear', 'battle', 'australia', 'arizona', 'arclight', 'ar', 'anything', 'andy', 'adventure', 'activity', '8th', '80', '70s', '40', '2038', '2037', '2030', '2026', '2022', '1999', '1991', '1970', '1951', 'youth', 'wyoming', 'welcome', 'wave', 'water', 'warning', 'village', 'verano', 'tree', 'trance', 'sxsw', 'sudan', 'stone', 'speed', 'spain', 'solid', 'sing', 'silver', 'side', 'shake', 'serbia', 'score', 'say', 'saturday', 'sarah', 'roll', 'ri', 'released', 'reed', 'real', 'predicted', 'possible', 'possiable', 'paradise', 'palylist', 'original', 'oregon', 'official', 'nebraska', 'nationalpark', 'musical', 'move', 'montenegro', 'modern', 'mjr', 'miami', 'memorial', 'mc', 'maryland', 'mariana', 'maine', 'made', 'loving', 'lovers', 'lot', 'lord', 'lopez', 'living', 'lives', 'line', 'legend', 'las', 'knight', 'kevin', 'kb', 'journey', 'jerry', 'jeff', 'jazzy', 'jam', 'indonesia', 'incorporate', 'image', 'illinois', 'hurricane', 'horse', 'hood', 'hero', 'hat', 'hampshire', 'hall', 'gu', 'grill', 'grenadines', 'goodbye', 'global', 'gates', 'gate', 'frank', 'football', 'focus', 'fiction', 'fever', 'fest', 'favorite', 'en', 'electro', 'eighteen', 'drafthouse', 'dr', 'dirty', 'dirt', 'dine', 'di', 'dc', 'davis', 'daughter', 'dancing', 'daily', 'crystal', 'croatia', 'copy', 'comedy', 'colony', 'clásicos', 'child', 'cherry', 'cheese', 'charlie', 'cape', 'cake', 'c', 'brazil', 'bpm', 'body', 'bird', 'ball', 'awards', 'atmospheric', 'apr', 'animal', 'amor', 'always', 'alamo', 'alabama', '30', '26', '23', '2028', '2025', '2019', '2015', '2014', '2010', '2006', '2000', '1993', '1973', '1966', '1964', '1959', '1952', 'wine', 'western', 'weekly', 'weekend', 'walker', 'wa', 'voices', 'vi', 'venezuela', 'vanuatu', 'utah', 'ut', 'urban', 'ukraine', 'tx', 'twentieth', 'turn', 'trey', 'train', 'trabajo', 'top20', 'third', 'things', 'thieves', 'taiwan', 'surface', 'sunshine', 'sunday', 'style', 'string', 'stress', 'sri', 'square', 'spotlight', 'sounds', 'soulful', 'society', 'site', 'siempre', 'shown', 'shall', 'service', 'seat', 'season', 'science', 'sc', 'santikos', 'sandwich', 'sam', 'salvador', 'ross', 'roberto', 'rob', 'ride', 'rhode', 'revival', 'review', 'retro', 'releases', 'relax', 'reggaeton', 'recreation', 'ready', 'ray', 'quiero', 'pure', 'punks', 'psychedelic', 'project', 'princess', 'preserve', 'preparty', 'prefectural', 'pr', 'polynesia', 'poems', 'playlis', 'planet', 'pizza', 'pine', 'pierre', 'parents', 'papua', 'online', 'nj', 'nightmare', 'never', 'mp', 'mountains', 'montserrat', 'mon', 'mn', 'miss', 'miller', 'mellow', 'massachusetts', 'loves', 'le', 'lazy', 'lanka', 'l', 'ks', 'kings', 'kid', 'keep', 'joy', 'jennifer', 'isle', 'irish', 'information', 'infinite', 'holiday', 'heavy', 'head', 'hard', 'hand', 'hamilton', 'halloween', 'guy', 'grace', 'glenn', 'ga', 'full', 'friends', 'friday', 'form', 'flower', 'florida', 'flight', 'finds', 'falling', 'falkland', 'every', 'endorphin', 'enamorándose', 'emily', 'eleventh', 'electric', 'edition', 'eastern', 'dreams', 'doctor', 'disney', 'diamond', 'decade', 'cross', 'cream', 'course', 'coney', 'complete', 'commute', 'college', 'clear', 'chaos', 'cena', 'cash', 'casa', 'carter', 'ca', 'bryan', 'brunch', 'brooklyn', 'boys', 'booking', 'bones', 'bone', 'bonaire', 'bobby', 'birds', 'bermuda', 'bell', 'beats', 'bean', 'band', 'ballads', 'bad', 'b', 'assign', 'andrew', 'america', 'afterwork', 'africa', 'ad', 'ace', 'accommodate', '90', '24th', '24', '20th', '2040', '2036', '2035', '2032', '2021', '2013', '2012', '2009', '2004', '2002', '1997', '1996', '1990', '1981', '1974', '1972', '1962', '1954', '14', '11th', '00s', 'zimbabwe', 'zen', 'zealand', 'zambia', 'yellow', 'xiang', 'x', 'works', 'wood', 'wonderful', 'wizard', 'winnie', 'windows', 'window', 'wedding', 'waiting', 'virales', 'viola', 'viernes', 'union', 'un', 'twentythird', 'trying', 'trouble', 'tribute', 'tres', 'travelling', 'travel', 'trap', 'training', 'tour', 'touch', 'totally', 'tokyo', 'todd', 'tn', 'tgif', 'teddy', 'tanzania', 'tajikistan', 'system', 'sweden', 'sur', 'sunrise', 'suite', 'sudamérica', 'strong', 'strict', 'strange', 'stop', 'stevens', 'steps', 'steak', 'station', 'special', 'souvlaki', 'southeastern', 'sot', 'songz', 'somalia', 'smith', 'smash', 'slow', 'slick', 'sixteenth', 'sings', 'singles', 'sin', 'sierra', 'sex', 'seventh', 'seventeenth', 'sense', 'self', 'selektor', 'seafood', 'screened', 'scott', 'save', 'saudi', 'santa', 'sammy', 'salsa', 'sabbath', 'rumba', 'round', 'rough', 'roger', 'riley', 'ridge', 'reserved', 'remix', 'remember', 'religion', 'relief', 'relaxing', 'randy', 'rainbow', 'r', 'primavera', 'practice', 'pokémon', 'played', 'platinum', 'philip', 'phil', 'peaceful', 'patrick', 'pat', 'pastelaria', 'passion', 'pass', 'parc', 'parade', 'pakistan', 'outlaw', 'opera', 'nu', 'ntc', 'nights', 'nicky', 'nevada', 'nelson', 'nd', 'nc', 'nation', 'mysterious', 'must', 'moore', 'monterey', 'monster', 'money', 'mississippi', 'miquelon', 'might', 'middle', 'michigan', 'mh', 'metalsucks', 'master', 'mason', 'marine', 'manhattan', 'management', 'malaysia', 'madeleine', 'mad', 'luis', 'london', 'lobster', 'llegando', 'listas', 'lights', 'lies', 'liechtenstein', 'lewis', 'letters', 'latvia', 'kpop', 'korea', 'kitchen', 'kingdom', 'keys', 'kaori', 'k', 'junior', 'joan', 'jimmy', 'jennie', 'jane', 'italian', 'innocent', 'indietronic', 'india', 'idaho', 'husband', 'human', 'houston', 'honor', 'hong', 'holmes', 'holly', 'hole', 'hipster', 'hillary', 'highway', 'hi', 'herzegovina', 'heroes', 'helen', 'heat', 'health', 'harris', 'gus', 'guam', 'gregory', 'greenland', 'greece', 'gothic', 'goiano', 'gary', 'gabon', 'funny', 'francisco', 'france', 'fourth', 'force', 'flash', 'finn', 'final', 'fiji', 'fifteenth', 'fiesta', 'farm', 'facility', 'face', 'express', 'experiment', 'essentials', 'enemy', 'elegante', 'electronow', 'eighteenth', 'egypt', 'education', 'edge', 'eden', 'eddie', 'drive', 'download', 'douglass', 'door', 'dog', 'digital', 'diggers', 'destiny', 'denmark', 'dangles', 'crate', 'crash', 'corner', 'corn', 'congo', 'confessions', 'conexiones', 'concentration', 'comes', 'collective', 'co', 'clase', 'christian', 'chocolate', 'china', 'chillout', 'chile', 'chase', 'chad', 'cayman', 'cat', 'carol', 'carlos', 'canyon', 'canada', 'campus', 'camino', 'came', 'buccaneer', 'broken', 'brenda', 'bound', 'bosnia', 'bliss', 'blind', 'birthday', 'ben', 'belgium', 'behind', 'beginning', 'bass', 'barcelona', 'background', 'bachelor', 'az', 'attack', 'association', 'ashley', 'arabia', 'apple', 'apart', 'antilles', 'anthony', 'anonymous', 'anne', 'anna', 'angry', 'angela', 'americana', 'alone', 'albania', 'afghanistan', 'adam', '9th', '7th', '3rd', '2nd', '25', '21st', '2023', '2018', '2007', '2005', '1988', '1987', '1986', '1984', '1978', '1976', '1965', '1957', '190', '18th', '18', '170', '15th', 'é', 'åland', 'zezé', 'yukon', 'yankee', 'yamazaki', 'wv', 'writing', 'word', 'wings', 'wilson', 'wilderness', 'wilda', 'whole', 'wes', 'well', 'wed', 'wayne', 'waves', 'watson', 'warrior', 'wanda', 'waltz', 'walter', 'walls', 'wall', 'vol', 'vida', 'viajes', 'verde', 'vatican', 'va', 'uzbekistan', 'used', 'upstairs', 'unplugged', 'unfinished', 'underground', 'uganda', 'twin', 'twilight', 'twentyseventh', 'twentyeighth', 'tuvalu', 'tunisia', 'troy', 'tropic', 'trinidad', 'treatment', 'trattoria', 'trapeo', 'topten', 'top50', 'top5', 'together', 'tobago', 'timings', 'timeless', 'tim', 'tibetan', 'thunder', 'throne', 'thrash', 'thousand', 'thompson', 'thin', 'theodore', 'thailand', 'terrible', 'tenth', 'teenager', 'team', 'tchaikovsky', 'tarzan', 'targeted', 'tara', 'tale', 'sylvia', 'swing', 'survival', 'suriname', 'surf', 'super', 'sudden', 'studies', 'stracciatella', 'starts', 'starship', 'stacy', 'souls', 'sons', 'solos', 'soft', 'soca', 'smoke', 'smile', 'smart', 'skull', 'skies', 'skatepark', 'sint', 'sins', 'singer', 'singapore', 'sinfoníhipster', 'sign', 'showstopper', 'shows', 'shot', 'shop', 'ship', 'sherri', 'sherlock', 'shadows', 'sexy', 'set', 'sessions', 'serve', 'sensation', 'seed', 'section', 'scene', 'savage', 'sauce', 'sara', 'sahara', 'safe', 'sacred', 'réunion', 'rwanda', 'ruth', 'russell', 'run', 'royal', 'rouge', 'roses', 'rosemary', 'rosana', 'roots', 'ron', 'romantic', 'rocky', 'robot', 'robertson', 'rivers', 'rise', 'rio', 'ricky', 'rick', 'revived', 'restaurnt', 'restaurants', 'residence', 'redux', 'redemption', 'reality', 'rates', 'rat', 'rare', 'rapids', 'rainstorm', 'rainforest', 'rage', 'radar', 'racing', 'race', 'quantum', 'push', 'pursuit', 'purple', 'pura', 'pulse', 'puccini', 'progress', 'private', 'presents', 'praise', 'portugal', 'por', 'political', 'pleasant', 'playlists', 'plath', 'plague', 'pirates', 'picnic', 'phunkadelic', 'phineas', 'phillips', 'petar', 'paulinho', 'paula', 'patty', 'path', 'pasta', 'paper', 'palestine', 'palace', 'pain', 'pachangueo', 'osts', 'orchard', 'operation', 'oman', 'olympia', 'ohio', 'office', 'odd', 'ochs', 'ochi', 'oak', 'nuclear', 'nova', 'norfolk', 'noodle', 'noctámbulo', 'nm', 'niños', 'ninth', 'nineteenth', 'nicaragua', 'newberg', 'nevis', 'neo', 'naçãreggae', 'nathan', 'naomi', 'nana', 'naked', 'myth', 'myanmar', 'municipal', 'mozart', 'motion', 'montreal', 'mongolia', 'monaco', 'mom', 'moldova', 'mohammad', 'mis', 'mirror', 'millennium', 'mill', 'military', 'miles', 'mickey', 'metallica', 'merry', 'mendoza', 'mellowed', 'meets', 'medicine', 'medical', 'mccracken', 'mccoy', 'mayotte', 'maxine', 'matters', 'massive', 'mash', 'martinique', 'mars', 'marry', 'marina', 'margaret', 'making', 'makers', 'major', 'maggie', 'madison', 'madagascar', 'macedonia', 'mac', 'maarten', 'lullaby', 'luck', 'luciano', 'logic', 'lisa', 'lion', 'lesotho', 'les', 'legendary', 'leche', 'lebanon', 'learning', 'larry', 'lane', 'kosovo', 'korean', 'kong', 'knows', 'knew', 'kitts', 'khan', 'key', 'kent', 'ken', 'kelly', 'keith', 'junction', 'jr', 'jordan', 'jonny', 'jon', 'johnston', 'joey', 'jewish', 'jefferson', 'jean', 'jason', 'jade', 'italy', 'isaac', 'iris', 'inyección', 'invisible', 'instrumentals', 'infusions', 'indonesian', 'indiespensables', 'ina', 'ik', 'icon', 'ian', 'hynes', 'hurts', 'horrible', 'hoping', 'honeymoon', 'honey', 'honduras', 'hiphop', 'henry', 'helena', 'helden', 'heath', 'hawk', 'hawaii', 'hate', 'hart', 'harding', 'hardcore', 'hannah', 'hank', 'gym', 'guineabissau', 'guide', 'guadeloupe', 'grove', 'ground', 'grime', 'grey', 'gretchen', 'gregori', 'greek', 'grass', 'granddaughter', 'graham', 'gods', 'given', 'girlfriend', 'giants', 'ghosts', 'generation', 'gene', 'gay', 'gaslight', 'garrix', 'gardens', 'garage', 'futuros', 'fry', 'fourteenth', 'found', 'fortune', 'foreign', 'fonsi', 'fly', 'flow', 'flesh', 'flame', 'fires', 'fink', 'fifty', 'fifteen', 'fibra', 'femme', 'favorites', 'fatale', 'fat', 'fashion', 'fantastic', 'famous', 'fair', 'fabri', 'eye', 'extreme', 'expected', 'ex', 'everywhere', 'europe', 'eternal', 'estrellas', 'estonia', 'españplaylist', 'eric', 'equatorial', 'episodes', 'entre', 'entity', 'england', 'encyclopedia', 'empire', 'emma', 'elephants', 'electronics', 'eighth', 'edit', 'economic', 'easy', 'early', 'eagle', 'dying', 'dvd', 'dunbrody', 'duetos', 'dub', 'drum', 'drivein', 'double', 'dorothy', 'dominica', 'domingo', 'dixon', 'divine', 'dio', 'died', 'dictionary', 'diary', 'detective', 'desert', 'deli', 'deception', 'deathcore', 'dear', 'daniel', 'dancehall', 'dana', 'dan', 'dale', 'daddy', 'cut', 'curious', 'crying', 'crown', 'crossing', 'couples', 'costa', 'conspiracy', 'conservation', 'conrey', 'connection', 'confusion', 'conduct', 'condition', 'concentración', 'conan', 'comfort', 'colleague', 'cole', 'cliff', 'cleveland', 'clayton', 'clapton', 'church', 'chronicles', 'chinese', 'chillin', 'chieko', 'chicago', 'chasity', 'chapter', 'changes', 'change', 'chance', 'champagne', 'chamber', 'catch', 'carry', 'carpenter', 'cardio', 'car', 'canal', 'canadian', 'camp', 'cameroon', 'cambodia', 'camargo', 'buzz', 'button', 'butterfly', 'business', 'burns', 'burn', 'burke', 'burger', 'bunny', 'building', 'build', 'brunei', 'brothers', 'broadway', 'bride', 'breed', 'break', 'botswana', 'bossa', 'boss', 'born', 'boots', 'boone', 'boon', 'bluff', 'bloody', 'blonde', 'block', 'bite', 'bishop', 'birth', 'biosphere', 'bettye', 'betty', 'better', 'behavior', 'bedroom', 'beaver', 'beast', 'barbados', 'baking', 'bajo', 'bahrain', 'bahamas', 'bacon', 'babylon', 'azerbaijan', 'awful', 'award', 'available', 'attic', 'atlas', 'astronomy', 'astor', 'asia', 'ascension', 'arthur', 'army', 'arms', 'armand', 'argentina', 'antarctica', 'animals', 'angels', 'angel', 'andrews', 'andrea', 'andorra', 'anderson', 'ancient', 'amityville', 'ami', 'amanda', 'along', 'alice', 'ali', 'alexander', 'ahmad', 'agent', 'age', 'aftercluv', 'adobe', 'adams', 'act', 'across', 'access', '88', '60s', '4th', '48', '35', '27', '25th', '2039', '1st', '1998', '1992', '1989', '1985', '1983', '1982', '1968', '1967', '16th', '00', '’take', 'íde', 'ël', 'écadas', 'ádance', 'á', '¡fiesta', 'zone', 'zenith', 'zebra', 'zachary', 'yusef', 'yuna', 'yoshiki', 'yolanda', 'yemen', 'ye', 'yauch', 'yang', 'xoxo', 'writings', 'wright', 'wow', 'woven', 'worthy', 'worms', 'working', 'workday', 'words', 'wondering', 'wolseley', 'wittig', 'witness', 'wise', 'winifred', 'wing', 'win', 'william', 'wildorado', 'wikipedia', 'wide', 'wicked', 'whm', 'whispers', 'whether', 'wheeler', 'wells', 'weird', 'web', 'ways', 'waterscapes', 'waters', 'warped', 'warp', 'wants', 'walt', 'wagon', 'waffles', 'w', 'vue', 'vs', 'vonstroke', 'vivian', 'visit', 'violet', 'viktor', 'victory', 'vickie', 'vengeance', 'venetian', 'velvet', 'velma', 'vasquez', 'vanishing', 'vampire', 'valverde', 'v', 'utsler', 'utatsuki', 'uruguay', 'urbano', 'ups', 'upper', 'upon', 'unseen', 'university', 'unicorn', 'unholy', 'underwood', 'uncommon', 'uncle', 'uncharted', 'unborn', 'una', 'umbrian', 'um', 'ultra', 'ul', 'uintah', 'twerkout', 'twentysixth', 'twelfth', 'turtle', 'turks', 'tun', 'try', 'truth', 'truly', 'trower', 'trips', 'triple', 'tries', 'trex', 'trentino', 'treeful', 'treasure', 'transformers', 'trails', 'trad', 'tracy', 'toy', 'township', 'towers', 'tower', 'tourte', 'tourist', 'torn', 'tombstone', 'togo', 'todays', 'toast', 'titanic', 'tinker', 'tina', 'timor', 'til', 'ticket', 'tia', 'ti', 'thought', 'thorn', 'thief', 'thick', 'therapy', 'theology', 'thai', 'tetsuya', 'testament', 'tesh', 'terror', 'territories', 'terrace', 'teresa', 'temple', 'teh', 'techno', 'teacher', 'tatar', 'target', 'tape', 'tallinn', 'talks', 'taking', 'takes', 'taken', 'syria', 'synthpop', 'symphonic', 'swordsman', 'switzer', 'swiss', 'sweeney', 'sweat', 'swan', 'swagger', 'suzuki', 'sushis', 'supernatural', 'suns', 'sundanese', 'sugarfoot', 'sugar', 'suffer', 'stupid', 'stuffed', 'study', 'studio', 'stuart', 'stu', 'struggle', 'strogoff', 'strawberry', 'store', 'stonewood', 'stick', 'stewart', 'steven', 'stetson', 'stella', 'steel', 'staton', 'starling', 'starlight', 'starcross', 'stain', 'spyforce', 'spy', 'spent', 'species', 'sparro', 'spades', 'souza', 'soup', 'soundscapes', 'sos', 'sorrow', 'sophisticated', 'sonoras', 'sonning', 'sonata', 'som', 'solomon', 'solitude', 'sold', 'softly', 'soda', 'social', 'snake', 'smelt', 'smashers', 'small', 'slut', 'slovakia', 'slim', 'slave', 'slap', 'skills', 'sixty', 'sixth', 'single', 'singing', 'sinatra', 'silence', 'signed', 'showtime', 'showers', 'shooting', 'shooter', 'shoot', 'shoe', 'shinji', 'shine', 'shelter', 'shell', 'sheila', 'shawn', 'shannon', 'shamrock', 'shakur', 'shakira', 'shaggy', 'shades', 'sha', 'seychelles', 'sergei', 'sentenced', 'senegal', 'send', 'selling', 'selena', 'selections', 'selection', 'select', 'seeing', 'seeger', 'seduction', 'secunderabad', 'secondary', 'sebastian', 'seasons', 'seal', 'se', 'scrolls', 'screening', 'scorpion', 'scientific', 'schuyler', 'schenker', 'schemer', 'scandinavian', 'saturn', 'sappho', 'salt', 'salade', 'safety', 'sad', 'sacrifice', 'russian', 'ruby', 'roy', 'row', 'route', 'rope', 'ronnie', 'romántica', 'romania', 'roman', 'rogue', 'robinson', 'robbie', 'roads', 'roadhouse', 'ritmos', 'rita', 'rings', 'riding', 'rider', 'rice', 'ric', 'ribs', 'ribbons', 'ribbon', 'rhymes', 'rhett', 'reza', 'reyna', 'rewind', 'revisited', 'reverie', 'returns', 'retrowave', 'resurrection', 'resturant', 'rest', 'research', 'reno', 'remembrance', 'remains', 'relish', 'release', 'refugee', 'reels', 'recovery', 'records', 'recordings', 'rebellion', 'rebekah', 'rebecca', 'reason', 'really', 'rats', 'rapcaviar', 'ransom', 'ranch', 'railway', 'radical', 'racionais', 'rachael', 'races', 'quiet', 'putnam', 'puppet', 'pugu', 'puglia', 'puerta', 'psychologist', 'psychedelia', 'provide', 'prophecy', 'proof', 'program', 'professionals', 'processing', 'privileges', 'prisoner', 'prime', 'pretty', 'preferably', 'prediction', 'prairie', 'powerhouses', 'potée', 'potter', 'pot', 'portrait', 'porter', 'porcupine', 'porch', 'polygon', 'police', 'playlsit', 'playa', 'plain', 'pizzas', 'pitcairn', 'pillow', 'pigs', 'pig', 'pie', 'picasso', 'piazzolla', 'phoenix', 'phinally', 'phetra', 'phantom', 'phamous', 'peyroux', 'pete', 'pesterminator', 'peru', 'personal', 'persian', 'pennsylvania', 'pearson', 'pearl', 'peaks', 'peak', 'peaches', 'peacefulness', 'patrol', 'past', 'passage', 'partners', 'parker', 'paranormal', 'papers', 'papa', 'panama', 'pan', 'palmer', 'page', 'pablo', 'ozzy', 'ozma', 'oz', 'oxford', 'outrun', 'outpost', 'outlying', 'outer', 'others', 'orion', 'origins', 'orgánica', 'orange', 'operación', 'onions', 'onion', 'om', 'offers', 'odessa', 'occasional', 'oblivion', 'obama', 'oasis', 'nuts', 'numbers', 'notes', 'notebook', 'note', 'norway', 'northeastern', 'northeast', 'noel', 'noam', 'niue', 'nitollano', 'nips', 'nigeria', 'nieces', 'nicodemus', 'nick', 'niagara', 'ni', 'nfl', 'newport', 'nevermore', 'neil', 'neidich', 'nee', 'nearly', 'nazeri', 'nazad', 'navy', 'nauru', 'nationaal', 'nathaniel', 'natasha', 'natalie', 'nastya', 'nashville', 'namibia', 'myths', 'mythology', 'mustard', 'murray', 'murphy', 'murder', 'muppet', 'mughlai', 'mu', 'moved', 'mouse', 'mounted', 'mound', 'mortal', 'morris', 'morocco', 'moroccan', 'moonlight', 'mood', 'monument', 'monty’hotel', 'monkeys', 'monkey', 'monk', 'monica', 'moments', 'molecular', 'mo', 'miyazaki', 'mister', 'mission', 'missing', 'mirrors', 'minor', 'mineiro', 'mine', 'mim', 'millions', 'milagros', 'michele', 'michel', 'michaelsen', 'mezes', 'meze', 'meyer', 'mexican', 'met', 'message', 'mesa', 'meriton', 'mercy', 'memoirs', 'melba', 'medley', 'mediterranean', 'medal', 'meatball', 'mcgill', 'mccready', 'mccartney', 'max', 'mauritius', 'mauritania', 'matthew', 'matrix', 'masters', 'masks', 'marx', 'marty', 'married', 'marko', 'market', 'mario', 'marino', 'marilyn', 'maria', 'mare', 'marc', 'maple', 'many', 'manual', 'manos', 'manor', 'manifesto', 'manadonese', 'mama', 'mali', 'maldives', 'malcolm', 'malawi', 'maki', 'maker', 'main', 'mahatma', 'magnifico', 'magnificent', 'magician', 'magical', 'madrugando', 'madness', 'madden', 'macmaster', 'maclean', 'lynne', 'lynn', 'luxembourg', 'luther', 'lupe', 'luke', 'lu', 'loyola', 'low', 'lotus', 'lorenzo', 'lords', 'lomax', 'lohan', 'lock', 'livonia', 'liver', 'liubi', 'lithuania', 'listings', 'listening', 'link', 'lindsay', 'linda', 'limits', 'lil', 'lie', 'libre', 'liberty', 'liberalism', 'level', 'letty', 'leonville', 'leone', 'leo', 'lenny', 'leigh', 'legacy', 'leeds', 'lebanese', 'leanne', 'lawrence', 'lavina', 'laurie', 'laurelhurst', 'lateef', 'laos', 'lao', 'language', 'landscape', 'lands', 'landing', 'landers', 'lakeisha', 'lace', 'kyrgyzstan', 'kyd', 'kosher', 'kool', 'ko', 'knowledge', 'klamath', 'kisaki', 'kirkorow', 'kirk', 'kiribati', 'kimberley', 'kim', 'killing', 'killed', 'kill', 'kickboxer', 'kickass', 'keren', 'keeling', 'kebab', 'karl', 'karina', 'kane', 'kan', 'kamenskih', 'kalica', 'kahn', 'justin', 'juliana', 'julian', 'juan', 'josh', 'josefina', 'jonathan', 'johansen', 'joel', 'jo', 'jingle', 'jill', 'jigs', 'jesus', 'jesper', 'jenifer', 'jeanne', 'javanese', 'jared', 'japanese', 'jamie', 'jami', 'jain', 'jacob', 'jacksonville', 'jacinto', 'iv', 'ito', 'itch', 'italianamerican', 'issue', 'islam', 'isabella', 'irma', 'iren', 'ireland', 'iraq', 'international', 'intensity', 'infantil', 'industrial', 'independent', 'inconfundible', 'impulso', 'impossible', 'imogen', 'immortals', 'im', 'iii', 'igor', 'hurley', 'hunting', 'humour', 'humor', 'howard', 'horror', 'horizons', 'horace', 'hope', 'hook', 'hombres', 'holy', 'holtville', 'hold', 'hocus', 'ho', 'hitchcock', 'historical', 'hiptronix', 'highlands', 'hess', 'hermann', 'heritage', 'hercules', 'hello', 'heavenly', 'heard', 'heap', 'healy', 'hayes', 'hawaiian', 'havana', 'hastings', 'hasselhoff', 'harveys', 'harvest', 'harlem', 'haq', 'hanging', 'handover', 'hammer', 'hamasaki', 'haiti', 'haines', 'haigler', 'h', 'gypsy', 'guys', 'guilty', 'guests', 'guatemala', 'grows', 'grounds', 'grind', 'greg', 'greensburg', 'gray', 'grant', 'grandkid', 'grandes', 'grammar', 'gospel', 'gorilla', 'gordon', 'gonna', 'golden', 'goa', 'gluten', 'gloria', 'gladiators', 'git', 'giovanni', 'gilbert', 'ghetto', 'ghana', 'getting', 'geronimo', 'german', 'geraldine', 'georgiev', 'georgetown', 'genuine', 'genaro', 'gatlin', 'gathering', 'gateway', 'garrison', 'gareth', 'garden', 'gap', 'gangsta', 'gamesradar', 'games', 'gamble', 'fuzzy', 'fusil', 'fury', 'fun', 'fríplaylist', 'frontier', 'frog', 'fro', 'friona', 'fries', 'friend', 'fridays', 'freud', 'frederick', 'fred', 'franklin', 'francis', 'francesco', 'forty', 'forth', 'fork', 'forecase', 'follow', 'folkrock', 'flying', 'fleetwood', 'flats', 'fist', 'firehouse', 'fins', 'finland', 'fimd', 'filipp', 'files', 'fighting', 'fight', 'festoni', 'ferret', 'fernández', 'fernando', 'female', 'feelin', 'feast', 'fatone', 'fathers', 'fate', 'faroe', 'farmington', 'farmer', 'farian', 'fargo', 'fantasíplaylist', 'fantasy', 'fallen', 'fake', 'fairview', 'factbook', 'faces', 'fabulosos', 'exterminator', 'expressive', 'expect', 'exit', 'exiled', 'evolution', 'everything', 'everybody', 'events', 'etta', 'ethics', 'estréplaylist', 'essential', 'essays', 'esenciales', 'escapada', 'ernie', 'erin', 'era', 'episode', 'entire', 'enter', 'enough', 'enjoy', 'enid', 'engadget', 'endangered', 'empanada', 'emotron', 'emoji', 'emo', 'emil', 'elrow', 'elkie', 'eletro', 'elephant', 'elena', 'electrosafari', 'electronica', 'elder', 'egg', 'eef', 'educational', 'edna', 'edm', 'edith', 'edgemoor', 'eddie’attic', 'ecological', 'echo', 'ebony', 'ebi', 'dune', 'duck', 'drowning', 'drink', 'drake', 'dragons', 'drag', 'downtempo', 'doughnuts', 'dougan', 'doom', 'doodle', 'donut', 'dominican', 'dolly', 'dolls', 'doi', 'documentary', 'djibouti', 'division', 'dishwashing', 'dish', 'dinosaur', 'dillard', 'digging', 'different', 'dick', 'diarios', 'diann', 'diamonds', 'dharma', 'devils', 'detroit', 'details', 'descendants', 'desantis', 'depot', 'dennis', 'dena', 'den', 'demos', 'demonstration', 'dement', 'delisle', 'definitely', 'decades', 'deborah', 'dearest', 'deanna', 'deana', 'dean', 'deadly', 'deacon', 'daughters', 'datil', 'das', 'darlene', 'darkest', 'darker', 'daring', 'dans', 'dangers', 'dancefloor', 'damon', 'dallas', 'dakus', 'daedelus', 'cyprus', 'cycle', 'cyber', 'curtis', 'curse', 'curl', 'cure', 'curacao', 'cupcake', 'cuisines', 'cubby', 'cuba', 'crowd', 'crimson', 'crime', 'crew', 'creole', 'creatures', 'creativo', 'crazy', 'cracks', 'crab', 'cox', 'cowboy', 'covers', 'coverage', 'covenant', 'cove', 'courtney', 'countdown', 'cotton', 'coti', 'cosby', 'corrina', 'cormorant', 'cord', 'coon', 'cookie', 'cook', 'control', 'contemporary', 'contact', 'connie', 'confidence', 'concord', 'concepcion', 'computer', 'complex', 'community', 'common', 'comics', 'com', 'colour', 'collins', 'collecting', 'colette', 'cocktail', 'coast', 'clásica', 'clothes', 'clone', 'climax', 'clifton', 'claus', 'claudine', 'claude', 'classified', 'clarke', 'clan', 'civil', 'cities', 'cistern', 'cissy', 'circus', 'cierra', 'cia', 'chymical', 'chu', 'christopher', 'christina', 'christ', 'chisholm', 'childs', 'chen', 'chemistry', 'cheapest', 'chavez', 'charming', 'charlotte', 'charleston', 'charenton', 'chapman', 'chapel', 'chandler', 'challenge', 'chain', 'cave', 'caucasian', 'cats', 'castles', 'casserole', 'cary', 'carne', 'carmen', 'carey', 'caretaker', 'care', 'carbuncle', 'captain', 'cappella', 'capistrano', 'canteen', 'canem', 'candi', 'canciones', 'campbell', 'cali', 'caledonia', 'caicos', 'cahn', 'cadogan', 'cadillacs', 'cabin', 'cabeza', 'bush', 'burrito', 'burnley', 'bullets', 'bullet', 'bulgaria', 'buckland', 'bt', 'bso', 'brubeck', 'brooks', 'broadrick', 'britpop', 'brief', 'brick', 'breaks', 'breakers', 'brave', 'brat', 'brass', 'brand', 'brain', 'br', 'bouvet', 'bottom', 'booze', 'boost', 'booked', 'bonobo', 'bonnie', 'bonaparte', 'bon', 'bolivia', 'bogus', 'bobcat', 'bluegrass', 'bloom', 'blast', 'blanca', 'bitten', 'bitch', 'biography', 'bing', 'billboard', 'bikini', 'biddle', 'bicicleta', 'bible', 'bhutan', 'bf', 'beverly', 'beverley', 'bettie', 'bert', 'berry', 'berlin', 'berghoff', 'benin', 'beneath', 'beloved', 'belongs', 'bells', 'belle', 'belize', 'belinda', 'believe', 'bees', 'beer', 'beautiful', 'beauregard', 'beau', 'beardslee', 'beard', 'baylor', 'baumann', 'battles', 'battlefield', 'batman', 'bastian', 'basement', 'based', 'barzelay', 'barthélemy', 'barre', 'baroque', 'barker', 'barberville', 'barbecue', 'banks', 'bangladesh', 'bandas', 'banana', 'ballet', 'balinese', 'baker', 'baila', 'bach', 'baba', 'ayumi', 'axis', 'avispa', 'ava', 'aux', 'author', 'austria', 'australian', 'audra', 'audio', 'au', 'atop', 'atomic', 'assignments', 'assassin', 'ashlee', 'aruba', 'artani', 'armstrong', 'arlene', 'ari', 'arena', 'areas', 'archer', 'approach', 'apocalypse', 'apartment', 'apache', 'antoinette', 'anthology', 'anthems', 'anthem', 'antebellum', 'anochecer', 'anniversary', 'annette', 'angola', 'angelo', 'angelita', 'angeles', 'andreas', 'anchor', 'anatomy', 'ana', 'amy', 'among', 'amir', 'amigos', 'amelia', 'ambient', 'amber', 'alvarez', 'alta', 'also', 'als', 'almost', 'alma', 'alley', 'allentown', 'alla', 'aliens', 'alejandro', 'alba', 'airbnb', 'ai', 'ahbez', 'agincourt', 'affair', 'adrian', 'adrenaline', 'administrative', 'addition', 'addicted', 'action', 'acres', 'acapella', 'abyss', 'absolutely', 'abrar', 'abdul', 'abby', '99', '74', '6th', '61', '52', '43', '28th', '28', '27th', '26th', '22nd', '2027', '2008', '2001', '1995', '1994', '1979', '1960', '1956', '1955', '1953', '1950', '17th', '14th', '13th', '105th', '0222', '楽園追放', '…', '“chirping”', '’winning', '’trap', '’ok', '’man', '’cyborg', '’72', 'ōtone', 'ōko', 'íplaylist', 'ífelices', 'ênationale', 'érie', 'ãtomé', 'árvore', 'áque', 'áplaylist', 'ánimo', 'álindas', 'à', 'zwölf', 'zwanzig', 'zulkifli', 'zukie', 'zueras', 'zombieland', 'zombie', 'zolfonun', 'ziwa', 'zitarrosa', 'zion', 'zetlitz', 'zephyrhills', 'zenda', 'zena', 'zei', 'zeebra', 'zec', 'zapata', 'zandt', 'zamiast', 'zamboanga', 'zaleski', 'zak', 'zahn', 'za', 'z', 'yvonne', 'yuvan', 'yury', 'yung', 'yummy', 'yumi', 'yukiko', 'yui', 'yuhki', 'yuchun', 'yuauea', 'yu', 'youssef', 'youngest', 'yoshimi', 'yorkston', 'yokoyama', 'yogurt', 'yo', 'yngve', 'yiddish', 'yesudas', 'yesterday', 'yesipova', 'yeon', 'yearbook', 'yeah', 'yard', 'yarbrough', 'yangtze', 'yamma', 'yamashita', 'yamane', 'yale', 'yakima', 'yajima', 'yacoubian', 'xyy', 'xuefei', 'xsuie', 'xquery', 'xplorer', 'xl', 'xiv', 'xin', 'xenomania', 'xena', 'xanadu', 'wyomissing', 'wynton', 'wynter', 'wynonna', 'wyndorf', 'wylliesburg', 'wyatt', 'wyandotte', 'wxhexeditor', 'wwe', 'wuv', 'wuthering', 'wuill', 'wrong', 'written', 'write', 'wrigley', 'wrightstown', 'wren', 'wreck', 'wrath', 'worthington', 'worship', 'worldly', 'workplace', 'workin’', 'workflow', 'wore', 'worden', 'wooster', 'wooly', 'woodward', 'woodston', 'woodsfield', 'woods', 'woodruff', 'woodport', 'woodchuck', 'woo', 'wonders', 'womack', 'wolves', 'wolin', 'wolfe', 'wolf', 'wolcott', 'wizards', 'wizardry', 'wits', 'witches', 'witch', 'wisdom', 'wirth', 'wipers', 'winwood', 'winner', 'winnebago', 'wingz', 'winger', 'winfield', 'winestained', 'windhorst', 'winbush', 'wimpy', 'willy', 'willows', 'willow', 'willits', 'willimantic', 'willie', 'williamsport', 'willa', 'wildreservaat', 'wildland', 'wilderville', 'wilde', 'wilcox', 'wilco', 'wiktor', 'wikluh', 'wight', 'wien', 'wielding', 'widow', 'wideeyed', 'wideacre', 'wickersham', 'wickens', 'wholehearted', 'whittier', 'whittaker', 'whitney', 'whitewood', 'whitewater', 'whiteman', 'whitebrook', 'whitby', 'whitaker', 'whit', 'whistler', 'whisperer', 'whiskey', 'whiskers', 'whip', 'whigs', 'whens', 'wheel', 'whee', 'wheatley', 'whatever', 'whaere', 'wetumpka', 'westlake', 'westfield', 'westernport', 'westcountry', 'wesley', 'werner', 'werewolf', 'wentworth', 'went', 'wenn', 'wendy', 'wendell', 'weldona', 'welch', 'weir', 'weight', 'wehbe', 'weedsport', 'wee', 'wednesday', 'wedlock', 'webley', 'webbe', 'webb', 'weathervane', 'wears', 'weapons', 'weapon', 'waxhaw', 'waurika', 'wauregan', 'watsons', 'watkins', 'waterfall', 'watchman', 'watauga', 'watanabe', 'wastedagain', 'wasser', 'wasps', 'wartime', 'warriors', 'warpaint', 'warned', 'warlock', 'warheart', 'warhead', 'waretown', 'warehouse', 'wardville', 'ward', 'warcraft', 'wanted', 'wannadies', 'wang', 'wanderer', 'wand', 'waltersville', 'walsh', 'walsenburg', 'walpole', 'walnut', 'wally', 'wallsburg', 'wallis', 'waller', 'walla', 'walks', 'walder', 'walden', 'wakeshima', 'wakelin', 'wakefield', 'wakarusa', 'waits', 'wait', 'waipio', 'wahhabi', 'wagstaff', 'wagram', 'wagoner', 'wagner', 'wagener', 'waffle', 'wafah', 'wade', 'waddy', 'waconia', 'wabuska', 'vysotski', 'vybz', 'vyas', 'vthe', 'voyages', 'vortex', 'vonda', 'von', 'volume4', 'volubilis', 'volga', 'vogue', 'voce', 'vladimir', 'vl', 'visual', 'vista', 'vissi', 'visjoner', 'visionary', 'visible', 'viroqua', 'virginian', 'viral', 'vipers', 'violent', 'violence', 'vintage', 'vinson', 'vinnie', 'vini', 'vinci', 'vinayakram', 'vimy', 'vilma', 'villotta', 'villalobos', 'villa', 'vill', 'vikku', 'vikki', 'vii', 'vigus', 'vigilantes', 'vietnam', 'vie', 'vidyadhar', 'viderunt', 'vidar', 'vidal', 'victoria', 'victor', 'vicki', 'vichyssoise', 'vice', 'vic', 'vibe', 'veyo', 'vet', 'vertically', 'verona', 'vernon', 'verna', 'vermicelli', 'verjamem', 'verenikina', 'verdure', 'verdi', 'verdery', 'verden', 'vera', 'veneto', 'venedig', 'vegetarian', 'vegetables', 'vegard', 'vegan', 'vega', 'vazquez', 'vaughn', 'vaughan', 'vasechkin', 'varnado', 'variation', 'varenyky', 'var', 'vanquished', 'vanlue', 'vanity', 'vandyke', 'vandalia', 'vampires', 'vampate', 'valy', 'valor', 'vallecito', 'valle', 'valentyne', 'valentine', 'valens', 'valenciano', 'vale', 'valarie', 'vadivel', 'vache', 'vacation', 'utopian', 'utopia', 'utamaro', 'ussr', 'uses', 'uroy', 'urmston', 'urbank', 'urbanette', 'uranus', 'uproar', 'upbuilding', 'unwind', 'unwelcome', 'unsettled', 'unreleased', 'unravel', 'unpleasantness', 'unnikrishnante', 'unnaturals', 'unmooring', 'unleashed', 'universum', 'unite', 'unit', 'uniontown', 'unexpected', 'undressed', 'understanding', 'undatakerz', 'und', 'uncut', 'unconventional', 'unconscious', 'uncensored', 'uncas', 'unbound', 'unbelievable', 'unbecoming', 'unbeatable', 'unauthorized', 'unarchigal', 'unalaska', 'ultimatum', 'ulterior', 'uli', 'ulen', 'uk', 'ugliness', 'ufo', 'ufc', 'uetoaya', 'uematsu', 'uelmen', 'udupi', 'udhreko', 'ucolo', 'tyranny', 'typeface', 'tyner', 'tyne', 'twoshoes', 'twitty', 'twitches', 'twist', 'twins', 'twice', 'twentysomething', 'twentysecond', 'twentyfourth', 'twentyfirst', 'twentyfifth', 'twas', 'tveitan', 'tuscan', 'tus', 'turunen', 'turtles', 'turning', 'turnin', 'turner', 'turkmenistan', 'turkish', 'turkey', 'turilli', 'turf', 'turbulence', 'turbonegro', 'tupelo', 'tupac', 'tuomas', 'tuolumne', 'tunnel', 'tulsa', 'tullytown', 'tukaram', 'tujiko', 'tuesday', 'tube', 'tubby', 'tu', 'tsūzetsu', 'tsukuru', 'tsukiko', 'tsuji', 'tsubasa', 'tsongas', 'tsoi', 'tsingy', 'tsidii', 'tsetung', 'tschetter', 'tschaikovsky', 'trust', 'trussville', 'trunk', 'trunes', 'truffade', 'true', 'trucks', 'trout', 'troubles', 'trottole', 'trotamundos', 'tropézienne', 'troops', 'troopers', 'troll', 'trivial', 'triumph', 'tritonian', 'trisha', 'tripp', 'triphop', 'trina', 'trilogy', 'trigorin', 'tribeca', 'tribal', 'trials', 'trentwood', 'trenton', 'tremonti', 'trees', 'treasures', 'travis', 'traverse', 'travels', 'travelers', 'trauma', 'trapped', 'trapp', 'trapaholics', 'transmission', 'translations', 'transcending', 'transatlantic', 'tranquility', 'trancers', 'tramp', 'traitor', 'trains', 'tragedy', 'traffic', 'tracyton', 'tracking', 'tracie', 'traces', 'trace', 'toys', 'toyan', 'toxicology', 'toxic', 'townsell', 'townes', 'towel', 'toward', 'toussaint', 'toung', 'toucher', 'totowa', 'toto', 'totality', 'tory', 'tortured', 'tortoise', 'tortelloni', 'tortano', 'torrey', 'torch', 'topton', 'topock', 'topfive', 'topfifty', 'tooth', 'took', 'tonya', 'tonopah', 'toni', 'tongue', 'tonga', 'tones', 'tomy', 'tomtegubben', 'tomohisa', 'tommie', 'tomb', 'tolmatschowa', 'tolling', 'toll', 'tolhuaca', 'tolerance', 'tokelau', 'toilet', 'toi', 'tofu', 'todos', 'todorova', 'todesfalle', 'tod', 'tobymac', 'toby', 'tobias', 'tmpgenc', 'tkk', 'tivington', 'tity', 'tisdale', 'tira', 'tiplersville', 'tioga', 'tiny', 'tingley', 'tin', 'timour', 'timis', 'timer', 'timeline', 'timbers', 'tight', 'ties', 'tieghem', 'tides', 'tide', 'ticks', 'tianjin', 'tianhua', 'thyme', 'thyatis', 'thurmont', 'thunderbolt', 'thumps', 'thugs', 'thug', 'ths', 'thrones', 'throb', 'thrills', 'thread', 'thorns', 'thor', 'thomson', 'thompsontown', 'tholireyi', 'thirayum', 'thieving', 'thicket', 'therese', 'theo', 'thenaruvi', 'thelma', 'thelema', 'thekra', 'theft', 'theeravum', 'thee', 'tharpe', 'thap', 'thames', 'thale', 'thacker', 'teyana', 'text', 'teuflische', 'tetrazzini', 'teterville', 'testing', 'testifying', 'testaroli', 'tessa', 'tesoro', 'terrors', 'terrorists', 'territory', 'terrie', 'terri', 'terre', 'terminator', 'terje', 'teri', 'tera', 'tepper', 'teo', 'tenerife', 'tenderfoot', 'tenbrooks', 'tenacious', 'tempunauts', 'temptation', 'tempo', 'temnikova', 'tembe', 'telogia', 'tells', 'televised', 'telepathic', 'telemark', 'teide', 'tei', 'tehama', 'teens', 'teenagers', 'teenage', 'teen', 'ted', 'technoindustrial', 'technicalbrutal', 'tearing', 'teahouse', 'teachings', 'teaching', 'tbe', 'tazaki', 'tawakoni', 'tavan', 'tatranationalpark', 'tatjana', 'tatico', 'tate', 'tatamy', 'tata', 'taste', 'taskcracker', 'tasher', 'tarts', 'tartinery', 'tartine', 'tarte', 'tarkan', 'tarja', 'tar', 'tapper', 'tanya', 'tanti', 'tanque', 'tankmen', 'tanisha', 'tanimura', 'tania', 'tango', 'tangier', 'taneyamagahara', 'tanana', 'tamra', 'tammi', 'tamio', 'tami', 'tameka', 'tam', 'talkow', 'talking', 'talbot', 'tal', 'takuro', 'takei', 'takahito', 'takahashi', 'taiyō', 'tailwind', 'tailspin', 'tails', 'tailor', 'tad', 'tactics', 'taco', 'tachibana', 'tabor', 'tabloid', 'tables', 'taberville', 'szahram', 'syy', 'systems', 'syrup', 'syndrome', 'syndicate', 'sync', 'symphonique', 'sympathy', 'sydney', 'swords', 'switzerland', 'switching', 'swine', 'swindlers', 'swim', 'swift', 'sweets', 'swat', 'swans', 'swamp', 'sveta', 'sverre', 'svalbard', 'suzette', 'suwannee', 'suwanee', 'suus', 'sutphin', 'sutheppui', 'sushi', 'susanne', 'susana', 'susan', 'survive', 'suribachi', 'surfs', 'surfer', 'sure', 'supremacy', 'supply', 'supernaut', 'supercop', 'sunstar', 'sunnybrook', 'sundown', 'sulle', 'suling', 'sukkot', 'suites', 'suitcase', 'suit', 'suicide', 'sugiyama', 'sugarville', 'sugarloaf', 'sue', 'sudol', 'sudarmoricaine', 'sud', 'sucks', 'successful', 'success', 'submarine', 'subliminal', 'subcontract', 'subconscious', 'sturgis', 'sturgeon', 'stunt', 'stumble', 'stuff', 'student', 'stuck', 'strumpet', 'strongest', 'stronda', 'stroll', 'strobl', 'stripes', 'stringtown', 'strings', 'stretch', 'strength', 'streisand', 'streets', 'streetdanz', 'streaming', 'stream', 'strays', 'strayhorn', 'stratan', 'strasburg', 'strandburg', 'straight', 'stracke', 'strabane', 'stormzy', 'storeys', 'stops', 'stoppard', 'stookey', 'stood', 'stoneage', 'ston', 'stomp', 'stolen', 'stoddard', 'stock', 'stobo', 'stle', 'stitches', 'stinky', 'sting', 'stillest', 'steward', 'stew', 'stevie', 'stevan', 'stern', 'sterling', 'stereophonics', 'stereo', 'steptoe', 'stepmother', 'stephens', 'stephen', 'stephanie', 'stelvio', 'steinway', 'stehekin', 'stefon', 'steamboat', 'steam', 'steady', 'stays', 'status', 'statue', 'statistics', 'statistical', 'stationery', 'starr', 'starkey', 'stares', 'stanshall', 'stansbury', 'stanislaus', 'standing', 'standard', 'stand', 'stanardsville', 'stamps', 'stallion', 'stalinism', 'staley', 'stairs', 'staircase', 'stage', 'stadium', 'sreekumar', 'squires', 'squire', 'squared', 'spätzle', 'springtime', 'springt', 'springside', 'spree', 'sprechen', 'spread', 'spotat', 'sportsdome', 'sports', 'sport', 'spooning', 'spoils', 'spoiler', 'split', 'splendor', 'splendido', 'spirituals', 'spirits', 'spinnin', 'spinna', 'spine', 'spiderman', 'spider', 'spencer', 'spell', 'spectres', 'specialities', 'spasmolytic', 'sparrow', 'sparks', 'spalding', 'spaghetti', 'spade', 'spaceball', 'spaceage', 'soybelman', 'sower', 'soviet', 'southwest', 'southtown', 'southford', 'soundscape', 'soultaker', 'soulblighter', 'sorted', 'sorry', 'sorcery', 'sorasil', 'soonchild', 'soon', 'sonya', 'sontha', 'sonsee', 'sonogi', 'sonntagskind', 'sonntag', 'sonja', 'sonic', 'songimvelo', 'somwhere', 'somis', 'somiedo', 'somi', 'somewhee', 'sometimes', 'somesville', 'sombrero', 'solveig', 'solutions', 'solution', 'solromar', 'soldier', 'solange', 'soil', 'sohl', 'sofia', 'soem', 'socrates', 'sociology', 'socialism', 'socca', 'sobule', 'sober', 'soapsuds', 'soak', 'soa', 'snuva', 'snuffy', 'snowman', 'snowbound', 'snowball', 'sniper', 'snider', 'sneetches', 'sneaky', 'snares', 'snare', 'snapfinger', 'snaith', 'snack', 'smolan', 'smokefree', 'smith9th', 'smit', 'smiles', 'slovak', 'slippery', 'sligo', 'slice', 'slept', 'slender', 'sleepy', 'sleeps', 'sleepify', 'slean', 'slay', 'slaughterhouse', 'slaughter', 'slated', 'slanguages', 'slang', 'slane', 'slackers', 'skystone', 'skylar', 'skyfall', 'skycity', 'skunk', 'sklar', 'skip', 'skin', 'skid', 'skeptic', 'skepta', 'skeets', 'skaggs', 'skagen', 'sjedokowa', 'sixpence', 'sivamani', 'situation', 'sitek', 'sita', 'sit', 'sistersville', 'sisters', 'sisterhood', 'sirusho', 'sirivantha', 'siouxsie', 'sioux', 'singstar', 'singh', 'singers', 'sims', 'simply', 'simplest', 'simplescreenrecorder', 'simple', 'simon', 'silvio', 'silvia', 'silvester', 'silvers', 'siler', 'sight', 'sig', 'sifow', 'siesta', 'sierraville', 'sidnaw', 'sicilian', 'sichuan', 'siavash', 'sia', 'si', 'shutdown', 'shubuta', 'showtunes', 'showbiz', 'shout', 'shorty', 'shores', 'shore', 'shopsins', 'shops', 'shopping', 'shoots', 'shootings', 'shooby', 'shoo', 'shogun', 'shoes', 'shockscape', 'shivers', 'shiva', 'shit', 'shirley', 'shinoda', 'shining', 'shingleton', 'shines', 'shinehead', 'shimotsuki', 'shilkret', 'shiina', 'shider', 'shibabaw', 'shi', 'shesher', 'sheryfa', 'sherwood', 'sherry', 'shermann', 'sheriff', 'sheri', 'shelley', 'shelby', 'sheep', 'sheehan', 'shedevil', 'shed', 'shawnna', 'shawna', 'shaw', 'shavuot', 'shavo', 'shaun', 'shattered', 'sharlene', 'shari', 'shara', 'shaolin', 'shankar', 'shangrila', 'shanghaï', 'shanghai', 'shame', 'shallow', 'shakti', 'shaker', 'shaina', 'shahrum', 'shahram', 'shah', 'shagrath', 'shadowplay', 'shadjarian', 'shack', 'shabbona', 'sexuality', 'sewickley', 'seward', 'severe', 'sevenups', 'seung', 'seun', 'setting', 'settha', 'session', 'servec', 'seron', 'sergeants', 'sergeant', 'serendipity', 'serenata', 'sequences', 'seok', 'sensory', 'senshi', 'sensations', 'senkyo', 'senior', 'sencha', 'seminary', 'semidevils', 'semanal', 'selva', 'selmont', 'selmer', 'sell', 'selinsgrove', 'selim', 'selected', 'sehlabathebenationalpark', 'seek', 'seductive', 'secretary', 'secour', 'sebesky', 'sebastien', 'seaside', 'seas', 'searves', 'searcy', 'searchlights', 'sean', 'seamus', 'seaman', 'sealy', 'sealed', 'scription', 'scribblings', 'screwed', 'screams', 'screaming', 'scream', 'scratchy', 'scrapple', 'scouse', 'scoundrels', 'scottish', 'scotland', 'scorpio', 'scorching', 'scoop', 'scofield', 'scifi', 'scientist', 'sciences', 'schwestern', 'schultz', 'schooltool', 'schoolhouse', 'scholarmate', 'schock', 'schneerson', 'schlitt', 'scheudle', 'schenectady', 'schalwowitsch', 'scattered', 'scarnato', 'scarface', 'scarecrow', 'scaramouche', 'scarab', 'scantlin', 'scanner', 'scales', 'saxophone', 'saxis', 'sax', 'sawtooth', 'sawai', 'savoy', 'saviour', 'savior', 'savannah', 'saurials', 'satisfied', 'satire', 'sathya', 'satanta', 'satanism', 'satanas', 'satan', 'sashimi', 'sargents', 'sardonic', 'sardis', 'sardinian', 'sarban', 'saratoga', 'saracens', 'sapin', 'sapheads', 'saori', 'santana', 'sans', 'sankos', 'sankha', 'sankertown', 'sanjeev', 'sanilac', 'sanger', 'sanford', 'sandy', 'sandworms', 'sandstone', 'sandoval', 'sandie', 'sanders', 'sandeep', 'sand', 'sanchez', 'samuel', 'sample', 'samira', 'samath', 'salò', 'salvation', 'salvage', 'saltik', 'salomon', 'salmonella', 'salmon', 'salinas', 'salina', 'salim', 'salil', 'salemburg', 'sale', 'salami', 'salado', 'salad', 'salaameishq', 'sal', 'saki', 'saison', 'saintpierre', 'sails', 'sail', 'said', 'sadmani', 'sadface', 'saddle', 'sac', 'sabo', 'sabah', 'saba', 'rzayeva', 'ryō', 'ryuichi', 'ryan', 'rx', 'ruxpin', 'ruwanga', 'ruud', 'rusty', 'rustic', 'rustam', 'russel', 'ruslana', 'rushton', 'rushall', 'rupam', 'runs', 'runkaus', 'runaljod', 'rumyantsev', 'rump', 'rumor', 'rum', 'rules', 'ruled', 'rule', 'ruiz', 'ruggiero', 'ruffin', 'ruel', 'rudolf', 'rubinstein', 'rubalcaba', 'rss', 'roxy', 'roxanne', 'routine', 'rouhollah', 'rotem', 'rossum', 'roslin', 'roseville', 'rosetta', 'rosenberg', 'rosenbaum', 'roselle', 'roseburg', 'rosebud', 'roseau', 'roscoff', 'rosco', 'rosario', 'rosaries', 'rosanne', 'rosanna', 'rosalie', 'rosales', 'rosa', 'root', 'roosevelt', 'roos', 'roommate', 'rookantha', 'ronski', 'ronald', 'románticas', 'romeos', 'rome', 'rombola', 'romanian', 'romain', 'romagna', 'rollins', 'rollerdisco', 'rolf', 'roland', 'rogues', 'rogers', 'roeland', 'rods', 'rodriguez', 'rodney', 'rodna', 'rodgers', 'rod', 'rockwell', 'rocksteady', 'rocksprings', 'rocks', 'rockquest', 'rockport', 'rocko', 'rockin', 'rockies', 'rocketeer', 'rocket', 'rockers', 'rockabilly', 'roches', 'rocca', 'roc', 'robyn', 'robots', 'robotix', 'robinette', 'robbery', 'robbers', 'robbe', 'robb', 'roars', 'roaring', 'roar', 'roadrunner', 'rnb', 'rmx', 'rixford', 'riverview', 'riverside', 'riverfront', 'rivera', 'ritme', 'rites', 'ritchie', 'ritchey', 'ristigouche', 'ripper', 'ripley', 'riperton', 'ringside', 'ringold', 'ringo', 'ringin’', 'ring', 'rinascita', 'rimskykorsakoffee', 'rim', 'rileyville', 'rileys', 'rila', 'rigby', 'ridgley', 'rides', 'riders', 'ridel', 'riddlesburg', 'richter', 'riches', 'richards', 'rich', 'riceboro', 'ricardo', 'rica', 'riabko', 'rhum', 'rhoda', 'rhoads', 'rhino', 'rhialto', 'rhapsody', 'reyes', 'rey', 'rex', 'revraptor', 'revolutions', 'revolution', 'reviews', 'reverse', 'reverence', 'revenge', 'revelations', 'revan', 'reva', 'reuben', 'returned', 'retrovisor', 'retreat', 'rete', 'resurgence', 'restasurant', 'restaraunt', 'resource', 'resort', 'resevation', 'reservtion', 'reservea', 'rescuing', 'requests', 'republican', 'reproductions', 'reprise', 'report', 'repeat', 'rented', 'renewed', 'renewable', 'renee', 'rendezvous', 'rencor', 'rena', 'ren', 'removers', 'remote', 'remler', 'remembered', 'remedial', 'religious', 'relaxations', 'rejoicing', 'reineke', 'reilly', 'reidland', 'rei', 'regulate…g', 'regis', 'regen', 'refugio', 'refrain', 'reform', 'reef', 'redbreast', 'redacted', 'recopilatorio', 'recognition', 'reckoning', 'reckless', 'recent', 'recalled', 'rec', 'rebirth', 'rebbe', 'reasons', 'rear', 'realm', 'reager', 'reader', 'reaching', 'reaches', 'reach', 'raíces', 'raz', 'rayvon', 'raytown', 'rayne', 'ravensdale', 'raven', 'raton', 'ratings', 'rashad', 'rascals', 'rarities', 'raquel', 'raposo', 'raphael', 'ranger', 'range', 'raney', 'random', 'rand', 'ramy', 'ramsgate', 'ramone', 'ramona', 'ramey', 'ramel', 'rambler', 'ram', 'ralls', 'raleigh', 'rakim', 'rajasthani', 'raja', 'raise', 'rainwater', 'raining', 'rainelle', 'railroad', 'rail', 'raices', 'rahsaan', 'rahim', 'raging', 'rag', 'rafters', 'rafet', 'radnor', 'racketeers', 'racine', 'rachelle', 'rachel', 'racer', 'rabello', 'rabbit', 'rabbi', 'ra', 'quotations', 'quo', 'quispe', 'quintet', 'quicksand', 'quick', 'quiche', 'questions', 'question', 'quest', 'queens', 'quebeck', 'quartet', 'quarry', 'quadrophenia', 'qriii', 'qbert', 'qatar', 'q', 'pôchouse', 'python', 'pyongyang', 'pybus', 'puzzles', 'puurtinen', 'putting', 'puttering', 'putrid', 'putrefactive', 'puthri', 'puro', 'purim', 'purdy', 'purcell', 'punjabi', 'punishment', 'punished', 'pumpkin', 'pumping', 'pulaski', 'puget', 'puff', 'pueblo', 'published', 'public', 'pt', 'psychopathic', 'psychology', 'psycho', 'psychiatry', 'psychadelic', 'príncipe', 'prurient', 'provinciale', 'provider', 'providence', 'proudly', 'protected', 'prosser', 'prospect', 'proposal', 'prophets', 'prophet', 'prong', 'prompton', 'promise', 'projections', 'progressive', 'programming', 'profiteers', 'profile', 'profil', 'professional', 'profession', 'profane', 'prodigal', 'proceed', 'proby', 'probes', 'pro', 'prix', 'prism', 'priscilla', 'priority', 'priorities', 'prints', 'print', 'principii', 'princeton', 'princesas', 'princes', 'primus', 'primitive', 'primate', 'primal', 'priest', 'pricedale', 'prey', 'preston', 'prestige', 'pressure', 'press', 'president', 'presenta', 'presence', 'prescription', 'preminchi', 'premiere', 'prejudice', 'prefereably', 'prefer', 'prefect', 'precinct', 'preacher', 'prayer', 'prague', 'prabha', 'powmia', 'powers', 'powell', 'powder', 'poverty', 'povel', 'pougatcheva', 'potje', 'pothealer', 'potato', 'postpunk', 'postgrunge', 'possi', 'positively', 'posey', 'portsmouth', 'portions', 'portales', 'portal', 'portage', 'porta', 'porphyry', 'pornography', 'pork', 'poplar', 'pope', 'pooley', 'pooh', 'pontypool', 'poneto', 'polymer', 'polka', 'politics', 'polite', 'policemen', 'policeman', 'poland', 'pohick', 'poets', 'poetry', 'poetic', 'poet', 'pocono', 'pocket', 'pocahontas', 'po', 'pmd', 'plylist', 'plya', 'ply', 'plutonium', 'plutonia', 'plugged', 'plpay', 'plot', 'plkaying', 'plkay', 'pledge', 'playstation官方杂志', 'playslist', 'playlst', 'playist', 'playig', 'players', 'platnum', 'platform', 'plants', 'plankinton', 'planes', 'plandome', 'plalist', 'plaine', 'places', 'placers', 'placed', 'pla', 'pl', 'pizzaiola', 'pixley', 'pittsburgh', 'piskies', 'pirate', 'piqua', 'pipette', 'pioneers', 'pioneer', 'pinto', 'pink', 'pines', 'pineridge', 'pinecliffe', 'pinckney', 'pimpernel', 'pilson', 'pilot', 'pillars', 'pillar', 'pilgrims', 'pilgrimage', 'pilar', 'pikelny', 'piety', 'pies', 'pier', 'pidgin', 'pictures', 'picotto', 'pickled', 'pickens', 'pick', 'physics', 'photographic', 'photographer', 'phone', 'phoebus', 'phoebe', 'phnom', 'phishing', 'phinizy', 'philosophic', 'philosopher’stone', 'philly', 'philippe', 'pheba', 'phase', 'pharrell', 'phanom', 'phalcon', 'peveril', 'petti', 'petrov', 'petroglyphs', 'petrified', 'petree', 'petra', 'petit', 'peters', 'perspectives', 'personality', 'pershing', 'persecution', 'pero', 'perfume', 'performs', 'performance', 'perfecting', 'perdu', 'percy', 'perchance', 'perception', 'per', 'peppers', 'pepe', 'penuelas', 'penner', 'peninsula', 'penermon', 'penelopiad', 'penderecki', 'pencil', 'penalty', 'pelland', 'pelican', 'pelham', 'peles', 'pelahatchie', 'peking', 'pekin', 'pego', 'peggy', 'peel', 'pee', 'pedro', 'pecan', 'pearblossom', 'peacemaker', 'pe', 'paycheck', 'pay', 'pavarotti', 'pauvres', 'pause', 'paull', 'pauline', 'paulette', 'paté', 'pattillo', 'pattie', 'patterson', 'patrolman', 'patriot', 'patrica', 'patmos', 'patino', 'patient', 'patiala', 'patetown', 'patagonia', 'pastwatch', 'pastime', 'passover', 'passing', 'passenger', 'pasqual', 'paschal', 'party’', 'parton', 'parthenon', 'parris', 'parra', 'paroles', 'parnell', 'parksdale', 'parks', 'parent', 'parempi', 'parazaider', 'paraguay', 'parable', 'paparizou', 'paolo', 'panther', 'panic', 'pane', 'pamela', 'pam', 'palying', 'paly', 'palmetto', 'palisades', 'palco', 'palacios', 'paksenarrion', 'paint', 'pages', 'paella', 'paducah', 'paddy', 'padangnese', 'pad', 'packed', 'pack', 'ozark', 'owlet', 'owl', 'owings', 'owes', 'owenyo', 'owens', 'owen', 'overton', 'ove', 'outta', 'outside', 'outlook', 'outlaws', 'outcast', 'outback', 'ottoville', 'otselic', 'otsego', 'otis', 'otho', 'otaola', 'osyka', 'oswego', 'oswald', 'osmanthus', 'osierfield', 'oshin', 'osborne', 'osage', 'orwell', 'ortiz', 'orthodox', 'orson', 'orpheus', 'orphan', 'oro', 'origin', 'origa', 'oriel', 'orgy', 'orgullo', 'organ', 'orford', 'oregonia', 'order', 'orchestrion', 'orchestra', 'orbison', 'oramas', 'ora', 'opération', 'opus', 'option', 'oppression', 'opium', 'opinion', 'operetta', 'operace', 'opening', 'opar', 'opaopa', 'ooze', 'ooru', 'ooo', 'onyx', 'onward', 'oneonta', 'oncology', 'onaga', 'omoide', 'omnipresent', 'omnes', 'olympus', 'olvey', 'olvera', 'olton', 'olpe', 'olmitz', 'olivor', 'olivet', 'olives', 'oliveros', 'oliver', 'olga', 'oldham', 'older', 'okudschawa', 'okuda', 'okkusenman', 'okay', 'okada', 'ojuelegba', 'ojo', 'ohlin', 'ohguro', 'ogawa', 'offroad', 'ofelia', 'odvikavaj', 'odetta', 'odadjian', 'od', 'octavian', 'octagon', 'oclock', 'ocilla', 'ochopee', 'ocelot', 'ocells', 'ocean’13', 'occoquan', 'obsession', 'observer', 'observations', 'oblong', 'object', 'oaklawn', 'oakey', 'oakes', 'oakdale', 'nypd', 'nusic', 'nursery', 'nurse', 'nur', 'nunez', 'nunam', 'nun', 'number', 'nugget', 'nudity', 'nubians', 'nuba', 'nozomi', 'noyack', 'noxubee', 'novena', 'novelties', 'novels', 'novelists', 'nour', 'nott', 'notre', 'nothin', 'notasulga', 'nostalgic', 'noses', 'nosdam', 'northwest', 'northvale', 'norman', 'norma', 'noriko', 'noreen', 'nordland', 'noorani', 'noor', 'nooks', 'nonsense', 'none', 'nominees', 'noko', 'nokko', 'nokio', 'nokia', 'noize', 'noi', 'noew', 'nocturn', 'noche', 'nobuo', 'noblesville', 'nobility', 'noah', 'nitti', 'nithyasree', 'nita', 'nisswa', 'nishi', 'niobrara', 'niobe', 'nini', 'niney', 'ninety', 'nina', 'nimulenationalpark', 'nimba', 'nimal', 'nilsson', 'nilo', 'nile', 'nikolayev', 'nikolajewna', 'nikolaidis', 'niko', 'nike', 'nijinsky', 'nightwork', 'nightmares', 'nightingale', 'nighthawk', 'nightcall', 'niggers', 'nigga', 'niece', 'nicoleta', 'nicole', 'nicola', 'nico', 'nickelsville', 'nicht', 'nichols', 'nicholasville', 'nicholas', 'nichiren', 'nic', 'nib', 'nhl', 'nhat', 'ngola', 'neylandville', 'newton', 'newspress', 'newspaper', 'neverwhere', 'neverbeast', 'nevado', 'neva', 'neutrons', 'neurotoxicology', 'neuroscience', 'neurology', 'nets', 'neshanic', 'nerves', 'nerds', 'nerding', 'nephew', 'nepal', 'nemiciamici', 'nellieburg', 'nellie', 'neffs', 'nefertiti', 'needmore', 'needle', 'needing', 'needham', 'necromancer', 'necessary', 'ncaa', 'nba', 'nawang', 'navaja', 'nautch', 'nattbuss', 'native', 'nations', 'natasja', 'nassau', 'nash', 'nas', 'narodowy', 'narew', 'nara', 'napoleon', 'nao', 'nanny', 'nanette', 'nameless', 'nakajima', 'naive', 'nairobi', 'nails', 'naguabo', 'nadal', 'naches', 'nabatame', 'n9ne', 'mythologies', 'mystical', 'myrtle', 'myra', 'muzika', 'mutzke', 'mutuku', 'mutte', 'mutlu', 'mutation', 'mutant', 'musto', 'mustache', 'musketeers', 'musica', 'musgrave', 'mus', 'murvin', 'murph', 'murone', 'murderer', 'murcof', 'mundy', 'mundo', 'muncie', 'munawar', 'mulvane', 'mulligan', 'mullen', 'mulawin', 'mukhopadhyay', 'mujeres', 'muireann', 'mughals', 'muffuletta', 'muddy', 'mucho', 'mtv', 'mrs', 'mozambique', 'moye', 'moya', 'mowrystown', 'movsessian', 'moving', 'movietimes', 'moutsouraev', 'mouth', 'mourner', 'mountainair', 'moulin', 'moto', 'motive', 'mothstorm', 'mothiram', 'mothathe', 'moten', 'mosson', 'mosses', 'moss', 'morse', 'morrow', 'morrisonville', 'morrison', 'moron', 'mornings', 'moris', 'morire', 'moribund', 'morganville', 'morgan', 'moreve', 'moravian', 'moran', 'morality', 'moralist', 'mopreme', 'moped', 'moose', 'moores', 'moor', 'moondog', 'moody', 'monty', 'montverde', 'montreux', 'monthly', 'montgomery', 'montevallo', 'montchanin', 'monsters', 'monson', 'monroe', 'monro', 'monks', 'monique', 'monika', 'monifah', 'monie', 'mongolian', 'moneta', 'mondovisione', 'mondamin', 'moncove', 'monahan', 'momo', 'mommy', 'moment', 'mome', 'mols', 'molly', 'molino', 'mole', 'mokena', 'mojito', 'mojave', 'moines', 'mohsen', 'mohammed', 'mogis', 'moffett', 'moen', 'mode', 'mocking', 'mochida', 'moby', 'mobile', 'mob', 'mj', 'mizuki', 'mizell', 'mixtape', 'mitchinamecus', 'mitchell', 'mitcham', 'mit', 'misterioso', 'mistborn', 'mist', 'miso', 'misato', 'mirza', 'mirrorshades', 'mirkhani', 'miriam', 'miranda', 'mirage', 'miracle', 'mir', 'minto', 'mint', 'minority', 'minogue', 'minnie', 'ministers', 'minidoka', 'minestrone', 'minestra', 'mineola', 'mindy', 'minami', 'mina', 'milwaukee', 'miltonfreewater', 'millvale', 'millinocket', 'millie', 'millicent', 'milleville', 'milladore', 'milky', 'milian', 'miley', 'mile', 'mikami', 'miguelito', 'migration', 'mighty', 'mies', 'miene', 'midwest', 'midsixties', 'midongy', 'midnights', 'midland', 'microsoft', 'mickies', 'mick', 'michiru', 'michelle', 'mice', 'mhanna', 'mg', 'mezzes', 'mew', 'mettawa', 'metropolitan', 'metamora', 'metalcore', 'metalblood', 'metabolights', 'messengers', 'messenger', 'messed', 'merz', 'merrily', 'merrill', 'merlin', 'merjanov', 'merit', 'meri', 'merengue', 'meredith', 'mere', 'mercenary', 'mercedes', 'merced', 'mer', 'menores', 'menke', 'mene', 'mendis', 'menachem', 'memory', 'meltdown', 'melon', 'melly', 'mellor', 'melcherdallas', 'melbourne', 'melancholy', 'melancholia', 'mel', 'mei', 'meherrin', 'megon', 'meg', 'meeting', 'meet', 'meers', 'meeresnationalpark', 'meduza', 'meditative', 'meditations', 'meditate', 'mediodíacústico', 'medici', 'medford', 'medals', 'meatcake', 'meaning', 'meadows', 'meadowood', 'meadow', 'mea', 'mcrae', 'mcpherson', 'mcphee', 'mcnamara', 'mcnair', 'mcmurray', 'mclean', 'mclaurin', 'mclaughlin', 'mckinley', 'mckenzie', 'mckenna', 'mckechnie', 'mckay', 'mcjohn', 'mcdonough', 'mcdonald', 'mccrea', 'mccoll', 'mcclinton', 'mccain', 'mcabi', 'maze', 'mayya', 'maylay', 'mayfield', 'mayer', 'mayen', 'maya', 'maxwell', 'maximum', 'maximilian', 'maxime', 'maxim', 'mausoleum', 'mauro', 'maul', 'maude', 'mauda', 'matter', 'mattawan', 'matsuzawa', 'matinee', 'matilda', 'mater', 'matching', 'match', 'masterworks', 'masterpiece', 'mastermind', 'masterful', 'masquerade', 'maso', 'mask', 'mashed', 'masekela', 'mascoutah', 'maschi', 'masayoshi', 'masala', 'marylou', 'maryanne', 'marxism', 'marvellous', 'martyn', 'martina', 'martha', 'marta', 'marshal', 'marsha', 'marsh', 'marsch', 'maro', 'marlton', 'marlene', 'marlboro', 'marjorie', 'maritime', 'mariem', 'marie', 'mariah…', 'mari', 'marguerite', 'margie', 'marcie', 'marcial', 'marcia', 'marci', 'marching', 'marches', 'marche', 'marcella', 'marcel', 'marbles', 'marble', 'mapa', 'mao', 'manzarek', 'manxman', 'manuelita', 'manuela', 'manuel', 'mantler', 'manthra', 'manthan', 'mansfield', 'mansell', 'manse', 'manning', 'manninen', 'manilow', 'mania', 'manhunt', 'manhasset', 'mango', 'mangeshkar', 'manera', 'mandy', 'mandrake', 'mandela', 'mande', 'mandaean', 'manatee', 'manassa', 'manan', 'managing', 'manager', 'mana', 'mamle', 'mamie', 'mamaroneck', 'maltio', 'maltby', 'malin', 'malik', 'malibu', 'maliaubasinconservationarea', 'malewana', 'male', 'malcom', 'maksim', 'majesty', 'maisonette', 'maimi', 'mailroom', 'mailman', 'mail', 'maiden', 'maid', 'maia', 'mai', 'mahwah', 'mahoney', 'mahalaxmi', 'mahadevan', 'magpie', 'magica', 'maggot', 'magdayao', 'magdalena', 'mafia', 'maestro', 'mae', 'madwoman', 'madman', 'madeline', 'madawaska', 'mack', 'macgregor', 'macero', 'maccunn', 'maccool', 'macclenny', 'macaroni', 'macao', 'mabel’dramatic', 'maartin', 'maan', 'maakii', 'lyschytschko', 'lyncourt', 'lying', 'lydia', 'luzon', 'luxor', 'lush', 'lure', 'luray', 'luquillo', 'lupin', 'lunchtime', 'luna', 'lun', 'luiza', 'luisa', 'ludowici', 'ludlow', 'ludden', 'lucy', 'lucre', 'lucinda', 'lucille', 'lucerne', 'lucassen', 'luca', 'lpaying', 'lp', 'lozada', 'loyde', 'loyalhanna', 'lowest', 'lower', 'lovich', 'lovex', 'lovesong', 'lover', 'loveless', 'loveday', 'lovecraftian', 'lovecraft', 'lousy', 'louse', 'louisa', 'loudon', 'louder', 'lou', 'lothian', 'lotfi', 'loss', 'loser', 'lose', 'lorraine', 'loretta', 'lorena', 'lordz', 'lorain', 'lora', 'lopeno', 'looney', 'lookout', 'looked', 'loogootee', 'lono', 'longwave', 'longet', 'lonesome', 'lonergan', 'lonely', 'loneliness', 'lomas', 'lolita', 'loka', 'lois', 'lofty', 'lofi', 'lofgreen', 'lodi', 'lodge', 'lode', 'lockwood', 'located', 'lobotomy', 'lobby', 'loathing', 'llp', 'lloyd', 'ljubav', 'ljubam', 'ljatoschynskyj', 'liégeois', 'lizzie', 'liu', 'littrell', 'literary', 'litchfield', 'lit', 'lis', 'liquor', 'lipstick', 'lips', 'lionheart', 'linzi', 'linux', 'linnane', 'linn', 'linger', 'lines', 'lineage', 'lindsey', 'lindley', 'lind', 'lincoln', 'lina', 'limondjian', 'limited', 'limit', 'limey', 'limerick', 'lime', 'lima', 'lily', 'lilly', 'lillian', 'lilacs', 'lila', 'lightning', 'lighter', 'lift', 'lifetime', 'lifelong', 'lieutenant', 'liefde', 'lied', 'lidell', 'lictor', 'licorice', 'lick', 'licia', 'licensed', 'licence', 'liberia', 'liberator', 'libby', 'li', 'leyoad', 'lexingtonfayette', 'lexington', 'lewisville', 'levy', 'leviathan', 'leven', 'leva', 'leticia', 'leta', 'less', 'lesley', 'leroi', 'ler', 'leps', 'lepond', 'leoti', 'leonor', 'leonid', 'leonard', 'lenzburg', 'lennon', 'leningrad', 'lenin', 'lene', 'lena', 'lemonheads', 'lemon', 'leming', 'leland', 'lela', 'leisure', 'leia', 'lego', 'legions', 'legion', 'legends', 'leeuwen', 'ledoux', 'ledger', 'lecter', 'lecanto', 'leblanc', 'leaves', 'leather', 'lease', 'leasburg', 'learn', 'leaquana', 'leaps', 'leap', 'leah', 'league', 'leaf', 'leads', 'lea', 'lbc', 'layzie', 'layne', 'laying', 'layhigh', 'lay', 'lawyer', 'laws', 'lawns', 'lawless', 'lavender', 'lavalette', 'lauryn', 'lauren', 'laugh', 'lauderdale', 'latoya', 'latina', 'latham', 'later', 'lateness', 'lasts', 'laserlight', 'larsson', 'larsen', 'lari', 'lapsed', 'lantern', 'lanta', 'lansford', 'langdon', 'lang', 'lanes', 'lance', 'lan', 'lamy', 'lampoon', 'lampi', 'lampa', 'lamentation', 'lambs', 'lambertville', 'lambert', 'lamb', 'lamar', 'lam', 'lalonde', 'lakeview', 'lakemoor', 'lakebay', 'laine', 'laidback', 'laid', 'laguna', 'lago', 'lagaylia', 'lafe', 'lafaro', 'ladyhawke', 'ladies', 'lacuna', 'lacassine', 'labyrinth', 'labour', 'labor', 'laarni', 'kōgen', 'kylie', 'kyle', 'kuti', 'kushiroshitsugen', 'kurutta', 'kurt', 'kurjochin', 'kuo', 'kunonga', 'kunnon', 'kumar', 'kudai', 'kubin', 'krzysztof', 'krystal', 'kropp', 'kronos', 'krondor', 'krizz', 'kristina', 'krista', 'krieg', 'kreviazuk', 'kreator', 'kowanek', 'kouglof', 'kotoko', 'koshimizu', 'korra', 'korona', 'koontz', 'komuro', 'kom', 'kolkheti', 'kokia', 'kokhanok', 'koichi', 'koi', 'kobita', 'knoll', 'knocc', 'knobel', 'knifethrowing', 'knife', 'knierim', 'klute', 'klondike', 'kloden', 'kleptones', 'klaus', 'kk', 'kjetil', 'kj', 'kizil', 'kitty', 'kitlope', 'kitade', 'kirsten', 'kiriakou', 'kingsley', 'kingdoms', 'kindness', 'kinder', 'kinchla', 'kin', 'killers', 'killer', 'killarney', 'kiley', 'kikas', 'kick', 'kibum', 'kiara', 'kiahsville', 'khujo', 'kher', 'khedive', 'khechog', 'khare', 'khao', 'khalil', 'khalife', 'khaleghi', 'keytesville', 'keyboard', 'kewanee', 'kettleman', 'kettle', 'kerry', 'kerrick', 'kerr', 'kernersville', 'kerbridge', 'kepler', 'kenya', 'kentaro', 'kenny', 'kenneth', 'kennedy', 'kenmore', 'kenia', 'kendricks', 'keltech', 'kelso', 'kelsey', 'kellnersville', 'kelley', 'kellerton', 'keller', 'keke', 'keita', 'keisha', 'keine', 'keiji', 'kegs', 'keer', 'keeneland', 'keene', 'keating', 'kear', 'keachi', 'kd', 'kaye', 'kaya', 'kay', 'kawamura', 'kawakita', 'kavanaughs', 'kauffman', 'katz', 'katina', 'katiejane', 'kathleen', 'kashani', 'kasey', 'kartel', 'karoly', 'karol', 'karobar', 'karnataki', 'karnataka', 'karin', 'karen', 'karamazov', 'kaper', 'kanopolis', 'kanon', 'kano', 'kaniel', 'kaneville', 'kancherla', 'kamrar', 'kamil', 'kameraden', 'kamen', 'kalypso', 'kaltag', 'kalkaska', 'kalino', 'kaliko', 'kakko', 'kailash', 'kago', 'kageyama', 'kaffir', 'kacapi', 'kabhi', 'kaanapali', 'kaakai', 'kaaawa', 'justified', 'junyang', 'junun', 'juniper', 'junichi', 'jungle', 'junes', 'jump', 'juliff', 'julia', 'jules', 'julee', 'juju', 'judy', 'judge', 'juanes', 'jquery', 'jpop', 'joyful', 'joyal', 'jovanotti', 'journeys', 'journeyman', 'journals', 'jour', 'jou', 'josie', 'josiah', 'josephine', 'joplin', 'jono', 'jona', 'jolley', 'jolie', 'jokers', 'joker', 'join', 'johto', 'johnsons', 'johnnie', 'johan', 'joeri', 'jody', 'jodie', 'jocque', 'joc', 'job', 'joanna', 'jla', 'jkt48', 'jiro', 'jip', 'jintana', 'jimmie', 'jimenez', 'jillian', 'jij', 'jihad', 'jiafeng', 'jews', 'jewel', 'jetta', 'jets', 'jetmore', 'jethro', 'jessipowa', 'jessie', 'jessica', 'jesse', 'jess', 'jes', 'jermaine', 'jerky', 'jeremy', 'jennings', 'jenners', 'jenkins', 'jency', 'jemez', 'jem', 'jehan', 'jeeves', 'jedediah', 'jebel', 'jeans', 'jeannie', 'jeanette', 'jboss', 'jay', 'jawad', 'javine', 'java', 'jaula', 'jasmine', 'jarzombek', 'jarvis', 'jarreau', 'jarbidge', 'jarama', 'jara', 'jappeloup', 'japan', 'jannie', 'janne', 'jang', 'janet', 'janeane', 'jamal', 'jamaica', 'jalal', 'jaime', 'jailbird', 'jagual', 'jag', 'jacqueline', 'jacobsburg', 'jacksons', 'jackson', 'jacklyn', 'jackass', 'jackals', 'izquierdo', 'iyer', 'ixia', 'iwanowna', 'iwai', 'iw', 'ivy', 'ivory', 'ives', 'itv', 'itsu', 'ithala', 'isthmus', 'issues', 'israel', 'isobel', 'isley', 'ishq', 'isham', 'isabelle', 'irwin', 'irvington', 'irving', 'irvin', 'irunthal', 'irritating', 'irreconcilable', 'ironing', 'ircle', 'iranon', 'iranian', 'iran', 'iqua', 'iouri', 'ion', 'invitation', 'investing', 'investigators', 'inverness', 'inventive', 'inventions', 'invades', 'intruders', 'introspective', 'intrigue', 'intrepid', 'intimate', 'inthanon', 'interview', 'interesting', 'intelligence', 'intel', 'integrated', 'integer', 'insurrection', 'instinkt', 'instinct', 'inspector', 'insoc', 'insert', 'insel', 'inquiry', 'input', 'innovations', 'innocents', 'innocence', 'inning', 'inner', 'inishmore', 'inheritors', 'inheritance', 'ingenuity', 'infrared', 'informix', 'inform', 'info', 'influential', 'infinito', 'infidels', 'infestation', 'infernus', 'inferno', 'infernal', 'industry', 'indocumentado', 'indigenous', 'indifferent', 'indiespain', 'indies', 'indicate', 'indiahoma', 'index', 'indestructible', 'independence', 'incredible', 'incomplete', 'incident', 'inch', 'inca', 'inbirth', 'inaugural', 'improvisatore', 'impressions', 'impractical', 'impostors', 'imposter', 'imogene', 'immortal', 'imelda', 'imai', 'images', 'ilse', 'ilo', 'illusion', 'ilander', 'ila', 'iidx', 'iida', 'ihsahn', 'iha', 'ignorant', 'ignacio', 'iglesias', 'ifind', 'iene', 'iemand', 'idols', 'idol', 'ideas', 'idea', 'ida', 'iconic', 'ichibyōgoto', 'icewind', 'iceland', 'icecream', 'icac', 'hættuleg', 'hyun', 'hypoluxo', 'hype', 'hylton', 'hybla', 'hwang', 'huxley', 'hutchinson', 'hutchings', 'hut', 'hush', 'hurstville', 'hurffville', 'hunters', 'hundredyear', 'hun', 'humphrey', 'hulmeville', 'hull', 'hulk', 'hui', 'hughie', 'hugh', 'hubiera', 'hubbell', 'hubbardston', 'huanying', 'htoo', 'hoyt', 'however', 'hover', 'housewife', 'housemaid', 'hound', 'hou', 'hotline', 'hotchpotch', 'hostel', 'hossein', 'horton', 'horses', 'horne', 'hornblower', 'horn', 'hord', 'hora', 'hopeless', 'hopeful', 'hooven', 'hooksett', 'hooker', 'honeysuckle', 'honest', 'homo', 'homicide', 'homestead', 'homer', 'homemchristo', 'holstein', 'holopainen', 'hollows', 'hollow', 'hollidaysburg', 'holler', 'hollenberg', 'holladay', 'holi', 'hokendauqua', 'hog', 'hoffman', 'hofer', 'hodges', 'hocking', 'hoc', 'hobbit', 'hljómsveit', 'hitomi', 'hitman', 'hitler', 'hitchita', 'histoires', 'histoire', 'hisstory', 'hisham', 'hironobu', 'hiromitsu', 'hirasawa', 'hips', 'hippie', 'hindus', 'hind', 'hilt', 'hillview', 'hijazi', 'highways', 'highwayman', 'highs', 'highland', 'highest', 'higher', 'hier', 'hiding', 'hide', 'hicks', 'hickman', 'hickerson', 'hialeah', 'hex', 'hewitt', 'heterocycles', 'het', 'hesston', 'herstand', 'heroquest', 'herkimer', 'heresy', 'hereford', 'herald', 'henriquez', 'henrieville', 'henrie', 'henniker', 'henlopen', 'hemanta', 'hellacopters', 'helianthushof', 'helders', 'heinz', 'heidi', 'hefner', 'heeft', 'hector', 'heartland', 'hearth', 'heartful', 'heartbroken', 'heartbreak', 'heartbeat', 'heartache', 'heaney', 'healthy', 'heads', 'headed', 'hayvoronsky', 'haystack', 'hayden', 'hawkins', 'hawking', 'haus', 'haugland', 'haugan', 'hatzidakis', 'hattiesburg', 'hath', 'hatfield', 'hassan', 'haskell', 'hash', 'hasan', 'harwell', 'harvey', 'harutyunyan', 'haruka', 'harry’bar', 'harrison–crawford', 'harriett', 'harper', 'harold', 'harms', 'harmony', 'harmar', 'harlow', 'harkes', 'hariprasad', 'hardstyle', 'hardinsburg', 'hardin', 'harder', 'hardcastle', 'harbour', 'harbor', 'harassed', 'haraldstad', 'happiness', 'happiest', 'happened', 'hantō', 'hans', 'hanna', 'hanksville', 'hangtown', 'handlebars', 'handicap', 'handful', 'handel', 'handbook', 'hampartsoum', 'hamorton', 'hammett', 'hammerstein', 'hamlet', 'hamish', 'hamedi', 'hamburger', 'hamatora', 'ham', 'halsey', 'halo', 'hallwood', 'hallucinations', 'hallows', 'hallowell', 'hallie', 'halley', 'halibut', 'halflife', 'halfformed', 'haley', 'hale', 'halal', 'hal', 'haino', 'hainesville', 'haifa', 'haidar', 'hahnville', 'hagigat', 'hagerman', 'hagen', 'hagar', 'hagaman', 'hadon', 'hadjidakis', 'hade', 'hackney', 'hackett', 'gwynedd', 'gwenno', 'gwen', 'gve', 'guymanuel', 'guyana', 'guts', 'gustar', 'guru', 'gurdas', 'gurabo', 'gunn', 'gunathilake', 'gun', 'gulfport', 'guernsey', 'guenther', 'guard', 'guanica', 'guadagnini', 'gt', 'gryphon', 'grunge', 'growth', 'groucutt', 'grohl', 'groesbeck', 'grocery', 'grisly', 'grisdale', 'grim', 'grigory', 'griffin', 'grid', 'greyest', 'greydon', 'grew', 'grenzen', 'grenada', 'gregoletto', 'gregg', 'greenville', 'greenport', 'greenfoot', 'greco', 'grecian', 'grech', 'grebenchtchikov', 'gravy', 'gravity', 'graveyard', 'gratin', 'gras', 'graphics', 'grape', 'grantsburg', 'graniteville', 'granite', 'grandparents', 'grandmaster', 'grammy', 'grainger', 'grainer', 'graf', 'grae', 'gradyville', 'graduates', 'graduate', 'grabsteinland', 'grab', 'gould', 'gougèlaneville', 'gouden', 'gotye', 'got', 'goss', 'goshenville', 'gor', 'gopanna', 'goof', 'goods', 'goodreader', 'goodnight', 'goodland', 'gonzales', 'goncalves', 'goldy', 'goldimouse', 'golan', 'goethe', 'godlike', 'godfrey', 'gobles', 'gober', 'goan', 'gnocchi', 'gn', 'gmen', 'glæpakvendið', 'glukoza', 'glue', 'glorious', 'glennie', 'glenda', 'glenarden', 'glarus', 'glaring', 'glamour', 'glam', 'gladys', 'gladness', 'glade', 'glaciernationalpark', 'glacier', 'glace', 'giv', 'gisela', 'gipsygordon', 'ginnunga', 'gingerbread', 'ginger', 'gina', 'gimble', 'gilson', 'gilmour', 'gilmore', 'gilmer', 'gilluly', 'gill', 'gilgamesh', 'gilels', 'gildersleeve', 'gil', 'gifta', 'gie', 'gideon', 'gibsland', 'gibbs', 'giaour', 'giancarlo', 'giacomo', 'gi', 'ghostly', 'ghostbusters', 'ghomayshi', 'ghader', 'getzville', 'gettysburg', 'gertrude', 'germany', 'germania', 'geriatric', 'georgina', 'gentleman', 'genocide', 'genius', 'geneva', 'genetics', 'genesis', 'generations', 'geminism', 'geetha', 'geek', 'geddy', 'geddes', 'gears', 'gearhart', 'gear', 'gdtop', 'gazer', 'gayle', 'gaudi', 'gateau', 'gastronomy', 'gastoldi', 'gasport', 'gasparjan', 'gasconade', 'gas', 'garside', 'garry', 'garrett', 'garrard', 'garphyttan', 'garner', 'garfunkel', 'gardot', 'garcia', 'ganges', 'gang', 'ganesh', 'gandharva', 'gamer', 'gamblers', 'gambia', 'galway', 'galsoft', 'galena', 'galactic', 'gaither', 'gahō', 'gahan', 'gadichindi', 'gad', 'gackt', 'gabrial', 'gabber', 'gaat', 'futuna', 'furusato', 'furnace', 'furler', 'furious', 'furanoashibetsu', 'fuoco', 'funpunk', 'funky', 'funiak', 'fulton', 'fukuyama', 'fuca', 'frybread', 'fruit', 'frost', 'frontalot', 'front', 'fromthe', 'frl', 'frizzell', 'frisell', 'frisco', 'frisbee', 'fripp', 'frightened', 'friesland', 'friendesemana', 'friedman', 'frewen', 'frescura', 'freight', 'freestyle', 'freed', 'freddy', 'freakbeat', 'freak', 'frazier', 'frayser', 'fraser', 'frantz', 'franklinville', 'frankie', 'frankenstein', 'francisville', 'frampton', 'framing', 'framed', 'fracture', 'fra', 'fowler', 'fourche', 'foundling', 'forward', 'fortus', 'foros', 'format', 'forks', 'forgotten', 'forge', 'foreclosure', 'forecasted', 'foreast', 'fordham', 'ford', 'foot', 'fool', 'foo', 'fonseca', 'fondue', 'folly', 'follett', 'folksy', 'folio', 'foley', 'fold', 'foie', 'foghat', 'fogata', 'fludd', 'floyd', 'flowers', 'floor', 'flood', 'flies', 'flic', 'flex', 'fleischmanns', 'fleet', 'flaxton', 'flanagan', 'flamenco', 'flamel', 'flake', 'flag', 'fit', 'fisn', 'fisk', 'fisher', 'firewall', 'firepower', 'fir', 'finsbury', 'finnish', 'finiti', 'fingers', 'finestre', 'finestone', 'finest', 'finding', 'finalists', 'filthy', 'filmes', 'fillmore', 'fill', 'figueredo', 'fighter', 'fiftyfive', 'fifa', 'fiestas', 'fierce', 'fierabracci', 'fields', 'field', 'fidel', 'fictions', 'fickle', 'fey', 'feud', 'fettucine', 'fetish', 'festival', 'fertile', 'fernwood', 'fernley', 'fern', 'fereydoun', 'fenton', 'fender', 'fencing', 'feminist', 'felix', 'felicity', 'feinstein', 'fei', 'feeling', 'feed', 'federico', 'feature', 'feather', 'fears', 'fe', 'fay', 'favourite', 'favoretta', 'faustino', 'faust', 'faultline', 'fatty', 'fats', 'fascism', 'fascility', 'farruko', 'farrokhzad', 'farristown', 'farragut', 'farnworth', 'farnham', 'farmingdale', 'farmerville', 'farhad', 'farewell', 'farallon', 'farah', 'fangs', 'fanatic', 'fame', 'falomir', 'falmouth', 'fallout', 'falcon', 'faithless', 'faith', 'fais', 'fairouz', 'fairness', 'fairly', 'fairchild', 'faint', 'fain', 'failed', 'fahl', 'fagan', 'faerûn', 'fadl', 'fade', 'faddy', 'faced', 'fabes', 'f1', 'eyota', 'eylem', 'extraordinary', 'expresión', 'exploring', 'experiences', 'experienced', 'experience', 'expelled', 'expansion', 'exorcising', 'exodus', 'exmore', 'exiles', 'exell', 'executioner', 'execution', 'exclusive', 'ewen', 'eviatar', 'everytime', 'everyday', 'everett', 'ever', 'even', 'evelyn', 'evans', 'evangeline', 'evangelikum', 'eurythmics', 'europa', 'eugene', 'eu', 'etype', 'ettrick', 'etna', 'etin', 'ethridge', 'ethiopian', 'ethiopia', 'eternity', 'eternally', 'etc', 'ester', 'estelle', 'estela', 'estado', 'essie', 'esquivando', 'espen', 'española', 'españ', 'escapes', 'erykah', 'erra', 'ermintrude', 'erma', 'erica', 'equal', 'epworth', 'epte', 'epstein', 'epleys', 'episodi', 'epiphany', 'environmental', 'environment', 'entry', 'entrevistas', 'entfesselt', 'entertaining', 'enterprise', 'enrique', 'ennarukil', 'enkitta', 'engloutie', 'englishman', 'engineers', 'engadine', 'enfield', 'energic', 'enemies', 'endless', 'ending', 'ende', 'encyclopaedia', 'encounters', 'encore', 'encino', 'emre', 'empty', 'emptiness', 'empires', 'emperors', 'emperor', 'emmy', 'emmons', 'emmanuel', 'emirates', 'eminence', 'emilie', 'emile', 'emida', 'emergency', 'emerald', 'emerado', 'embrace', 'embers', 'emanuel', 'elvis', 'elvira', 'elusive', 'elum', 'elstak', 'else', 'elpalacio', 'elnora', 'elmore', 'elmer', 'elma', 'ellis', 'elliotts', 'elliot', 'ellington', 'ellenton', 'elk', 'elizeth', 'elizabeth', 'eliza', 'elites', 'elise', 'elinor', 'elida', 'elica', 'elgin', 'elements', 'elegant', 'eleele', 'electrochemical', 'electricity', 'eleanor', 'elbridge', 'elbaz', 'elastic', 'ek', 'ejigayehu', 'ejercicio', 'eisen', 'ein', 'eighty', 'eiffel', 'ehsaan', 'eguchi', 'eggs', 'eggo', 'effie', 'effect', 'eerste', 'edwyn', 'edwin', 'edwards', 'edsel', 'editions', 'edinburgh', 'edie', 'edesville', 'eddy', 'edda', 'ed', 'ecstatic', 'ecru', 'economics', 'econfina', 'ecola', 'eclectic', 'eckstine', 'eather', 'eater', 'eastport', 'easel', 'earns', 'earls', 'earline', 'ear', 'ealing', 'dziewczyna', 'dynasties', 'dynamite', 'dyke', 'dwarf', 'duty', 'dutch', 'dust', 'duson', 'dusk', 'durbin', 'durant', 'dundee', 'dumping', 'duke', 'dufour', 'duett', 'due', 'duchin', 'ducha', 'ducas', 'dubh', 'dubach', 'duane', 'du', 'dschiwan', 'dry', 'druss', 'drums', 'drumline', 'druid', 'drugs', 'driven', 'drilseach', 'drifting', 'drift', 'dressmaker', 'dressing', 'dressed', 'dress', 'dresden', 'dresbach', 'dres', 'drejer', 'dreijer', 'dreamt', 'dreamstone', 'dre', 'drawn', 'drawa', 'draw', 'draper', 'drama', 'draisey', 'dozen', 'doyle', 'downfall', 'dovrenationalpark', 'douthat', 'doughnut', 'dough', 'dots', 'dorthy', 'dorsey', 'dorrian', 'dorothea', 'dormir', 'doris', 'dope', 'doors', 'doomsters', 'doolittle', 'donuts', 'donovan', 'donnie', 'donna', 'donkey', 'dongola', 'dong', 'donald', 'domino', 'domestication', 'dolores', 'dollar', 'doe', 'dodgers', 'dodge', 'documents', 'doctors', 'dock', 'dochūkōtsu', 'doc', 'dobermans', 'doa', 'dixie', 'diwali', 'divorced', 'divorce', 'divided', 'divergent', 'dive', 'disturbance', 'distrowatch', 'distancia', 'dissociatives', 'display', 'disorderly', 'dishes', 'discrimination', 'discovery', 'discourses', 'discord', 'discontinuity', 'discografia', 'disclosure', 'discipline', 'disasters', 'directions', 'dir', 'diplo', 'dios', 'dinnertime', 'ding', 'diners', 'dina', 'din', 'dimensional', 'dimension', 'digimon', 'diggins', 'difficult', 'differences', 'difference', 'dieterich', 'dies', 'dido', 'dico', 'dickson', 'dickinsonian', 'dickey', 'dicey', 'diaz', 'diaries', 'dianne', 'diabolico', 'dhafer', 'dewey', 'deweese', 'dew', 'devices', 'device', 'development', 'deve', 'deus', 'deuce', 'destruction', 'destroy', 'destination', 'desserts', 'despair', 'desmond', 'desire', 'design', 'desh', 'deserve', 'descanso', 'des', 'deron', 'dermatology', 'derickson', 'derek', 'der', 'department', 'denationalization', 'denali', 'demon', 'democratic', 'demigods', 'delta', 'dels', 'deloris', 'delores', 'della', 'delhi', 'delft', 'delfino', 'delanson', 'delange', 'dekker', 'deidre', 'defined', 'defense', 'defenestration', 'deeyah', 'deersville', 'deepwater', 'deenanath', 'deeds', 'deed', 'dedicated', 'decu', 'decoding', 'decoded', 'decisions', 'deceptor', 'deceive', 'debbie', 'deaths', 'deathly', 'deathlord', 'deasy', 'deanne', 'dealmaking', 'deal50', 'deal', 'dday', 'dcode2016', 'dazey', 'daydreamer', 'dawns', 'dawning', 'davydov', 'davy', 'davies', 'dauset', 'dates', 'date', 'data', 'darya', 'darvill', 'darude', 'darth', 'darnestown', 'darnell', 'darling', 'dared', 'dara', 'daphne', 'danville', 'dante’peak', 'dansevise', 'danny', 'danni', 'dangerous', 'danger', 'dane', 'dances', 'dancer', 'danced', 'damien', 'daltrey', 'dalles', 'dales', 'dalcour', 'dalbello', 'daishūrai', 'dairy', 'daigo', 'dai', 'dahmer', 'dahlia', 'daewon', 'dachigamnationalpark', 'czechia', 'czech', 'czarna', 'cyrus', 'cypress', 'cynthia', 'cyclists', 'cuyabeno', 'cuts', 'custer', 'custar', 'cusinie', 'curtains', 'curtain', 'curry', 'currents', 'cupcakes', 'cup', 'cuney', 'cummings', 'cum', 'culver', 'culture', 'culpa', 'culdesac', 'cucumber', 'cuan', 'crye', 'crush', 'crusade', 'cruise', 'crugers', 'cruel', 'crucifixion', 'crucible', 'crucial', 'cruces', 'crows', 'crowns', 'crow', 'crouch', 'crosswind', 'crossroads', 'crossroad', 'crossover', 'crossings', 'crossgenesis', 'crossfit', 'crossett', 'croquembouche', 'cropper', 'crooked', 'crook', 'croissant', 'crofton', 'crockett', 'crocker', 'critic', 'cristo', 'crisis', 'criminology', 'criminal', 'crimes', 'crickets', 'cretu', 'cretan', 'crepes', 'creed', 'creator', 'creamtrilogie', 'creamery', 'creamed', 'crazysexycool', 'crazygenius', 'crawlspace', 'crawford', 'craving', 'craters', 'craig', 'crafty', 'craft', 'cradle', 'cracking', 'crack', 'crabfish', 'coyote', 'coxs', 'cowley', 'cowboys', 'cowansburg', 'covered', 'cover', 'coventry', 'cova', 'cousins', 'courtship', 'courts', 'couple', 'county', 'countryman', 'counting', 'countess', 'counter', 'count', 'coulee', 'cougar', 'couch', 'cou', 'cottura', 'cottondale', 'cottageville', 'cotopaxi', 'coteau', 'cotati', 'costs', 'cosnarati', 'cosmos', 'cosels', 'corrine', 'corretjer', 'corpus', 'coronado', 'cornish', 'cornelia', 'corinne', 'corey', 'core', 'cordon', 'cordell', 'corcovado', 'copper', 'cope', 'coordinates', 'cooperative', 'cooler', 'cooke', 'conway', 'convicted', 'conversations', 'contre', 'contraptions', 'contract', 'contra', 'continues', 'continued', 'continue', 'contigo', 'consume', 'constructs', 'construction', 'conspiracies', 'conservancy', 'consequences', 'consciousness', 'conrad', 'conocido', 'connorville', 'connick', 'connee', 'congress', 'congeniality', 'conflicts', 'confirm', 'confidenceman', 'confederate', 'concerts', 'concerns', 'conception', 'comunas', 'computing', 'compulsive', 'compound', 'composer', 'complots', 'completely', 'compleat', 'compilation', 'competitors', 'companion', 'compact', 'comoros', 'commons', 'committee', 'commitments', 'command', 'comertown', 'comer', 'comeback', 'columbus', 'colorless', 'colombia', 'collision', 'collide', 'collectors', 'collector', 'collected', 'colic', 'cokeville', 'coj', 'coin', 'cohocton', 'cohn', 'cohesive', 'cohen', 'coffins', 'coffin', 'codes', 'codebreakers', 'code', 'cocuy', 'coco', 'cocker', 'cockadoodledoo', 'cock', 'cochrane', 'cochran', 'cobbler', 'cobain', 'coalton', 'coaldale', 'coach', 'cma', 'clutching', 'cluster', 'clue', 'clubbing', 'clowns', 'closet', 'closer', 'closed', 'cloris', 'clontarf', 'clint', 'clink', 'clinchco', 'climate', 'cliffs', 'clerk', 'cleopatra', 'clements', 'clem', 'clean', 'cle', 'clay', 'clawson', 'claw', 'claudia', 'classes', 'clash', 'clarice', 'clara', 'clam', 'clafoutis', 'civilization', 'citrus', 'citizen', 'cisco', 'ciribiribin', 'circleville', 'circle', 'cinnaminson', 'cineexport', 'cindy', 'cimarron', 'cień', 'cienega', 'cidade', 'chyi', 'chupacabra', 'chump', 'chuck', 'chromeplated', 'chrome', 'christine', 'christie', 'christianity', 'christchurch', 'chrisman', 'chowdiah', 'chowdhury', 'chowder', 'chowchilla', 'choucroute', 'choptank', 'chopin', 'choper', 'choodu', 'chong', 'chompa', 'choli', 'cholesterol', 'choir', 'choice', 'choclo', 'choclair', 'choate', 'chippewa', 'chipmunk', 'chingy', 'ching', 'chinatown', 'chin', 'chilled', 'chili', 'childhood', 'childersburg', 'chief', 'chico', 'chichi', 'chicas', 'chicane', 'chica', 'chic', 'chhapar', 'chettathi', 'chet', 'chestnut', 'cheryl', 'cherwell', 'cherrytree', 'chernavsky', 'cherie', 'chemical', 'chemdex', 'chelsea', 'cheers', 'cheerful', 'chee', 'checkmate', 'cheat', 'cheaper', 'chaw', 'chavoshi', 'chaurasia', 'chatyrkul', 'chatterjee', 'chattahoochee', 'chatschatrjan', 'chasing', 'chas', 'charts', 'charting', 'chart', 'charlene', 'chariot', 'charcos', 'chara', 'chapin', 'chaparral', 'chanteuse', 'chantal', 'chanson', 'channels', 'channel', 'changed', 'chandra', 'chan', 'champion', 'champ', 'chamillionaire', 'chameleon', 'chambers', 'chamberlain', 'challenges', 'challenged', 'chalkyitsik', 'chalice', 'chakrabarty', 'chait', 'chairman', 'chair', 'chae', 'certification', 'certainty', 'centenary', 'cenizo', 'cemil', 'cemetery', 'celtic', 'cello', 'celestial', 'cedarburg', 'cecil', 'cebu', 'cd', 'caxtons', 'cawker', 'cavour', 'caverns', 'caveman', 'cavalero', 'caught', 'cattle', 'catholic', 'cathedral', 'catedral', 'catchy', 'catchphrase', 'catalina', 'catahoula', 'casualties', 'castolon', 'casting', 'castillo', 'castaway', 'cassie', 'cassidy', 'cass', 'cashel', 'cashcash', 'caseya', 'casey', 'cascading', 'carácter', 'carvel', 'cartwright', 'carthy', 'carson', 'carrousel', 'carrisi', 'carpet', 'carpenterville', 'carpathian', 'carothers', 'carolus', 'carny', 'carnot', 'carnik', 'carnegie', 'carmella', 'carman', 'carly', 'carlson', 'carlisle', 'carissa', 'carina', 'caribou', 'carencro', 'careless', 'careful', 'career', 'cardoso', 'cardinale', 'cardinal', 'cara', 'caputo', 'capture', 'caps', 'capricorn', 'capital', 'caper', 'canto', 'cantautor', 'canta', 'cant', 'canon', 'cannon', 'canfield', 'candles', 'candlelight', 'canción', 'cancer', 'cancelled', 'camui', 'campingcar', 'campanian', 'campanella', 'campaign', 'cammack', 'camille', 'cameo', 'camel', 'cameia', 'camdeboonationalpark', 'cambodian', 'calpella', 'calliste', 'callicoon', 'calipuy', 'califon', 'calientes', 'calico', 'caleigh', 'calakmul', 'cal', 'caitlin', 'cairngormsnationalpark', 'caiafa', 'cage', 'cafagna', 'caddo', 'cabbage', 'bûche', 'bystrzyca', 'bynum', 'butthead', 'buttes', 'butter', 'butcher', 'butch', 'busta', 'bust', 'bushkill', 'busco', 'burzy', 'bury', 'burundi', 'burst', 'burrows', 'burr', 'burnside', 'burnout', 'burning', 'burney', 'burkettsville', 'burhøns', 'burgh', 'burgers', 'burgermeister', 'bunky', 'bunker', 'bunce', 'bums', 'bump', 'bumble', 'bum', 'bullfeathers', 'bull', 'bulat', 'bulanowa', 'built', 'bugs', 'buffy', 'buffalo', 'bue', 'budokan', 'buddy', 'budayeen', 'budapest', 'bud', 'buckner', 'buckley', 'bucatini', 'buarque', 'bslade', 'bsides', 'bryant', 'brutal', 'brunswick', 'bruno', 'brucetown', 'brownfield', 'brought', 'brotherhood', 'brothel', 'broonzy', 'brookwood', 'brookneal', 'brookland', 'brooke', 'brookdale', 'brook', 'bronze', 'bronislau', 'bronco', 'brokeback', 'broke', 'brockway', 'brochure', 'broadwaylafayette', 'brixton', 'britânico', 'brittney', 'brittany', 'britons', 'britannia', 'brit', 'brightman', 'bright', 'brigade', 'brieden', 'bride’journey', 'brickell', 'brianna', 'brewing', 'brew', 'breton', 'bret', 'brennan', 'breeze', 'breathtaking', 'breath', 'breasts', 'breaking', 'bread', 'brazuca', 'brasileiro', 'brasil', 'branton', 'brandy', 'brandon', 'brandie', 'branded', 'branch', 'braga', 'brady', 'bradford', 'bradenton', 'bradbury', 'brad', 'brackets', 'boyish', 'boyett', 'boyertown', 'boycott', 'boyce', 'boxing', 'bowling', 'bowlegs', 'bowl', 'bowie', 'bowers', 'bourne', 'boundary', 'bougatsa', 'boudreaux', 'bouchon', 'bottomland', 'botna', 'bother', 'botanical', 'boswell', 'boston', 'borys', 'borrowed', 'borrow', 'boris', 'boring', 'bordertown', 'booth', 'boonton', 'boond', 'boom', 'booker', 'boogaloo', 'boo', 'bonneville', 'bonnet', 'bonnaroo', 'bonn', 'bonita', 'bonham', 'bonga', 'boners', 'bond', 'bonaventure', 'bombshells', 'bombs', 'bomberman', 'bomber', 'bombay', 'bomb', 'boma', 'bolsa', 'boiling', 'bohemia', 'boggs', 'bogd', 'bodyguard', 'bodies', 'boden', 'bocelli', 'boca', 'bobbie', 'bob', 'boaz', 'boating', 'boathouse', 'boat', 'blythewood', 'blyde', 'blvd', 'blurred', 'bluffs', 'blowfly', 'blossom', 'bloops', 'bloodstained', 'bloodhounds', 'blondy', 'blogbridge', 'blodgett', 'blocks', 'blocher', 'blobby', 'blini', 'blighty', 'bleu', 'bless', 'bleeps', 'bleeding', 'bleed', 'blaydon', 'blankets', 'blandings', 'blanco', 'blaise', 'blaine', 'blag', 'blacksville', 'blacksheep', 'blackpool', 'blackman', 'blacklist', 'blackbox', 'blackbody', 'blackberry', 'blackberries', 'bizzy', 'bissonette', 'bison', 'biscay', 'birta', 'birdsong', 'birdland', 'birch', 'bioruby', 'biology', 'bio', 'binti', 'bingham', 'bind', 'bim', 'billion', 'bilingualism', 'bilal', 'biggest', 'bigger', 'bien', 'bibb', 'bhutto', 'bhupinder', 'bhosle', 'bhoot', 'bhoomi', 'bhattacharya', 'bhaal', 'bg', 'beyonders', 'beyblade', 'bey', 'bevilacqua', 'betts', 'bettles', 'betsy', 'betrayer', 'bethnal', 'bethesda', 'bethany', 'betances', 'bet', 'bestof', 'bestiary', 'bessie', 'beryl', 'bertine', 'bertha', 'berowra', 'beroun', 'bernie', 'bernardsville', 'bernardo', 'bernard', 'bernadine', 'berkley', 'berigan', 'berggren', 'benton', 'bennie', 'benjamin', 'beni', 'benedict', 'bend', 'bencha', 'bemaraha', 'beltsville', 'bellona', 'belles', 'belknap', 'believer', 'belhaven', 'belgian', 'belarus', 'bel', 'beijing', 'behzad', 'begums', 'beginnings', 'beggar', 'beethoven', 'beef', 'beedeville', 'beechman', 'beech', 'beeb', 'bee', 'bedrossowitsch', 'beda', 'bed', 'becomes', 'becky', 'beckham', 'becker', 'bechtolt', 'beavis', 'beauty', 'beatrice', 'beatmania', 'beating', 'beastologist', 'bears', 'bearmouth', 'beardyman', 'beam', 'bead', 'beacon', 'bbc', 'bazan', 'bayou', 'baxter', 'bautista', 'battlestations', 'battlement', 'battleaxe', 'battista', 'batio', 'bathroom', 'bathgate', 'bath', 'bastimentos', 'bastards', 'bassan', 'basjmet', 'basic', 'bashful', 'baruch', 'barse', 'bars', 'barry', 'barrett', 'baro', 'barnard', 'bareilles', 'barchetta', 'barbuda', 'barbra', 'barbiere', 'barbara', 'barba', 'baotianman', 'banshees', 'banner', 'banking', 'banker', 'bank', 'bangers', 'bandits', 'bande', 'banai', 'bamboccioni', 'baltic', 'balls', 'balloon', 'ballard', 'ballantrae', 'ballachulish', 'baldur’gate', 'baladas', 'bal', 'bakken', 'bake', 'bahar', 'baez', 'badu', 'badonviller', 'badmeaningood', 'baden', 'badelt', 'badass', 'baconton', 'backs', 'bachmet', 'bachata', 'bachand', 'babies', 'babar', 'baadal', 'azeroth', 'ayu', 'aysha', 'ayn', 'aydin', 'ayaka', 'ayach', 'axum', 'axis2', 'axelrod', 'awhile', 'awakened', 'awaiting', 'aviatrice', 'aviation', 'avery', 'average', 'avenue', 'aventuras', 'avenger', 'avantgarde', 'av69th', 'av53rd', 'autry', 'automator', 'autobiography', 'auto', 'authorised', 'auschwitz', 'aus', 'aurora', 'aura', 'aunt', 'augustus', 'augustine', 'auguri', 'augie', 'aubrey', 'attractive', 'attitude', 'atticus', 'atsumi', 'atre', 'atmosphere', 'atlantis', 'atlantic', 'atla', 'athol', 'ate', 'atch', 'atari', 'atanassowsee', 'asyikin', 'astronomical', 'astronauts', 'astonishing', 'astley', 'assumption', 'assault', 'aspinwall', 'asleep', 'asking', 'ask', 'asiate', 'asian', 'ashmore', 'ashland', 'ashes', 'ashby', 'asha', 'ash', 'artifacts', 'arsène', 'arsho', 'arsenault', 'arrows', 'array', 'arp', 'aroostook', 'arons', 'arnett', 'arnauld', 'arnaud', 'armik', 'armenian', 'armenia', 'armen', 'armageddon', 'arletta', 'arkport', 'arkinda', 'arjen', 'ariston', 'arista', 'arif', 'arias', 'aria', 'argumentative', 'argentino', 'argentinian', 'aretha', 'ares', 'aree', 'arctic', 'arcola', 'archive', 'archipelago', 'archie', 'arch', 'arcadian', 'arborea', 'arashiro', 'aransas', 'aragon', 'arab', 'aquariums', 'apshawa', 'aprite', 'appleyard', 'apples', 'appleby', 'appeal', 'apparatus', 'appalachian', 'apothecary', 'apostolos', 'apolon', 'apolobamba', 'apollo', 'api', 'aphex', 'apes', 'apeman', 'apbl98', 'apathy', 'aoyama', 'anweshaa', 'antonito', 'antonia', 'antonella', 'antisemitism', 'antigua', 'antietam', 'anti', 'antero', 'antenas', 'answers', 'anstruther', 'ansonia', 'annunciation', 'anniston', 'annet', 'annesley', 'ankimo', 'anjo', 'animation', 'anila', 'anguilla', 'angle', 'angelus', 'angeline', 'andouillettes', 'andes', 'andersson', 'anatoljewitsch', 'anarchy', 'anagram', 'anacreon', 'amyinthit', 'amt', 'amrithavaahini', 'amour', 'amorevoli', 'amon', 'amnicon', 'ammunition', 'ammonia', 'amirbai', 'amina', 'amhlaoibh', 'americans', 'amenia', 'ambler', 'ambitions', 'ambition', 'ambiente', 'amarth', 'amarillo', 'amano', 'amal', 'alyson', 'altynemelnationalpark', 'altri', 'alternativa', 'alte', 'altai', 'already', 'alphonso', 'alphatia', 'alpha', 'alot', 'alok', 'almighty', 'ally', 'allows', 'alloway', 'allman', 'allison', 'alles', 'allenwood', 'allenton', 'allen', 'allegiance', 'allcock', 'allardt', 'alkabli', 'alizadeh', 'alive', 'alissa', 'alison', 'alien', 'alibi', 'algeria', 'alger', 'alfredo', 'alfred', 'alexis', 'alex', 'alejandra', 'alderwood', 'alden', 'alchemyst', 'alchemist', 'albino', 'albini', 'albertson', 'alberton', 'albert', 'albarn', 'albano', 'alas', 'akira', 'akinyele', 'akhtar', 'akers', 'akb48', 'ajoy', 'ajinoam', 'aj', 'aisha', 'airy', 'airport', 'airi', 'airey', 'aired', 'aire', 'aira', 'aion', 'ahunting', 'ahmed', 'ah', 'aguilar', 'agua', 'agnolotti', 'agnew', 'ages', 'agatsuma', 'agate', 'afterlife', 'africana', 'aflame', 'afi', 'afghan', 'affections', 'affairs', 'aerial', 'adyathe', 'advise', 'advances', 'adriana', 'adolf', 'admire', 'admiralty', 'adler', 'adkins', 'adieu', 'adeyto', 'adeus', 'adeline', 'adele', 'address', 'addoelefantennationalpark', 'adding', 'acworth', 'actrices', 'actress', 'actors', 'activists', 'acquacotta', 'acoustics', 'acompañado', 'acid', 'achilles', 'accused', 'accounting', 'according', 'accidents', 'accidentally', 'accesss', 'academy', 'abuja', 'abstinence', 'aboriginal', 'abominations', 'abo', 'able', 'abhyankar', 'abhijeet', 'abdu', 'abdollahzadeh', 'abdication', 'abderrahmane', 'abdelli', 'abbruzzese', 'abbott', 'abbas', 'abacus', 'abacab', 'aaron', '9am', '97', '9112035', '8week', '882039', '847', '81', '807', '7even', '79', '7272036', '7252027', '7222030', '7132036', '6212035', '6152025', '6142035', '612027', '5th', '59th', '56', '55', '5202025', '5172037', '49', '4813', '45', '442036', '42', '4192030', '4172033', '4152034', '37', '36', '3262023', '3222038', '32', '2k3', '2gether', '257', '23rd', '2254', '2252025', '222322', '2212021', '2149', '214108', '213', '2112', '210517', '2031', '2010s', '2007–2008', '2003–2013', '19th', '19942009', '1980', '1977', '1971', '1970–1980', '1969', '1945', '193345', '1914–1918', '188', '1844', '1828', '180', '165', '1634', '163', '157', '152611', '1504', '1440', '141', '135th', '132209', '1319', '131', '12th', '1292039', '129', '1253', '12282019', '1226', '12142023', '12132025', '12102035', '1206', '1202023', '119', '1156', '114752', '113648', '11272023', '11232031', '112018', '11182018', '111607', '1112030', '1112', '105618', '1042021', '103rd', '1037', '10242028', '1024', '10222030', '1022021', '10212024', '102120', '101', '0959', '095827', '0944', '093206', '090438', '085629', '0839', '0805', '0752', '074321', '073132', '0727', '0725', '070800', '0707', '0659', '0630', '061813', '0613', '060548', '054413', '0445', '043628', '043415', '0344', '030148', '020230', '014835', '0127', '007', '006', '0055', '003½', '0000']\n"
          ]
        }
      ],
      "source": [
        "# get vocabulary size\n",
        "voc = vectorize_layer.get_vocabulary()\n",
        "word_index = dict(zip(voc, range(len(voc))))\n",
        "print('Vocabulary size: {}'.format(voc))"
      ]
    },
    {
      "cell_type": "markdown",
      "source": [
        "**Pre-trained Word Embedding: Glove**"
      ],
      "metadata": {
        "id": "DOCTxcuHdube"
      }
    },
    {
      "cell_type": "code",
      "source": [
        "# prepare dictionary of word and it's embedding\n",
        "embeddings_index = {}\n",
        "with open('glove.6B.100d.txt') as f:\n",
        "    for line in f:\n",
        "        word, coefs = line.split(maxsplit=1)\n",
        "        coefs = np.fromstring(coefs, \"f\", sep=\" \")\n",
        "        embeddings_index[word] = coefs\n",
        "\n",
        "print(\"Found %s Word Vectors.\" % len(embeddings_index))"
      ],
      "metadata": {
        "colab": {
          "base_uri": "https://localhost:8080/"
        },
        "id": "Mju-zRglhxvM",
        "outputId": "4912331f-fa7c-4bfe-f47a-ba9ce071675b"
      },
      "execution_count": null,
      "outputs": [
        {
          "output_type": "stream",
          "name": "stdout",
          "text": [
            "Found 400000 Word Vectors.\n"
          ]
        }
      ]
    },
    {
      "cell_type": "code",
      "source": [
        "# prepare embedding matrix\n",
        "num_tokens = len(voc) + 2\n",
        "embedding_dim = 100\n",
        "hits = 0\n",
        "misses = 0\n",
        "\n",
        "embedding_matrix = np.zeros((num_tokens, embedding_dim))\n",
        "for word, i in word_index.items():\n",
        "    embedding_vector = embeddings_index.get(word)\n",
        "    if embedding_vector is not None:\n",
        "        embedding_matrix[i] = embedding_vector\n",
        "        hits += 1\n",
        "    else:\n",
        "        misses += 1\n",
        "print(\"Converted %d Words (%d Misses)\" % (hits, misses))"
      ],
      "metadata": {
        "colab": {
          "base_uri": "https://localhost:8080/"
        },
        "id": "RYYaXFUIfDgU",
        "outputId": "c7ad0863-2ee7-4010-fe14-ce492f472e77"
      },
      "execution_count": null,
      "outputs": [
        {
          "output_type": "stream",
          "name": "stdout",
          "text": [
            "Converted 8352 Words (1086 Misses)\n"
          ]
        }
      ]
    },
    {
      "cell_type": "markdown",
      "source": [
        "**Process Inputs**"
      ],
      "metadata": {
        "id": "xYmRA5GPdPPB"
      }
    },
    {
      "cell_type": "code",
      "execution_count": null,
      "metadata": {
        "id": "j62HArIiJGx7"
      },
      "outputs": [],
      "source": [
        "# text processing for all the x records (not on y records)\n",
        "traindf['text'] = traindf['text'].apply(lambda x: vectorize_layer(x))\n",
        "testdf['text'] = testdf['text'].apply(lambda x: vectorize_layer(x))\n",
        "validdf['text'] = validdf['text'].apply(lambda x: vectorize_layer(x))"
      ]
    },
    {
      "cell_type": "code",
      "execution_count": null,
      "metadata": {
        "id": "MC_W0lhd4EcK",
        "colab": {
          "base_uri": "https://localhost:8080/"
        },
        "outputId": "06de0e13-204b-4e93-ddf1-eb124d6fccfd"
      },
      "outputs": [
        {
          "output_type": "stream",
          "name": "stdout",
          "text": [
            "Label Encoder Classes:  ['AddToPlaylist' 'BookRestaurant' 'GetWeather' 'PlayMusic' 'RateBook'\n",
            " 'SearchCreativeWork' 'SearchScreeningEvent']\n"
          ]
        }
      ],
      "source": [
        "# label encode \n",
        "label_encoder = preprocessing.LabelEncoder()\n",
        "label_encoder.fit(traindf['intent']) # fit label encoder\n",
        "print('Label Encoder Classes: ', label_encoder.classes_)\n",
        "\n",
        "# transform labels\n",
        "traindf['intent'] = label_encoder.transform(traindf['intent'])\n",
        "testdf['intent'] = label_encoder.transform(testdf['intent'])\n",
        "validdf['intent'] = label_encoder.transform(validdf['intent'])"
      ]
    },
    {
      "cell_type": "code",
      "execution_count": null,
      "metadata": {
        "id": "3agWaghCEeCp"
      },
      "outputs": [],
      "source": [
        "# convert model inputs to arrays\n",
        "x_train = np.array([np.array(val) for val in traindf['text']])\n",
        "x_val = np.array([np.array(val) for val in validdf['text']])\n",
        "\n",
        "y_train = np.array([np.array(val) for val in traindf['intent']])\n",
        "y_val = np.array([np.array(val) for val in validdf['intent']])"
      ]
    },
    {
      "cell_type": "markdown",
      "metadata": {
        "id": "DjFmAMQxbJc0"
      },
      "source": [
        "**MLP Training**\n",
        "\n",
        "Model 1"
      ]
    },
    {
      "cell_type": "code",
      "execution_count": null,
      "metadata": {
        "colab": {
          "base_uri": "https://localhost:8080/"
        },
        "id": "-tiAKnUJJhlQ",
        "outputId": "86767d8e-8291-4c41-ed2c-07aac932d2f0"
      },
      "outputs": [
        {
          "output_type": "stream",
          "name": "stdout",
          "text": [
            "Model: \"ModelwithGloveEmbeddingAndGlobalMaxPool\"\n",
            "_________________________________________________________________\n",
            " Layer (type)                Output Shape              Param #   \n",
            "=================================================================\n",
            " embedding (Embedding)       (None, None, 100)         944000    \n",
            "                                                                 \n",
            " global_max_pooling1d (Globa  (None, 100)              0         \n",
            " lMaxPooling1D)                                                  \n",
            "                                                                 \n",
            " dense (Dense)               (None, 64)                6464      \n",
            "                                                                 \n",
            " dropout (Dropout)           (None, 64)                0         \n",
            "                                                                 \n",
            " dense_1 (Dense)             (None, 32)                2080      \n",
            "                                                                 \n",
            " dropout_1 (Dropout)         (None, 32)                0         \n",
            "                                                                 \n",
            " dense_2 (Dense)             (None, 7)                 231       \n",
            "                                                                 \n",
            "=================================================================\n",
            "Total params: 952,775\n",
            "Trainable params: 8,775\n",
            "Non-trainable params: 944,000\n",
            "_________________________________________________________________\n"
          ]
        }
      ],
      "source": [
        "# model definition\n",
        "model1 = tf.keras.Sequential([\n",
        "  layers.Embedding(num_tokens, embedding_dim,\n",
        "                   embeddings_initializer=keras.initializers.Constant(embedding_matrix),\n",
        "                   trainable=False),\n",
        "  layers.GlobalMaxPooling1D(),\n",
        "  layers.Dense(64, activation='relu'),\n",
        "  layers.Dropout(0.2),\n",
        "  layers.Dense(32, activation='relu'),\n",
        "  layers.Dropout(0.2),\n",
        "  layers.Dense(7, activation='softmax')])\n",
        "model1._name = 'ModelwithGloveEmbeddingAndGlobalMaxPool'\n",
        "model1.summary()"
      ]
    },
    {
      "cell_type": "code",
      "execution_count": null,
      "metadata": {
        "id": "VvfM-Kh6bdFx",
        "colab": {
          "base_uri": "https://localhost:8080/"
        },
        "outputId": "333951c1-e492-4be1-c801-c7354657de19"
      },
      "outputs": [
        {
          "output_type": "stream",
          "name": "stdout",
          "text": [
            "Epoch 1/50\n",
            "311/311 [==============================] - 1s 3ms/step - loss: 1.0708 - accuracy: 0.6202 - val_loss: 0.3994 - val_accuracy: 0.8774\n",
            "Epoch 2/50\n",
            "311/311 [==============================] - 1s 2ms/step - loss: 0.5023 - accuracy: 0.8351 - val_loss: 0.2857 - val_accuracy: 0.9052\n",
            "Epoch 3/50\n",
            "311/311 [==============================] - 1s 2ms/step - loss: 0.4055 - accuracy: 0.8652 - val_loss: 0.2374 - val_accuracy: 0.9186\n",
            "Epoch 4/50\n",
            "311/311 [==============================] - 1s 2ms/step - loss: 0.3497 - accuracy: 0.8877 - val_loss: 0.2220 - val_accuracy: 0.9216\n",
            "Epoch 5/50\n",
            "311/311 [==============================] - 1s 2ms/step - loss: 0.3290 - accuracy: 0.8900 - val_loss: 0.2060 - val_accuracy: 0.9270\n",
            "Epoch 6/50\n",
            "311/311 [==============================] - 1s 2ms/step - loss: 0.3112 - accuracy: 0.8974 - val_loss: 0.2028 - val_accuracy: 0.9307\n",
            "Epoch 7/50\n",
            "311/311 [==============================] - 1s 2ms/step - loss: 0.2934 - accuracy: 0.9031 - val_loss: 0.2018 - val_accuracy: 0.9276\n",
            "Epoch 8/50\n",
            "311/311 [==============================] - 1s 2ms/step - loss: 0.2755 - accuracy: 0.9095 - val_loss: 0.2001 - val_accuracy: 0.9300\n",
            "Epoch 9/50\n",
            "311/311 [==============================] - 1s 2ms/step - loss: 0.2603 - accuracy: 0.9155 - val_loss: 0.2056 - val_accuracy: 0.9296\n",
            "Epoch 10/50\n",
            "311/311 [==============================] - 1s 2ms/step - loss: 0.2590 - accuracy: 0.9125 - val_loss: 0.1858 - val_accuracy: 0.9374\n",
            "Epoch 11/50\n",
            "311/311 [==============================] - 1s 2ms/step - loss: 0.2457 - accuracy: 0.9201 - val_loss: 0.1963 - val_accuracy: 0.9307\n",
            "Epoch 12/50\n",
            "311/311 [==============================] - 1s 2ms/step - loss: 0.2353 - accuracy: 0.9200 - val_loss: 0.1888 - val_accuracy: 0.9330\n",
            "Epoch 13/50\n",
            "311/311 [==============================] - 1s 2ms/step - loss: 0.2333 - accuracy: 0.9221 - val_loss: 0.1831 - val_accuracy: 0.9384\n",
            "Epoch 14/50\n",
            "311/311 [==============================] - 1s 2ms/step - loss: 0.2300 - accuracy: 0.9230 - val_loss: 0.1847 - val_accuracy: 0.9343\n",
            "Epoch 15/50\n",
            "311/311 [==============================] - 1s 2ms/step - loss: 0.2185 - accuracy: 0.9285 - val_loss: 0.1914 - val_accuracy: 0.9330\n",
            "Epoch 16/50\n",
            "311/311 [==============================] - 1s 2ms/step - loss: 0.2131 - accuracy: 0.9282 - val_loss: 0.1791 - val_accuracy: 0.9363\n",
            "Epoch 17/50\n",
            "311/311 [==============================] - 1s 2ms/step - loss: 0.2116 - accuracy: 0.9321 - val_loss: 0.1767 - val_accuracy: 0.9377\n",
            "Epoch 18/50\n",
            "311/311 [==============================] - 1s 2ms/step - loss: 0.2027 - accuracy: 0.9331 - val_loss: 0.1982 - val_accuracy: 0.9363\n",
            "Epoch 19/50\n",
            "311/311 [==============================] - 1s 2ms/step - loss: 0.2048 - accuracy: 0.9308 - val_loss: 0.1930 - val_accuracy: 0.9300\n",
            "Epoch 20/50\n",
            "311/311 [==============================] - 1s 2ms/step - loss: 0.1942 - accuracy: 0.9357 - val_loss: 0.1855 - val_accuracy: 0.9380\n",
            "Epoch 21/50\n",
            "311/311 [==============================] - 1s 2ms/step - loss: 0.1906 - accuracy: 0.9357 - val_loss: 0.1731 - val_accuracy: 0.9407\n",
            "Epoch 22/50\n",
            "311/311 [==============================] - 1s 2ms/step - loss: 0.1972 - accuracy: 0.9346 - val_loss: 0.1759 - val_accuracy: 0.9384\n",
            "Epoch 23/50\n",
            "311/311 [==============================] - 1s 2ms/step - loss: 0.1821 - accuracy: 0.9387 - val_loss: 0.1830 - val_accuracy: 0.9394\n",
            "Epoch 24/50\n",
            "311/311 [==============================] - 1s 2ms/step - loss: 0.1857 - accuracy: 0.9389 - val_loss: 0.1746 - val_accuracy: 0.9394\n",
            "Epoch 25/50\n",
            "311/311 [==============================] - 1s 3ms/step - loss: 0.1788 - accuracy: 0.9417 - val_loss: 0.1758 - val_accuracy: 0.9417\n",
            "Epoch 26/50\n",
            "311/311 [==============================] - 1s 2ms/step - loss: 0.1700 - accuracy: 0.9419 - val_loss: 0.1794 - val_accuracy: 0.9384\n",
            "Epoch 27/50\n",
            "311/311 [==============================] - 1s 2ms/step - loss: 0.1649 - accuracy: 0.9439 - val_loss: 0.1845 - val_accuracy: 0.9377\n",
            "Epoch 28/50\n",
            "311/311 [==============================] - 1s 2ms/step - loss: 0.1599 - accuracy: 0.9452 - val_loss: 0.1758 - val_accuracy: 0.9400\n",
            "Epoch 29/50\n",
            "311/311 [==============================] - 1s 2ms/step - loss: 0.1684 - accuracy: 0.9441 - val_loss: 0.1779 - val_accuracy: 0.9417\n",
            "Epoch 30/50\n",
            "311/311 [==============================] - 1s 2ms/step - loss: 0.1548 - accuracy: 0.9485 - val_loss: 0.1766 - val_accuracy: 0.9404\n",
            "Epoch 31/50\n",
            "311/311 [==============================] - 1s 2ms/step - loss: 0.1556 - accuracy: 0.9473 - val_loss: 0.1842 - val_accuracy: 0.9430\n",
            "Epoch 32/50\n",
            "311/311 [==============================] - 1s 2ms/step - loss: 0.1549 - accuracy: 0.9496 - val_loss: 0.1797 - val_accuracy: 0.9430\n",
            "Epoch 33/50\n",
            "311/311 [==============================] - 1s 2ms/step - loss: 0.1490 - accuracy: 0.9512 - val_loss: 0.1856 - val_accuracy: 0.9441\n",
            "Epoch 34/50\n",
            "311/311 [==============================] - 1s 2ms/step - loss: 0.1513 - accuracy: 0.9488 - val_loss: 0.1752 - val_accuracy: 0.9434\n",
            "Epoch 35/50\n",
            "311/311 [==============================] - 1s 2ms/step - loss: 0.1442 - accuracy: 0.9489 - val_loss: 0.1813 - val_accuracy: 0.9430\n",
            "Epoch 36/50\n",
            "311/311 [==============================] - 1s 2ms/step - loss: 0.1438 - accuracy: 0.9506 - val_loss: 0.1845 - val_accuracy: 0.9434\n",
            "Epoch 37/50\n",
            "311/311 [==============================] - 1s 2ms/step - loss: 0.1462 - accuracy: 0.9492 - val_loss: 0.1841 - val_accuracy: 0.9400\n",
            "Epoch 38/50\n",
            "311/311 [==============================] - 1s 2ms/step - loss: 0.1449 - accuracy: 0.9507 - val_loss: 0.1821 - val_accuracy: 0.9441\n",
            "Epoch 39/50\n",
            "311/311 [==============================] - 1s 2ms/step - loss: 0.1346 - accuracy: 0.9533 - val_loss: 0.1882 - val_accuracy: 0.9417\n",
            "Epoch 40/50\n",
            "311/311 [==============================] - 1s 2ms/step - loss: 0.1323 - accuracy: 0.9558 - val_loss: 0.1858 - val_accuracy: 0.9424\n",
            "Epoch 41/50\n",
            "311/311 [==============================] - 1s 2ms/step - loss: 0.1314 - accuracy: 0.9568 - val_loss: 0.1876 - val_accuracy: 0.9417\n",
            "Epoch 42/50\n",
            "311/311 [==============================] - 1s 2ms/step - loss: 0.1314 - accuracy: 0.9545 - val_loss: 0.1890 - val_accuracy: 0.9434\n",
            "Epoch 43/50\n",
            "311/311 [==============================] - 1s 2ms/step - loss: 0.1296 - accuracy: 0.9575 - val_loss: 0.1873 - val_accuracy: 0.9434\n",
            "Epoch 44/50\n",
            "311/311 [==============================] - 1s 2ms/step - loss: 0.1226 - accuracy: 0.9590 - val_loss: 0.1864 - val_accuracy: 0.9414\n",
            "Epoch 45/50\n",
            "311/311 [==============================] - 1s 2ms/step - loss: 0.1208 - accuracy: 0.9586 - val_loss: 0.1889 - val_accuracy: 0.9434\n",
            "Epoch 46/50\n",
            "311/311 [==============================] - 1s 3ms/step - loss: 0.1264 - accuracy: 0.9563 - val_loss: 0.1916 - val_accuracy: 0.9400\n",
            "Epoch 47/50\n",
            "311/311 [==============================] - 1s 2ms/step - loss: 0.1124 - accuracy: 0.9626 - val_loss: 0.1881 - val_accuracy: 0.9437\n",
            "Epoch 48/50\n",
            "311/311 [==============================] - 1s 3ms/step - loss: 0.1191 - accuracy: 0.9618 - val_loss: 0.2000 - val_accuracy: 0.9400\n",
            "Epoch 49/50\n",
            "311/311 [==============================] - 1s 2ms/step - loss: 0.1193 - accuracy: 0.9593 - val_loss: 0.1901 - val_accuracy: 0.9424\n",
            "Epoch 50/50\n",
            "311/311 [==============================] - 1s 3ms/step - loss: 0.1161 - accuracy: 0.9604 - val_loss: 0.1941 - val_accuracy: 0.9420\n",
            "CPU times: user 39.4 s, sys: 3.4 s, total: 42.8 s\n",
            "Wall time: 36.8 s\n"
          ]
        }
      ],
      "source": [
        "# model compiling\n",
        "model1.compile(loss='sparse_categorical_crossentropy',\n",
        "              optimizer='adam',\n",
        "              metrics='accuracy')\n",
        "\n",
        "# model training\n",
        "epochs = 50\n",
        "%time history = model1.fit(x_train, y_train, validation_data=(x_val, y_val), epochs=epochs)"
      ]
    },
    {
      "cell_type": "code",
      "source": [
        "# plot the graphs\n",
        "history_dict = history.history # dictionary of result values\n",
        "epochs = range(1, len(history_dict['accuracy']) + 1) # number of epochs\n",
        "\n",
        "# plot for loss\n",
        "plt.plot(epochs, history_dict['loss'], 'bo', label='Training loss')\n",
        "plt.plot(epochs, history_dict['val_loss'], 'b', label='Validation loss')\n",
        "plt.title('Training and validation loss')\n",
        "plt.xlabel('Epochs')\n",
        "plt.ylabel('Loss')\n",
        "plt.legend()\n",
        "plt.show()\n",
        "\n",
        "# plot for accuracy\n",
        "plt.plot(epochs, history_dict['accuracy'], 'bo', label='Training acc')\n",
        "plt.plot(epochs, history_dict['val_accuracy'], 'b', label='Validation acc')\n",
        "plt.title('Training and validation accuracy')\n",
        "plt.xlabel('Epochs')\n",
        "plt.ylabel('Accuracy')\n",
        "plt.legend(loc='lower right')\n",
        "plt.show()"
      ],
      "metadata": {
        "colab": {
          "base_uri": "https://localhost:8080/",
          "height": 573
        },
        "id": "w6doh1Gmz9Ej",
        "outputId": "c133b9a8-d445-4c45-ed5f-918b4ddb4ae8"
      },
      "execution_count": null,
      "outputs": [
        {
          "output_type": "display_data",
          "data": {
            "text/plain": [
              "<Figure size 432x288 with 1 Axes>"
            ],
            "image/png": "[encoded data removed]"
          },
          "metadata": {
            "needs_background": "light"
          }
        },
        {
          "output_type": "display_data",
          "data": {
            "text/plain": [
              "<Figure size 432x288 with 1 Axes>"
            ],
            "image/png": "[encoded data removed]"
          },
          "metadata": {
            "needs_background": "light"
          }
        }
      ]
    },
    {
      "cell_type": "markdown",
      "source": [
        "Model 2"
      ],
      "metadata": {
        "id": "n_ljRUpepDKg"
      }
    },
    {
      "cell_type": "code",
      "source": [
        "# model definition\n",
        "model2 = tf.keras.Sequential([\n",
        "  layers.Embedding(num_tokens, embedding_dim,\n",
        "                   embeddings_initializer=keras.initializers.Constant(embedding_matrix),\n",
        "                   trainable=False),\n",
        "  layers.GlobalAveragePooling1D(),\n",
        "  layers.Dense(64, activation='relu'),\n",
        "  layers.Dropout(0.2),\n",
        "  layers.Dense(32, activation='relu'),\n",
        "  layers.Dropout(0.2),\n",
        "  layers.Dense(7, activation='softmax')])\n",
        "\n",
        "model1._name = 'ModelwithGloveEmbeddingAndGlobalAvgPool'\n",
        "model2.summary()"
      ],
      "metadata": {
        "colab": {
          "base_uri": "https://localhost:8080/"
        },
        "id": "rJlaFcj9o8wk",
        "outputId": "cd7cc7c1-b460-4153-92cd-3dd8564da243"
      },
      "execution_count": null,
      "outputs": [
        {
          "output_type": "stream",
          "name": "stdout",
          "text": [
            "Model: \"sequential_1\"\n",
            "_________________________________________________________________\n",
            " Layer (type)                Output Shape              Param #   \n",
            "=================================================================\n",
            " embedding_1 (Embedding)     (None, None, 100)         944000    \n",
            "                                                                 \n",
            " global_average_pooling1d (G  (None, 100)              0         \n",
            " lobalAveragePooling1D)                                          \n",
            "                                                                 \n",
            " dense_3 (Dense)             (None, 64)                6464      \n",
            "                                                                 \n",
            " dropout_2 (Dropout)         (None, 64)                0         \n",
            "                                                                 \n",
            " dense_4 (Dense)             (None, 32)                2080      \n",
            "                                                                 \n",
            " dropout_3 (Dropout)         (None, 32)                0         \n",
            "                                                                 \n",
            " dense_5 (Dense)             (None, 7)                 231       \n",
            "                                                                 \n",
            "=================================================================\n",
            "Total params: 952,775\n",
            "Trainable params: 8,775\n",
            "Non-trainable params: 944,000\n",
            "_________________________________________________________________\n"
          ]
        }
      ]
    },
    {
      "cell_type": "code",
      "source": [
        "# model compiling\n",
        "model2.compile(loss='sparse_categorical_crossentropy',\n",
        "              optimizer='adam',\n",
        "              metrics='accuracy')\n",
        "\n",
        "# model training\n",
        "epochs = 30\n",
        "%time history = model2.fit(x_train, y_train, validation_data=(x_val, y_val), epochs=epochs)"
      ],
      "metadata": {
        "colab": {
          "base_uri": "https://localhost:8080/"
        },
        "id": "mpudPJQ_pMgO",
        "outputId": "7055a72b-945c-4abd-ef99-8bcd2eac1091"
      },
      "execution_count": null,
      "outputs": [
        {
          "output_type": "stream",
          "name": "stdout",
          "text": [
            "Epoch 1/30\n",
            "311/311 [==============================] - 1s 3ms/step - loss: 1.2684 - accuracy: 0.6195 - val_loss: 0.5010 - val_accuracy: 0.8747\n",
            "Epoch 2/30\n",
            "311/311 [==============================] - 1s 2ms/step - loss: 0.4575 - accuracy: 0.8551 - val_loss: 0.2794 - val_accuracy: 0.9156\n",
            "Epoch 3/30\n",
            "311/311 [==============================] - 1s 2ms/step - loss: 0.3222 - accuracy: 0.9007 - val_loss: 0.2178 - val_accuracy: 0.9296\n",
            "Epoch 4/30\n",
            "311/311 [==============================] - 1s 2ms/step - loss: 0.2683 - accuracy: 0.9143 - val_loss: 0.1925 - val_accuracy: 0.9377\n",
            "Epoch 5/30\n",
            "311/311 [==============================] - 1s 2ms/step - loss: 0.2378 - accuracy: 0.9250 - val_loss: 0.1734 - val_accuracy: 0.9444\n",
            "Epoch 6/30\n",
            "311/311 [==============================] - 1s 2ms/step - loss: 0.2226 - accuracy: 0.9272 - val_loss: 0.1612 - val_accuracy: 0.9484\n",
            "Epoch 7/30\n",
            "311/311 [==============================] - 1s 2ms/step - loss: 0.1981 - accuracy: 0.9381 - val_loss: 0.1566 - val_accuracy: 0.9467\n",
            "Epoch 8/30\n",
            "311/311 [==============================] - 1s 2ms/step - loss: 0.1857 - accuracy: 0.9413 - val_loss: 0.1462 - val_accuracy: 0.9497\n",
            "Epoch 9/30\n",
            "311/311 [==============================] - 1s 2ms/step - loss: 0.1819 - accuracy: 0.9410 - val_loss: 0.1406 - val_accuracy: 0.9534\n",
            "Epoch 10/30\n",
            "311/311 [==============================] - 1s 2ms/step - loss: 0.1697 - accuracy: 0.9459 - val_loss: 0.1398 - val_accuracy: 0.9534\n",
            "Epoch 11/30\n",
            "311/311 [==============================] - 1s 2ms/step - loss: 0.1677 - accuracy: 0.9462 - val_loss: 0.1367 - val_accuracy: 0.9538\n",
            "Epoch 12/30\n",
            "311/311 [==============================] - 1s 2ms/step - loss: 0.1606 - accuracy: 0.9492 - val_loss: 0.1329 - val_accuracy: 0.9551\n",
            "Epoch 13/30\n",
            "311/311 [==============================] - 1s 2ms/step - loss: 0.1557 - accuracy: 0.9508 - val_loss: 0.1308 - val_accuracy: 0.9538\n",
            "Epoch 14/30\n",
            "311/311 [==============================] - 1s 2ms/step - loss: 0.1512 - accuracy: 0.9536 - val_loss: 0.1286 - val_accuracy: 0.9548\n",
            "Epoch 15/30\n",
            "311/311 [==============================] - 1s 2ms/step - loss: 0.1484 - accuracy: 0.9515 - val_loss: 0.1280 - val_accuracy: 0.9548\n",
            "Epoch 16/30\n",
            "311/311 [==============================] - 1s 2ms/step - loss: 0.1420 - accuracy: 0.9553 - val_loss: 0.1269 - val_accuracy: 0.9561\n",
            "Epoch 17/30\n",
            "311/311 [==============================] - 1s 2ms/step - loss: 0.1428 - accuracy: 0.9549 - val_loss: 0.1258 - val_accuracy: 0.9575\n",
            "Epoch 18/30\n",
            "311/311 [==============================] - 1s 2ms/step - loss: 0.1357 - accuracy: 0.9558 - val_loss: 0.1265 - val_accuracy: 0.9551\n",
            "Epoch 19/30\n",
            "311/311 [==============================] - 1s 2ms/step - loss: 0.1315 - accuracy: 0.9570 - val_loss: 0.1258 - val_accuracy: 0.9548\n",
            "Epoch 20/30\n",
            "311/311 [==============================] - 1s 2ms/step - loss: 0.1299 - accuracy: 0.9608 - val_loss: 0.1257 - val_accuracy: 0.9528\n",
            "Epoch 21/30\n",
            "311/311 [==============================] - 1s 2ms/step - loss: 0.1275 - accuracy: 0.9572 - val_loss: 0.1228 - val_accuracy: 0.9558\n",
            "Epoch 22/30\n",
            "311/311 [==============================] - 1s 2ms/step - loss: 0.1260 - accuracy: 0.9591 - val_loss: 0.1242 - val_accuracy: 0.9561\n",
            "Epoch 23/30\n",
            "311/311 [==============================] - 1s 2ms/step - loss: 0.1247 - accuracy: 0.9590 - val_loss: 0.1239 - val_accuracy: 0.9538\n",
            "Epoch 24/30\n",
            "311/311 [==============================] - 1s 2ms/step - loss: 0.1197 - accuracy: 0.9617 - val_loss: 0.1264 - val_accuracy: 0.9561\n",
            "Epoch 25/30\n",
            "311/311 [==============================] - 1s 3ms/step - loss: 0.1193 - accuracy: 0.9616 - val_loss: 0.1214 - val_accuracy: 0.9571\n",
            "Epoch 26/30\n",
            "311/311 [==============================] - 1s 2ms/step - loss: 0.1150 - accuracy: 0.9622 - val_loss: 0.1219 - val_accuracy: 0.9564\n",
            "Epoch 27/30\n",
            "311/311 [==============================] - 1s 2ms/step - loss: 0.1120 - accuracy: 0.9624 - val_loss: 0.1229 - val_accuracy: 0.9554\n",
            "Epoch 28/30\n",
            "311/311 [==============================] - 1s 2ms/step - loss: 0.1090 - accuracy: 0.9625 - val_loss: 0.1214 - val_accuracy: 0.9551\n",
            "Epoch 29/30\n",
            "311/311 [==============================] - 1s 2ms/step - loss: 0.1074 - accuracy: 0.9662 - val_loss: 0.1226 - val_accuracy: 0.9564\n",
            "Epoch 30/30\n",
            "311/311 [==============================] - 1s 2ms/step - loss: 0.1063 - accuracy: 0.9661 - val_loss: 0.1215 - val_accuracy: 0.9564\n",
            "CPU times: user 23.8 s, sys: 2.15 s, total: 25.9 s\n",
            "Wall time: 22.1 s\n"
          ]
        }
      ]
    },
    {
      "cell_type": "code",
      "source": [
        "# plot the graphs\n",
        "history_dict = history.history # dictionary of result values\n",
        "epochs = range(1, len(history_dict['accuracy']) + 1) # number of epochs\n",
        "\n",
        "# plot for loss\n",
        "plt.plot(epochs, history_dict['loss'], 'bo', label='Training loss')\n",
        "plt.plot(epochs, history_dict['val_loss'], 'b', label='Validation loss')\n",
        "plt.title('Training and validation loss')\n",
        "plt.xlabel('Epochs')\n",
        "plt.ylabel('Loss')\n",
        "plt.legend()\n",
        "plt.show()\n",
        "\n",
        "# plot for accuracy\n",
        "plt.plot(epochs, history_dict['accuracy'], 'bo', label='Training acc')\n",
        "plt.plot(epochs, history_dict['val_accuracy'], 'b', label='Validation acc')\n",
        "plt.title('Training and validation accuracy')\n",
        "plt.xlabel('Epochs')\n",
        "plt.ylabel('Accuracy')\n",
        "plt.legend(loc='lower right')\n",
        "plt.show()"
      ],
      "metadata": {
        "colab": {
          "base_uri": "https://localhost:8080/",
          "height": 573
        },
        "id": "6BtoNr0Fz46D",
        "outputId": "9f05fffe-8a4a-4847-8970-ec97ec6af544"
      },
      "execution_count": null,
      "outputs": [
        {
          "output_type": "display_data",
          "data": {
            "text/plain": [
              "<Figure size 432x288 with 1 Axes>"
            ],
            "image/png": "[encoded data removed]"
          },
          "metadata": {
            "needs_background": "light"
          }
        },
        {
          "output_type": "display_data",
          "data": {
            "text/plain": [
              "<Figure size 432x288 with 1 Axes>"
            ],
            "image/png": "[encoded data removed]"
          },
          "metadata": {
            "needs_background": "light"
          }
        }
      ]
    },
    {
      "cell_type": "markdown",
      "metadata": {
        "id": "Lqi80zysdVyY"
      },
      "source": [
        "**Evaluate Model**"
      ]
    },
    {
      "cell_type": "code",
      "execution_count": null,
      "metadata": {
        "id": "yyNR3LFEdZWx",
        "colab": {
          "base_uri": "https://localhost:8080/"
        },
        "outputId": "262df8f0-7e7e-4c30-ee2e-723675d2efa1"
      },
      "outputs": [
        {
          "output_type": "stream",
          "name": "stdout",
          "text": [
            "Model 1 Evaluation on Test Set:\n",
            "40/40 [==============================] - 0s 2ms/step - loss: 0.2205 - accuracy: 0.9406\n",
            "Loss:  0.22054710984230042\n",
            "Accuracy:  0.940625011920929\n",
            "\n",
            "Model 2 Evaluation on Test Set:\n",
            "40/40 [==============================] - 0s 2ms/step - loss: 0.1207 - accuracy: 0.9563\n",
            "Loss:  0.12067337334156036\n",
            "Accuracy:  0.956250011920929\n"
          ]
        }
      ],
      "source": [
        "# evaluate model on test dataset\n",
        "x_test = np.array([np.array(val) for val in testdf['text']])\n",
        "y_test = np.array([np.array(val) for val in testdf['intent']])\n",
        "# model 1 evaluation\n",
        "print('Model 1 Evaluation on Test Set:')\n",
        "loss, accuracy = model1.evaluate(x_test, y_test)\n",
        "print(\"Loss: \", loss)\n",
        "print(\"Accuracy: \", accuracy)\n",
        "# model 2 evaluation\n",
        "print('\\nModel 2 Evaluation on Test Set:')\n",
        "loss, accuracy = model2.evaluate(x_test, y_test)\n",
        "print(\"Loss: \", loss)\n",
        "print(\"Accuracy: \", accuracy)"
      ]
    },
    {
      "cell_type": "markdown",
      "source": [
        "**Export Best Model**"
      ],
      "metadata": {
        "id": "tBAcXhKbKYY_"
      }
    },
    {
      "cell_type": "code",
      "source": [
        "# save the model\n",
        "export_model = tf.keras.Sequential([\n",
        "  tf.keras.Input(shape=(1,), dtype=\"string\"),\n",
        "  vectorize_layer,\n",
        "  model2 ]) # saving model 2\n",
        "\n",
        "export_model.save('saved_model/model2_gloveencoding', save_format='tf')"
      ],
      "metadata": {
        "id": "dTCTNTfTKY_0",
        "colab": {
          "base_uri": "https://localhost:8080/"
        },
        "outputId": "c38f3bdf-99d7-46a5-8014-d3e869f63081"
      },
      "execution_count": null,
      "outputs": [
        {
          "output_type": "stream",
          "name": "stderr",
          "text": [
            "WARNING:tensorflow:Compiled the loaded model, but the compiled metrics have yet to be built. `model.compile_metrics` will be empty until you train or evaluate the model.\n"
          ]
        }
      ]
    },
    {
      "cell_type": "markdown",
      "source": [
        "**Conclusion:**\n",
        "\n",
        "**Model 1:**\n",
        "\n",
        "INPUT => EMBEDDING(Glove Embedding) => GMP1D => FC => RELU => DO => FC => RELU => DO => FC => SOFTMAX\n",
        "1.   Trainable Parameters: 8,775\n",
        "1.   Epochs: 50\n",
        "2.   Loss and Accuracy:\n",
        "    *   Training Loss: 0.1161 - Training Accuracy: 0.9604\n",
        "    *   Validation Loss: 0.1941 - Validation Accuracy: 0.9420\n",
        "    *   Testing Loss: 0.2205 - Testing Accuracy: 0.9406\n",
        "3.   Wall Time: 36.8s\n",
        "**Model 2:**\n",
        "\n",
        "INPUT => EMBEDDING(Glove Embedding) => GAP1D => FC => RELU => DO => FC => RELU => DO => FC => SOFTMAX\n",
        "1.   Trainable Parameters: 8,775\n",
        "1.   Epochs: 30\n",
        "2.   Loss and Accuracy:\n",
        "    *   Training Loss: 0.1063 - Training Accuracy: 0.9661\n",
        "    *   Validation Loss: 0.1215 - Validation Accuracy: 0.9564\n",
        "    *   Testing Loss: 0.1206 - Testing Accuracy: 0.9562\n",
        "3.   Wall Time: 22.1s\n",
        "\n",
        "**ANALYSIS:**\n",
        "\n",
        "1.   Model 2(uses GlobalAveragePool1D) is performing better than Model 1(uses GlobalMaxPool1D) in less epochs and in less wall time."
      ],
      "metadata": {
        "id": "S01MYyaJR6jK"
      }
    }
  ],
  "metadata": {
    "colab": {
      "provenance": []
    },
    "gpuClass": "standard",
    "kernelspec": {
      "display_name": "Python 3",
      "name": "python3"
    },
    "language_info": {
      "name": "python"
    }
  },
  "nbformat": 4,
  "nbformat_minor": 0
}