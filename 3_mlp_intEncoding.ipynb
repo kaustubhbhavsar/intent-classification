{
  "nbformat": 4,
  "nbformat_minor": 0,
  "metadata": {
    "colab": {
      "provenance": []
    },
    "kernelspec": {
      "name": "python3",
      "display_name": "Python 3"
    },
    "language_info": {
      "name": "python"
    },
    "gpuClass": "standard"
  },
  "cells": [
    {
      "cell_type": "markdown",
      "source": [
        "AIM: To perform intent classification using MLP and integer encoding (TextVectorization Layer)."
      ],
      "metadata": {
        "id": "i2fv8bOaoXtW"
      }
    },
    {
      "cell_type": "code",
      "execution_count": null,
      "metadata": {
        "id": "u-fY0v8Onsb9",
        "colab": {
          "base_uri": "https://localhost:8080/"
        },
        "outputId": "26b86d15-0644-41f1-a5df-9bd8b57b0ea9"
      },
      "outputs": [
        {
          "output_type": "stream",
          "name": "stderr",
          "text": [
            "[nltk_data] Downloading package stopwords to /root/nltk_data...\n",
            "[nltk_data]   Unzipping corpora/stopwords.zip.\n",
            "[nltk_data] Downloading package wordnet to /root/nltk_data...\n",
            "[nltk_data] Downloading package omw-1.4 to /root/nltk_data...\n"
          ]
        }
      ],
      "source": [
        "# import libraries\n",
        "from google.colab import drive\n",
        "import os\n",
        "\n",
        "import tensorflow as tf\n",
        "from tensorflow.keras import layers\n",
        "\n",
        "import string\n",
        "import re\n",
        "import nltk\n",
        "from nltk.corpus import stopwords\n",
        "nltk.download('stopwords')\n",
        "\n",
        "from sklearn import preprocessing\n",
        "import matplotlib.pyplot as plt\n",
        "import pandas as pd\n",
        "import numpy as np"
      ]
    },
    {
      "cell_type": "code",
      "source": [
        "# mount google drive and connect working directory\n",
        "drive.mount('/content/gdrive', force_remount = True)\n",
        "print (sorted(os.listdir('gdrive/My Drive/Colab Helper/ICData/Dataset')))\n",
        "os.chdir('gdrive/My Drive/Colab Helper/ICData/Dataset') # Connect to the directory"
      ],
      "metadata": {
        "colab": {
          "base_uri": "https://localhost:8080/"
        },
        "id": "uL4CPprgorGN",
        "outputId": "3aaf3341-3c4e-4ff6-f6b8-bb81d185607b"
      },
      "execution_count": null,
      "outputs": [
        {
          "output_type": "stream",
          "name": "stdout",
          "text": [
            "Mounted at /content/gdrive\n",
            "['data_file.csv', 'glove.6B.100d.txt', 'glove.6B.50d.txt', 'model', 'test_.csv', 'train_.csv', 'valid_.csv']\n"
          ]
        }
      ]
    },
    {
      "cell_type": "code",
      "source": [
        "# read train file and print it's shape\n",
        "traindf = pd.read_csv('train_.csv', usecols=['text','intent'])\n",
        "testdf = pd.read_csv('test_.csv', usecols=['text','intent'])\n",
        "validdf = pd.read_csv('valid_.csv', usecols=['text','intent'])\n",
        "\n",
        "print('Train Shape: ', traindf.shape)\n",
        "print('Test Shape: ', testdf.shape)\n",
        "print('Valid Shape: ', validdf.shape)"
      ],
      "metadata": {
        "colab": {
          "base_uri": "https://localhost:8080/"
        },
        "id": "IbRPziQBosdj",
        "outputId": "864ebb17-888d-44b1-b7aa-906d286d059e"
      },
      "execution_count": null,
      "outputs": [
        {
          "output_type": "stream",
          "name": "stdout",
          "text": [
            "Train Shape:  (9951, 2)\n",
            "Test Shape:  (1280, 2)\n",
            "Valid Shape:  (2985, 2)\n"
          ]
        }
      ]
    },
    {
      "cell_type": "markdown",
      "source": [
        "Observation:\n",
        "\n",
        "1.   No NULL value present."
      ],
      "metadata": {
        "id": "M8tlwyUvowd-"
      }
    },
    {
      "cell_type": "code",
      "source": [
        "# NULL value presence check\n",
        "print('NULL values: ', traindf['text'].isnull().sum())"
      ],
      "metadata": {
        "id": "2y0KcCuiovtk",
        "colab": {
          "base_uri": "https://localhost:8080/"
        },
        "outputId": "b7b530ef-ccf7-46f3-e8a6-337150d1a369"
      },
      "execution_count": null,
      "outputs": [
        {
          "output_type": "stream",
          "name": "stdout",
          "text": [
            "NULL values:  0\n"
          ]
        }
      ]
    },
    {
      "cell_type": "markdown",
      "source": [
        "Observation:\n",
        "\n",
        "1.   Texts may not require a lot of text cleaning."
      ],
      "metadata": {
        "id": "4aNponEIo1m6"
      }
    },
    {
      "cell_type": "code",
      "source": [
        "# display first 10 rows\n",
        "print('First 10 rows:\\n', traindf.head(10))"
      ],
      "metadata": {
        "id": "C49vJGUMo1OD",
        "colab": {
          "base_uri": "https://localhost:8080/"
        },
        "outputId": "b695ef62-e14d-43cd-ffba-c03263d0e604"
      },
      "execution_count": null,
      "outputs": [
        {
          "output_type": "stream",
          "name": "stdout",
          "text": [
            "First 10 rows:\n",
            "                                                 text              intent\n",
            "0                          find under night in-birth  SearchCreativeWork\n",
            "1         book a spot in town in the same area as me      BookRestaurant\n",
            "2                                         fimd glory  SearchCreativeWork\n",
            "3       i need a restaurant on july 18th in rose bud      BookRestaurant\n",
            "4  book a spot for 4 in oklahoma at south street ...      BookRestaurant\n",
            "5  i need to know what the weather will be like i...          GetWeather\n",
            "6  book a bistro in new zealand in 119 and a half...      BookRestaurant\n",
            "7           need a table for nine in east prairie la      BookRestaurant\n",
            "8  book a table for mindy and angelita at a resta...      BookRestaurant\n",
            "9  find me a table for two at seven somewhere in ...      BookRestaurant\n"
          ]
        }
      ]
    },
    {
      "cell_type": "markdown",
      "source": [
        "**Text Processing**\n",
        "\n",
        "**Text Standardization, Tokenization, and Vectorization** (using tf.keras.layers.TextVectorization layer)\n",
        "\n",
        "1.   Convert to lowercase. ✅\n",
        "2.   Keep alphanumeric (remove punctuations if any). ✅\n",
        "3.   Remove stopwords. ✅\n",
        "4.   Perform stemming/lemmatization. ❌"
      ],
      "metadata": {
        "id": "-4a1icJAo_X0"
      }
    },
    {
      "cell_type": "code",
      "source": [
        "# function to perform standardization\n",
        "@tf.keras.utils.register_keras_serializable() # if this line is not present; then the exported model will raise error while performing predictions\n",
        "def custom_standardization(input_data):\n",
        "  lowercase = tf.strings.lower(input_data)\n",
        "  remove_punctuation = tf.strings.regex_replace(lowercase, '[%s]' % re.escape(string.punctuation), '')\n",
        "  remove_stopwords = tf.strings.regex_replace(remove_punctuation, r'\\b(' + r'|'.join(stopwords.words('english')) + r')\\b\\s*', '')\n",
        "  return remove_stopwords"
      ],
      "metadata": {
        "id": "yEdjNB951Y38"
      },
      "execution_count": null,
      "outputs": []
    },
    {
      "cell_type": "code",
      "source": [
        "# creating TextVectorization layer\n",
        "max_features = 10000\n",
        "sequence_length = 65\n",
        "\n",
        "vectorize_layer = layers.TextVectorization(\n",
        "    standardize=custom_standardization,\n",
        "    max_tokens=max_features,\n",
        "    output_mode='int',\n",
        "    output_sequence_length=sequence_length)"
      ],
      "metadata": {
        "id": "nI5KBixoWGbo"
      },
      "execution_count": null,
      "outputs": []
    },
    {
      "cell_type": "code",
      "source": [
        "# calling adapt on a text-only dataset (without labels) of training data\n",
        "raw_train_ds = tf.data.Dataset.from_tensor_slices(traindf['text']).batch(64)\n",
        "vectorize_layer.adapt(raw_train_ds)"
      ],
      "metadata": {
        "id": "526Ge1M9z7L8"
      },
      "execution_count": null,
      "outputs": []
    },
    {
      "cell_type": "code",
      "source": [
        "# get vocabulary size\n",
        "voc = vectorize_layer.get_vocabulary()\n",
        "print('Vocabulary size: {}'.format(len(voc)))"
      ],
      "metadata": {
        "colab": {
          "base_uri": "https://localhost:8080/"
        },
        "id": "rcKQ_uGeIeCF",
        "outputId": "5850896d-0a1f-4b44-d3e0-d1aadb3f5fa2"
      },
      "execution_count": null,
      "outputs": [
        {
          "output_type": "stream",
          "name": "stdout",
          "text": [
            "Vocabulary size: 9438\n"
          ]
        }
      ]
    },
    {
      "cell_type": "markdown",
      "source": [
        "**Process Inputs**"
      ],
      "metadata": {
        "id": "SbFO_bqsdnyu"
      }
    },
    {
      "cell_type": "code",
      "source": [
        "# text processing for all the x records (not on y records)\n",
        "traindf['text'] = traindf['text'].apply(lambda x: vectorize_layer(x))\n",
        "testdf['text'] = testdf['text'].apply(lambda x: vectorize_layer(x))\n",
        "validdf['text'] = validdf['text'].apply(lambda x: vectorize_layer(x))"
      ],
      "metadata": {
        "id": "j62HArIiJGx7"
      },
      "execution_count": null,
      "outputs": []
    },
    {
      "cell_type": "code",
      "source": [
        "# label encode\n",
        "label_encoder = preprocessing.LabelEncoder()\n",
        "label_encoder.fit(traindf['intent']) # fit label encoder\n",
        "print('Label Encoder Classes: ', label_encoder.classes_)\n",
        "\n",
        "# transform labels\n",
        "traindf['intent'] = label_encoder.transform(traindf['intent'])\n",
        "testdf['intent'] = label_encoder.transform(testdf['intent'])\n",
        "validdf['intent'] = label_encoder.transform(validdf['intent'])"
      ],
      "metadata": {
        "id": "MC_W0lhd4EcK",
        "colab": {
          "base_uri": "https://localhost:8080/"
        },
        "outputId": "832f25bf-ab8a-4580-c1f4-11803506e20c"
      },
      "execution_count": null,
      "outputs": [
        {
          "output_type": "stream",
          "name": "stdout",
          "text": [
            "Label Encoder Classes:  ['AddToPlaylist' 'BookRestaurant' 'GetWeather' 'PlayMusic' 'RateBook'\n",
            " 'SearchCreativeWork' 'SearchScreeningEvent']\n"
          ]
        }
      ]
    },
    {
      "cell_type": "code",
      "source": [
        "# convert model input data to arrays\n",
        "x_train = np.array([np.array(val) for val in traindf['text']])\n",
        "x_val = np.array([np.array(val) for val in validdf['text']])\n",
        "\n",
        "y_train = np.array([np.array(val) for val in traindf['intent']])\n",
        "y_val = np.array([np.array(val) for val in validdf['intent']])"
      ],
      "metadata": {
        "id": "3agWaghCEeCp"
      },
      "execution_count": null,
      "outputs": []
    },
    {
      "cell_type": "markdown",
      "source": [
        "**MLP Training**\n",
        "\n",
        "Model 1"
      ],
      "metadata": {
        "id": "DjFmAMQxbJc0"
      }
    },
    {
      "cell_type": "code",
      "source": [
        "# model definition\n",
        "num_tokens = len(voc) + 2\n",
        "embedding_dim = 8\n",
        "\n",
        "model1 = tf.keras.Sequential([\n",
        "  layers.Embedding(num_tokens, embedding_dim, input_length=sequence_length, name='Embedding_1'),\n",
        "  layers.Flatten(name='Flatten_1'),\n",
        "  layers.Dense(16, activation='relu', name='Dense_1'),\n",
        "  layers.Dropout(0.2, name='Dropout_1'),\n",
        "  layers.Dense(7, activation='softmax', name='Dense_2')])\n",
        "\n",
        "model1._name = 'ModelwithIntEncodingAndFlatten'\n",
        "model1.summary()"
      ],
      "metadata": {
        "colab": {
          "base_uri": "https://localhost:8080/"
        },
        "id": "RFiI-qTxvz0l",
        "outputId": "68016d12-8955-44f6-af6d-6314e0bbedfc"
      },
      "execution_count": null,
      "outputs": [
        {
          "output_type": "stream",
          "name": "stdout",
          "text": [
            "Model: \"ModelwithIntEncodingAndFlatten\"\n",
            "_________________________________________________________________\n",
            " Layer (type)                Output Shape              Param #   \n",
            "=================================================================\n",
            " Embedding_1 (Embedding)     (None, 65, 8)             75520     \n",
            "                                                                 \n",
            " Flatten_1 (Flatten)         (None, 520)               0         \n",
            "                                                                 \n",
            " Dense_1 (Dense)             (None, 16)                8336      \n",
            "                                                                 \n",
            " Dropout_1 (Dropout)         (None, 16)                0         \n",
            "                                                                 \n",
            " Dense_2 (Dense)             (None, 7)                 119       \n",
            "                                                                 \n",
            "=================================================================\n",
            "Total params: 83,975\n",
            "Trainable params: 83,975\n",
            "Non-trainable params: 0\n",
            "_________________________________________________________________\n"
          ]
        }
      ]
    },
    {
      "cell_type": "code",
      "source": [
        "# model compiling\n",
        "model1.compile(loss='sparse_categorical_crossentropy',\n",
        "              optimizer='adam',\n",
        "              metrics='accuracy')\n",
        "\n",
        "# model training\n",
        "epochs = 10\n",
        "%time history = model1.fit(x_train, y_train, validation_data=(x_val, y_val), epochs=epochs)"
      ],
      "metadata": {
        "colab": {
          "base_uri": "https://localhost:8080/"
        },
        "id": "eTcA1h9GwUzr",
        "outputId": "7f2190d9-f3ec-440e-f2a7-c8f2bfef322e"
      },
      "execution_count": null,
      "outputs": [
        {
          "output_type": "stream",
          "name": "stdout",
          "text": [
            "Epoch 1/10\n",
            "311/311 [==============================] - 2s 3ms/step - loss: 1.6254 - accuracy: 0.3559 - val_loss: 1.0744 - val_accuracy: 0.7226\n",
            "Epoch 2/10\n",
            "311/311 [==============================] - 1s 3ms/step - loss: 0.7856 - accuracy: 0.7496 - val_loss: 0.3797 - val_accuracy: 0.9400\n",
            "Epoch 3/10\n",
            "311/311 [==============================] - 1s 3ms/step - loss: 0.3991 - accuracy: 0.8859 - val_loss: 0.2279 - val_accuracy: 0.9561\n",
            "Epoch 4/10\n",
            "311/311 [==============================] - 1s 3ms/step - loss: 0.2814 - accuracy: 0.9183 - val_loss: 0.1788 - val_accuracy: 0.9595\n",
            "Epoch 5/10\n",
            "311/311 [==============================] - 1s 3ms/step - loss: 0.2307 - accuracy: 0.9275 - val_loss: 0.1568 - val_accuracy: 0.9621\n",
            "Epoch 6/10\n",
            "311/311 [==============================] - 1s 3ms/step - loss: 0.1907 - accuracy: 0.9373 - val_loss: 0.1462 - val_accuracy: 0.9655\n",
            "Epoch 7/10\n",
            "311/311 [==============================] - 1s 3ms/step - loss: 0.1524 - accuracy: 0.9517 - val_loss: 0.1398 - val_accuracy: 0.9678\n",
            "Epoch 8/10\n",
            "311/311 [==============================] - 1s 3ms/step - loss: 0.1244 - accuracy: 0.9609 - val_loss: 0.1354 - val_accuracy: 0.9675\n",
            "Epoch 9/10\n",
            "311/311 [==============================] - 1s 2ms/step - loss: 0.1082 - accuracy: 0.9659 - val_loss: 0.1303 - val_accuracy: 0.9672\n",
            "Epoch 10/10\n",
            "311/311 [==============================] - 1s 3ms/step - loss: 0.1017 - accuracy: 0.9690 - val_loss: 0.1363 - val_accuracy: 0.9675\n",
            "CPU times: user 10.2 s, sys: 969 ms, total: 11.2 s\n",
            "Wall time: 9.2 s\n"
          ]
        }
      ]
    },
    {
      "cell_type": "code",
      "source": [
        "# plot the graphs\n",
        "history_dict = history.history # dictionary of result values\n",
        "epochs = range(1, len(history_dict['accuracy']) + 1) # number of epochs\n",
        "\n",
        "# plot for loss\n",
        "plt.plot(epochs, history_dict['loss'], 'bo', label='Training loss')\n",
        "plt.plot(epochs, history_dict['val_loss'], 'b', label='Validation loss')\n",
        "plt.title('Training and validation loss')\n",
        "plt.xlabel('Epochs')\n",
        "plt.ylabel('Loss')\n",
        "plt.legend()\n",
        "plt.show()\n",
        "\n",
        "# plot for accuracy\n",
        "plt.plot(epochs, history_dict['accuracy'], 'bo', label='Training acc')\n",
        "plt.plot(epochs, history_dict['val_accuracy'], 'b', label='Validation acc')\n",
        "plt.title('Training and validation accuracy')\n",
        "plt.xlabel('Epochs')\n",
        "plt.ylabel('Accuracy')\n",
        "plt.legend(loc='lower right')\n",
        "plt.show()"
      ],
      "metadata": {
        "colab": {
          "base_uri": "https://localhost:8080/",
          "height": 573
        },
        "id": "VA8DK2ENzwND",
        "outputId": "fe09c79f-d0e5-4e62-c90e-2ab0526c3519"
      },
      "execution_count": null,
      "outputs": [
        {
          "output_type": "display_data",
          "data": {
            "text/plain": [
              "<Figure size 432x288 with 1 Axes>"
            ],
            "image/png": "[encoded data removed]"
          },
          "metadata": {
            "needs_background": "light"
          }
        },
        {
          "output_type": "display_data",
          "data": {
            "text/plain": [
              "<Figure size 432x288 with 1 Axes>"
            ],
            "image/png": "[encoded data removed]"
          },
          "metadata": {
            "needs_background": "light"
          }
        }
      ]
    },
    {
      "cell_type": "markdown",
      "source": [
        "Model 2"
      ],
      "metadata": {
        "id": "opkuqK5UxACp"
      }
    },
    {
      "cell_type": "code",
      "source": [
        "# model definition\n",
        "num_tokens = len(voc) + 2\n",
        "embedding_dim = 8\n",
        "\n",
        "model2 = tf.keras.Sequential([\n",
        "  layers.Embedding(num_tokens, embedding_dim, input_length=sequence_length, name='Embedding_1'),\n",
        "  layers.GlobalAveragePooling1D(name='GlobalAveragePool_1'),\n",
        "  layers.Dense(32, activation='relu', name='Dense_1'),\n",
        "  layers.Dropout(0.2, name='Dropout_1'),\n",
        "  layers.Dense(7, activation='softmax', name='Dense_2')])\n",
        "\n",
        "model2._name = 'ModelwithIntEncodingAndGlobalAveragePool'\n",
        "model2.summary()"
      ],
      "metadata": {
        "id": "-tiAKnUJJhlQ",
        "colab": {
          "base_uri": "https://localhost:8080/"
        },
        "outputId": "9fbce78c-0283-48bf-9886-0043482ddc56"
      },
      "execution_count": null,
      "outputs": [
        {
          "output_type": "stream",
          "name": "stdout",
          "text": [
            "Model: \"ModelwithIntEncodingAndGlobalAveragePool\"\n",
            "_________________________________________________________________\n",
            " Layer (type)                Output Shape              Param #   \n",
            "=================================================================\n",
            " Embedding_1 (Embedding)     (None, 65, 8)             75520     \n",
            "                                                                 \n",
            " GlobalAveragePool_1 (Global  (None, 8)                0         \n",
            " AveragePooling1D)                                               \n",
            "                                                                 \n",
            " Dense_1 (Dense)             (None, 32)                288       \n",
            "                                                                 \n",
            " Dropout_1 (Dropout)         (None, 32)                0         \n",
            "                                                                 \n",
            " Dense_2 (Dense)             (None, 7)                 231       \n",
            "                                                                 \n",
            "=================================================================\n",
            "Total params: 76,039\n",
            "Trainable params: 76,039\n",
            "Non-trainable params: 0\n",
            "_________________________________________________________________\n"
          ]
        }
      ]
    },
    {
      "cell_type": "code",
      "source": [
        "# model compiling\n",
        "model2.compile(loss='sparse_categorical_crossentropy',\n",
        "              optimizer='adam',\n",
        "              metrics='accuracy')\n",
        "\n",
        "# model training\n",
        "epochs = 15\n",
        "%time history = model2.fit(x_train, y_train, validation_data=(x_val, y_val), epochs=epochs)"
      ],
      "metadata": {
        "id": "VvfM-Kh6bdFx",
        "colab": {
          "base_uri": "https://localhost:8080/"
        },
        "outputId": "5bfc312f-8eca-4b7c-aefc-4b0780abe9a0"
      },
      "execution_count": null,
      "outputs": [
        {
          "output_type": "stream",
          "name": "stdout",
          "text": [
            "Epoch 1/15\n",
            "311/311 [==============================] - 1s 3ms/step - loss: 1.9317 - accuracy: 0.2320 - val_loss: 1.8858 - val_accuracy: 0.3176\n",
            "Epoch 2/15\n",
            "311/311 [==============================] - 1s 3ms/step - loss: 1.6593 - accuracy: 0.4563 - val_loss: 1.3904 - val_accuracy: 0.6007\n",
            "Epoch 3/15\n",
            "311/311 [==============================] - 1s 3ms/step - loss: 1.2110 - accuracy: 0.6372 - val_loss: 1.0072 - val_accuracy: 0.8375\n",
            "Epoch 4/15\n",
            "311/311 [==============================] - 1s 3ms/step - loss: 0.8712 - accuracy: 0.7973 - val_loss: 0.6790 - val_accuracy: 0.9156\n",
            "Epoch 5/15\n",
            "311/311 [==============================] - 1s 3ms/step - loss: 0.6066 - accuracy: 0.8629 - val_loss: 0.4791 - val_accuracy: 0.9363\n",
            "Epoch 6/15\n",
            "311/311 [==============================] - 1s 3ms/step - loss: 0.4479 - accuracy: 0.9044 - val_loss: 0.3584 - val_accuracy: 0.9407\n",
            "Epoch 7/15\n",
            "311/311 [==============================] - 1s 2ms/step - loss: 0.3448 - accuracy: 0.9220 - val_loss: 0.2814 - val_accuracy: 0.9534\n",
            "Epoch 8/15\n",
            "311/311 [==============================] - 1s 3ms/step - loss: 0.2691 - accuracy: 0.9415 - val_loss: 0.2320 - val_accuracy: 0.9511\n",
            "Epoch 9/15\n",
            "311/311 [==============================] - 1s 2ms/step - loss: 0.2216 - accuracy: 0.9496 - val_loss: 0.1896 - val_accuracy: 0.9642\n",
            "Epoch 10/15\n",
            "311/311 [==============================] - 1s 3ms/step - loss: 0.1760 - accuracy: 0.9620 - val_loss: 0.1596 - val_accuracy: 0.9685\n",
            "Epoch 11/15\n",
            "311/311 [==============================] - 1s 2ms/step - loss: 0.1440 - accuracy: 0.9681 - val_loss: 0.1412 - val_accuracy: 0.9692\n",
            "Epoch 12/15\n",
            "311/311 [==============================] - 1s 3ms/step - loss: 0.1224 - accuracy: 0.9736 - val_loss: 0.1259 - val_accuracy: 0.9715\n",
            "Epoch 13/15\n",
            "311/311 [==============================] - 1s 3ms/step - loss: 0.1068 - accuracy: 0.9756 - val_loss: 0.1160 - val_accuracy: 0.9725\n",
            "Epoch 14/15\n",
            "311/311 [==============================] - 1s 3ms/step - loss: 0.0931 - accuracy: 0.9785 - val_loss: 0.1094 - val_accuracy: 0.9725\n",
            "Epoch 15/15\n",
            "311/311 [==============================] - 1s 3ms/step - loss: 0.0848 - accuracy: 0.9801 - val_loss: 0.1032 - val_accuracy: 0.9722\n",
            "CPU times: user 14.3 s, sys: 1.29 s, total: 15.6 s\n",
            "Wall time: 12.9 s\n"
          ]
        }
      ]
    },
    {
      "cell_type": "code",
      "source": [
        "# plot the graphs\n",
        "history_dict = history.history # dictionary of result values\n",
        "epochs = range(1, len(history_dict['accuracy']) + 1) # number of epochs\n",
        "\n",
        "# plot for loss\n",
        "plt.plot(epochs, history_dict['loss'], 'bo', label='Training loss')\n",
        "plt.plot(epochs, history_dict['val_loss'], 'b', label='Validation loss')\n",
        "plt.title('Training and validation loss')\n",
        "plt.xlabel('Epochs')\n",
        "plt.ylabel('Loss')\n",
        "plt.legend()\n",
        "plt.show()\n",
        "\n",
        "# plot for accuracy\n",
        "plt.plot(epochs, history_dict['accuracy'], 'bo', label='Training acc')\n",
        "plt.plot(epochs, history_dict['val_accuracy'], 'b', label='Validation acc')\n",
        "plt.title('Training and validation accuracy')\n",
        "plt.xlabel('Epochs')\n",
        "plt.ylabel('Accuracy')\n",
        "plt.legend(loc='lower right')\n",
        "plt.show()"
      ],
      "metadata": {
        "colab": {
          "base_uri": "https://localhost:8080/",
          "height": 573
        },
        "id": "xALkGV6Pznr5",
        "outputId": "dd80df6b-f22a-4513-ea3a-bef7cd470e81"
      },
      "execution_count": null,
      "outputs": [
        {
          "output_type": "display_data",
          "data": {
            "text/plain": [
              "<Figure size 432x288 with 1 Axes>"
            ],
            "image/png": "[encoded data removed]"
          },
          "metadata": {
            "needs_background": "light"
          }
        },
        {
          "output_type": "display_data",
          "data": {
            "text/plain": [
              "<Figure size 432x288 with 1 Axes>"
            ],
            "image/png": "[encoded data removed]"
          },
          "metadata": {
            "needs_background": "light"
          }
        }
      ]
    },
    {
      "cell_type": "markdown",
      "source": [
        "**Evaluate Model**"
      ],
      "metadata": {
        "id": "Lqi80zysdVyY"
      }
    },
    {
      "cell_type": "code",
      "source": [
        "# evaluate model on test dataset\n",
        "x_test = np.array([np.array(val) for val in testdf['text']])\n",
        "y_test = np.array([np.array(val) for val in testdf['intent']])\n",
        "# model 1 evaluation\n",
        "print('Model 1 Evaluation on Test Set:')\n",
        "loss, accuracy = model1.evaluate(x_test, y_test)\n",
        "print(\"Loss: \", loss)\n",
        "print(\"Accuracy: \", accuracy)\n",
        "# model 2 evaluation\n",
        "print('\\nModel 2 Evaluation on Test Set:')\n",
        "loss, accuracy = model2.evaluate(x_test, y_test)\n",
        "print(\"Loss: \", loss)\n",
        "print(\"Accuracy: \", accuracy)"
      ],
      "metadata": {
        "colab": {
          "base_uri": "https://localhost:8080/"
        },
        "id": "yyNR3LFEdZWx",
        "outputId": "e0fc151f-acb7-46ca-f145-4ba5e57a0dc6"
      },
      "execution_count": null,
      "outputs": [
        {
          "output_type": "stream",
          "name": "stdout",
          "text": [
            "Model 1 Evaluation on Test Set:\n",
            "40/40 [==============================] - 0s 2ms/step - loss: 0.1277 - accuracy: 0.9672\n",
            "Loss:  0.12768003344535828\n",
            "Accuracy:  0.9671875238418579\n",
            "\n",
            "Model 2 Evaluation on Test Set:\n",
            "40/40 [==============================] - 0s 1ms/step - loss: 0.1056 - accuracy: 0.9711\n",
            "Loss:  0.10557307302951813\n",
            "Accuracy:  0.9710937738418579\n"
          ]
        }
      ]
    },
    {
      "cell_type": "markdown",
      "source": [
        "**Export Best Model**"
      ],
      "metadata": {
        "id": "OOCtwhBJI-ri"
      }
    },
    {
      "cell_type": "code",
      "source": [
        "# save the model\n",
        "export_model = tf.keras.Sequential([\n",
        "  tf.keras.Input(shape=(1,), dtype=\"string\"),\n",
        "  vectorize_layer,\n",
        "  model2 ]) # saving model 2\n",
        "\n",
        "export_model.save('saved_model/model2_intencoding', save_format='tf')"
      ],
      "metadata": {
        "colab": {
          "base_uri": "https://localhost:8080/"
        },
        "id": "UU3Z3GZ03Jp1",
        "outputId": "b171fdcf-7d9d-4788-e260-457834ee0fa8"
      },
      "execution_count": null,
      "outputs": [
        {
          "output_type": "stream",
          "name": "stderr",
          "text": [
            "WARNING:tensorflow:Compiled the loaded model, but the compiled metrics have yet to be built. `model.compile_metrics` will be empty until you train or evaluate the model.\n"
          ]
        }
      ]
    },
    {
      "cell_type": "markdown",
      "source": [
        "**Conclusion:**\n",
        "\n",
        "**Model 1:**\n",
        "\n",
        "INPUT => EMBEDDING(int encoding) => FLATTEN => FC => RELU => DO => FC => SOFTMAX\n",
        "1.   Trainable Parameters: 83,975\n",
        "1.   Epochs: 10\n",
        "2.   Loss and Accuracy:\n",
        "    *   Training Loss: 0.1017 - Training Accuracy: 0.9690\n",
        "    *   Validation Loss: 0.1363 - Validation Accuracy: 0.9675\n",
        "    *   Testing Loss: 0.1276 - Testing Accuracy: 0.9671\n",
        "3.   Wall Time: 9.2s\n",
        "**Model 2:**\n",
        "\n",
        "INPUT => EMBEDDING(int encoding) => GAP1D => FC => RELU => DO => FC => SOFTMAX\n",
        "1.   Trainable Parameters: 76,039\n",
        "1.   Epochs: 15\n",
        "2.   Loss and Accuracy:\n",
        "    *   Training Loss: 0.0437 - Training Accuracy: 0.9885\n",
        "    *   Validation Loss: 0.1214 - Validation Accuracy: 0.9712\n",
        "    *   Testing Loss: 0.1055 - Testing Accuracy: 0.9710\n",
        "3.   Wall Time: 12.9s\n",
        "\n",
        "**ANALYSIS:**\n",
        "\n",
        "1.   Model 1's flatten layer leads to more trainable parameters compared to Model 2 that uses GlobalAveragePooling1D.\n",
        "2.   Better performance is achieved by model 2."
      ],
      "metadata": {
        "id": "BMewobBSR9Kj"
      }
    }
  ]
}