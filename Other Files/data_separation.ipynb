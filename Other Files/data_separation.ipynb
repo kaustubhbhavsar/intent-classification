{
  "nbformat": 4,
  "nbformat_minor": 0,
  "metadata": {
    "colab": {
      "provenance": [],
      "toc_visible": true
    },
    "kernelspec": {
      "name": "python3",
      "display_name": "Python 3"
    },
    "language_info": {
      "name": "python"
    }
  },
  "cells": [
    {
      "cell_type": "markdown",
      "source": [
        "AIM: To remove duplicates and split the data into train-test-valid files."
      ],
      "metadata": {
        "id": "Qdp9PQmo1xxw"
      }
    },
    {
      "cell_type": "code",
      "source": [
        "# import libraries\n",
        "from sklearn.model_selection import train_test_split\n",
        "\n",
        "from google.colab import drive, files\n",
        "import pandas as pd\n",
        "import os"
      ],
      "metadata": {
        "id": "988uTMlPhthO"
      },
      "execution_count": null,
      "outputs": []
    },
    {
      "cell_type": "code",
      "execution_count": null,
      "metadata": {
        "id": "hV-0L7Eu2XAL",
        "colab": {
          "base_uri": "https://localhost:8080/"
        },
        "outputId": "42d5777c-ad3e-46cb-80ef-d19149a9b7b0"
      },
      "outputs": [
        {
          "output_type": "stream",
          "name": "stdout",
          "text": [
            "Mounted at /content/gdrive\n",
            "['data_file.csv']\n"
          ]
        }
      ],
      "source": [
        "# mount google drive and connect working directory\n",
        "drive.mount('/content/gdrive', force_remount = True)\n",
        "print (sorted(os.listdir('gdrive/My Drive/Colab Helper/ICData/Dataset')))\n",
        "os.chdir('gdrive/My Drive/Colab Helper/ICData/Dataset') # Connect to the directory"
      ]
    },
    {
      "cell_type": "markdown",
      "source": [
        "Observations: \n",
        "\n",
        "1.   Number of features: 2 (Text and Intent)\n",
        "1.   Number of total observations: 14484 \n",
        "2.   Number of duplicate observations: 268\n",
        "3.   Number of observations left after removing duplicates: 14216"
      ],
      "metadata": {
        "id": "roTM5LDrs4si"
      }
    },
    {
      "cell_type": "code",
      "source": [
        "# read file and print it's shape\n",
        "data_df = pd.read_csv('data_file.csv', usecols=['text','intent'])\n",
        "print('Shape: ', data_df.shape)"
      ],
      "metadata": {
        "colab": {
          "base_uri": "https://localhost:8080/"
        },
        "id": "NyYBcisyt_ki",
        "outputId": "8e4f39af-6d17-4d17-89f5-711bfbe449c8"
      },
      "execution_count": null,
      "outputs": [
        {
          "output_type": "stream",
          "name": "stdout",
          "text": [
            "Shape:  (14484, 2)\n"
          ]
        }
      ]
    },
    {
      "cell_type": "code",
      "source": [
        "# check for duplicate rows\n",
        "duplicate = data_df[data_df.duplicated()]\n",
        "print(\"Duplicate Rows :\", duplicate)"
      ],
      "metadata": {
        "colab": {
          "base_uri": "https://localhost:8080/"
        },
        "id": "mSv1fqQcpHZ2",
        "outputId": "28778508-71b9-4479-8ed1-e9ddfbd31d52"
      },
      "execution_count": null,
      "outputs": [
        {
          "output_type": "stream",
          "name": "stdout",
          "text": [
            "Duplicate Rows :                                        text                intent\n",
            "546                        find movie times  SearchScreeningEvent\n",
            "810                   find a movie schedule  SearchScreeningEvent\n",
            "1080                   find movie schedules  SearchScreeningEvent\n",
            "1218           what are the movie schedules  SearchScreeningEvent\n",
            "1620                       find movie times  SearchScreeningEvent\n",
            "...                                     ...                   ...\n",
            "14419             can i get the movie times  SearchScreeningEvent\n",
            "14472              what are the movie times  SearchScreeningEvent\n",
            "14473  where can i find the movie schedules  SearchScreeningEvent\n",
            "14476              what are the movie times  SearchScreeningEvent\n",
            "14478       what films are playing close by  SearchScreeningEvent\n",
            "\n",
            "[268 rows x 2 columns]\n"
          ]
        }
      ]
    },
    {
      "cell_type": "code",
      "source": [
        "# drop duplicate rows\n",
        "data_df.drop_duplicates(inplace=True)\n",
        "print('Shape (without duplicates): ', data_df.shape)"
      ],
      "metadata": {
        "colab": {
          "base_uri": "https://localhost:8080/"
        },
        "id": "EvbP6HJ4rVrc",
        "outputId": "d5c50022-93d9-4d3b-b983-e0c861e676b1"
      },
      "execution_count": null,
      "outputs": [
        {
          "output_type": "stream",
          "name": "stdout",
          "text": [
            "Shape (without duplicates):  (14216, 2)\n"
          ]
        }
      ]
    },
    {
      "cell_type": "markdown",
      "source": [
        "Observations:\n",
        "\n",
        "1.   Number of observations in train set: 9951\n",
        "2.   Number of observations in valid set: 2985\n",
        "3.   Number of observations in test set: 1280\n",
        "\n"
      ],
      "metadata": {
        "id": "jjuUqbgauKff"
      }
    },
    {
      "cell_type": "code",
      "source": [
        "# split into train-valid-test dataset\n",
        "random_seed = 70 # setting seed\n",
        "train_df, testdf = train_test_split(\n",
        "    data_df, test_size=0.3, stratify=data_df[\"intent\"].values, random_state=random_seed\n",
        ")\n",
        "valid_df, test_df = train_test_split(\n",
        "    testdf, test_size=0.3, stratify=testdf[\"intent\"].values, random_state=random_seed\n",
        ")\n",
        "print('Train Shape: ', train_df.shape)\n",
        "print('Valid Shape: ', valid_df.shape)\n",
        "print('Test Shape: ', test_df.shape)"
      ],
      "metadata": {
        "colab": {
          "base_uri": "https://localhost:8080/"
        },
        "id": "lWGHj61oKlgh",
        "outputId": "e87d127b-adec-4317-db32-3c6231183d90"
      },
      "execution_count": null,
      "outputs": [
        {
          "output_type": "stream",
          "name": "stdout",
          "text": [
            "Train Shape:  (9951, 2)\n",
            "Valid Shape:  (2985, 2)\n",
            "Test Shape:  (1280, 2)\n"
          ]
        }
      ]
    },
    {
      "cell_type": "code",
      "source": [
        "# save train-test-valid dataframes into separate csv files\n",
        "train_df.to_csv('train_.csv')\n",
        "test_df.to_csv('test_.csv')\n",
        "valid_df.to_csv('valid_.csv')\n",
        "\n",
        "# download the csv files\n",
        "files.download('train_.csv')\n",
        "files.download('test_.csv')\n",
        "files.download('valid_.csv')"
      ],
      "metadata": {
        "colab": {
          "base_uri": "https://localhost:8080/",
          "height": 17
        },
        "id": "b9uqh0BBObmG",
        "outputId": "4ac22b04-e5e8-4e45-cc65-180d8a9a35bb"
      },
      "execution_count": null,
      "outputs": [
        {
          "output_type": "display_data",
          "data": {
            "text/plain": [
              "<IPython.core.display.Javascript object>"
            ],
            "application/javascript": [
              "\n",
              "    async function download(id, filename, size) {\n",
              "      if (!google.colab.kernel.accessAllowed) {\n",
              "        return;\n",
              "      }\n",
              "      const div = document.createElement('div');\n",
              "      const label = document.createElement('label');\n",
              "      label.textContent = `Downloading \"${filename}\": `;\n",
              "      div.appendChild(label);\n",
              "      const progress = document.createElement('progress');\n",
              "      progress.max = size;\n",
              "      div.appendChild(progress);\n",
              "      document.body.appendChild(div);\n",
              "\n",
              "      const buffers = [];\n",
              "      let downloaded = 0;\n",
              "\n",
              "      const channel = await google.colab.kernel.comms.open(id);\n",
              "      // Send a message to notify the kernel that we're ready.\n",
              "      channel.send({})\n",
              "\n",
              "      for await (const message of channel.messages) {\n",
              "        // Send a message to notify the kernel that we're ready.\n",
              "        channel.send({})\n",
              "        if (message.buffers) {\n",
              "          for (const buffer of message.buffers) {\n",
              "            buffers.push(buffer);\n",
              "            downloaded += buffer.byteLength;\n",
              "            progress.value = downloaded;\n",
              "          }\n",
              "        }\n",
              "      }\n",
              "      const blob = new Blob(buffers, {type: 'application/binary'});\n",
              "      const a = document.createElement('a');\n",
              "      a.href = window.URL.createObjectURL(blob);\n",
              "      a.download = filename;\n",
              "      div.appendChild(a);\n",
              "      a.click();\n",
              "      div.remove();\n",
              "    }\n",
              "  "
            ]
          },
          "metadata": {}
        },
        {
          "output_type": "display_data",
          "data": {
            "text/plain": [
              "<IPython.core.display.Javascript object>"
            ],
            "application/javascript": [
              "download(\"download_5bc9713e-0b2a-4555-b570-f2ecd82b75cd\", \"train_.csv\", 661227)"
            ]
          },
          "metadata": {}
        },
        {
          "output_type": "display_data",
          "data": {
            "text/plain": [
              "<IPython.core.display.Javascript object>"
            ],
            "application/javascript": [
              "\n",
              "    async function download(id, filename, size) {\n",
              "      if (!google.colab.kernel.accessAllowed) {\n",
              "        return;\n",
              "      }\n",
              "      const div = document.createElement('div');\n",
              "      const label = document.createElement('label');\n",
              "      label.textContent = `Downloading \"${filename}\": `;\n",
              "      div.appendChild(label);\n",
              "      const progress = document.createElement('progress');\n",
              "      progress.max = size;\n",
              "      div.appendChild(progress);\n",
              "      document.body.appendChild(div);\n",
              "\n",
              "      const buffers = [];\n",
              "      let downloaded = 0;\n",
              "\n",
              "      const channel = await google.colab.kernel.comms.open(id);\n",
              "      // Send a message to notify the kernel that we're ready.\n",
              "      channel.send({})\n",
              "\n",
              "      for await (const message of channel.messages) {\n",
              "        // Send a message to notify the kernel that we're ready.\n",
              "        channel.send({})\n",
              "        if (message.buffers) {\n",
              "          for (const buffer of message.buffers) {\n",
              "            buffers.push(buffer);\n",
              "            downloaded += buffer.byteLength;\n",
              "            progress.value = downloaded;\n",
              "          }\n",
              "        }\n",
              "      }\n",
              "      const blob = new Blob(buffers, {type: 'application/binary'});\n",
              "      const a = document.createElement('a');\n",
              "      a.href = window.URL.createObjectURL(blob);\n",
              "      a.download = filename;\n",
              "      div.appendChild(a);\n",
              "      a.click();\n",
              "      div.remove();\n",
              "    }\n",
              "  "
            ]
          },
          "metadata": {}
        },
        {
          "output_type": "display_data",
          "data": {
            "text/plain": [
              "<IPython.core.display.Javascript object>"
            ],
            "application/javascript": [
              "download(\"download_72c0ff60-46aa-4c30-9d86-df1d7fab770f\", \"test_.csv\", 85913)"
            ]
          },
          "metadata": {}
        },
        {
          "output_type": "display_data",
          "data": {
            "text/plain": [
              "<IPython.core.display.Javascript object>"
            ],
            "application/javascript": [
              "\n",
              "    async function download(id, filename, size) {\n",
              "      if (!google.colab.kernel.accessAllowed) {\n",
              "        return;\n",
              "      }\n",
              "      const div = document.createElement('div');\n",
              "      const label = document.createElement('label');\n",
              "      label.textContent = `Downloading \"${filename}\": `;\n",
              "      div.appendChild(label);\n",
              "      const progress = document.createElement('progress');\n",
              "      progress.max = size;\n",
              "      div.appendChild(progress);\n",
              "      document.body.appendChild(div);\n",
              "\n",
              "      const buffers = [];\n",
              "      let downloaded = 0;\n",
              "\n",
              "      const channel = await google.colab.kernel.comms.open(id);\n",
              "      // Send a message to notify the kernel that we're ready.\n",
              "      channel.send({})\n",
              "\n",
              "      for await (const message of channel.messages) {\n",
              "        // Send a message to notify the kernel that we're ready.\n",
              "        channel.send({})\n",
              "        if (message.buffers) {\n",
              "          for (const buffer of message.buffers) {\n",
              "            buffers.push(buffer);\n",
              "            downloaded += buffer.byteLength;\n",
              "            progress.value = downloaded;\n",
              "          }\n",
              "        }\n",
              "      }\n",
              "      const blob = new Blob(buffers, {type: 'application/binary'});\n",
              "      const a = document.createElement('a');\n",
              "      a.href = window.URL.createObjectURL(blob);\n",
              "      a.download = filename;\n",
              "      div.appendChild(a);\n",
              "      a.click();\n",
              "      div.remove();\n",
              "    }\n",
              "  "
            ]
          },
          "metadata": {}
        },
        {
          "output_type": "display_data",
          "data": {
            "text/plain": [
              "<IPython.core.display.Javascript object>"
            ],
            "application/javascript": [
              "download(\"download_f72b992f-bb01-41d1-b41d-acd3aef97459\", \"valid_.csv\", 199684)"
            ]
          },
          "metadata": {}
        }
      ]
    },
    {
      "cell_type": "markdown",
      "source": [
        "**Conclusion:**\n",
        "\n",
        "1.   Total observations (with duplicates): 14484\n",
        "2.   Total observations (without duplicates): 14216\n",
        "    *   Total train: 9951\n",
        "    *   Total valid: 2985\n",
        "    *   Total test: 1280\n",
        "3.   Columns: 2 (Text and Intent)"
      ],
      "metadata": {
        "id": "beX8fQBqxuaD"
      }
    }
  ]
}